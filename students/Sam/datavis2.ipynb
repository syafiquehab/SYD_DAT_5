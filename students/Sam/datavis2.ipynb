{
 "cells": [
  {
   "cell_type": "code",
   "execution_count": 1,
   "metadata": {
    "collapsed": true
   },
   "outputs": [],
   "source": [
    "import pandas as pd\n"
   ]
  },
  {
   "cell_type": "code",
   "execution_count": 2,
   "metadata": {
    "collapsed": true
   },
   "outputs": [],
   "source": [
    "all_trains = pd.read_csv('data/sydtrains.csv', thousands=',', index_col=1)"
   ]
  },
  {
   "cell_type": "code",
   "execution_count": 3,
   "metadata": {
    "collapsed": true
   },
   "outputs": [],
   "source": [
    "cbd2014 = all_trains[(all_trains.LINE == 'CBD') & (all_trains.YEAR == 2014)]"
   ]
  },
  {
   "cell_type": "code",
   "execution_count": 4,
   "metadata": {
    "collapsed": false
   },
   "outputs": [
    {
     "data": {
      "text/html": [
       "<div>\n",
       "<table border=\"1\" class=\"dataframe\">\n",
       "  <thead>\n",
       "    <tr style=\"text-align: right;\">\n",
       "      <th></th>\n",
       "      <th>LINE</th>\n",
       "      <th>YEAR</th>\n",
       "      <th>SURVEY_DATE_USED</th>\n",
       "      <th>WHETHER_SURVEYED</th>\n",
       "      <th>IN_0200_0600</th>\n",
       "      <th>OUT_0200_0600</th>\n",
       "      <th>IN_0600_0930</th>\n",
       "      <th>OUT_0600_0930</th>\n",
       "      <th>IN_0930_1500</th>\n",
       "      <th>OUT_0930_1500</th>\n",
       "      <th>IN_1500_1830</th>\n",
       "      <th>OUT_1500_1830</th>\n",
       "      <th>IN_1830_0200</th>\n",
       "      <th>OUT_1830_0200</th>\n",
       "      <th>IN_24_HOURS</th>\n",
       "      <th>OUT_24_HOURS</th>\n",
       "      <th>RANK</th>\n",
       "      <th>STATION_SORT_ID</th>\n",
       "    </tr>\n",
       "    <tr>\n",
       "      <th>STATION</th>\n",
       "      <th></th>\n",
       "      <th></th>\n",
       "      <th></th>\n",
       "      <th></th>\n",
       "      <th></th>\n",
       "      <th></th>\n",
       "      <th></th>\n",
       "      <th></th>\n",
       "      <th></th>\n",
       "      <th></th>\n",
       "      <th></th>\n",
       "      <th></th>\n",
       "      <th></th>\n",
       "      <th></th>\n",
       "      <th></th>\n",
       "      <th></th>\n",
       "      <th></th>\n",
       "      <th></th>\n",
       "    </tr>\n",
       "  </thead>\n",
       "  <tbody>\n",
       "    <tr>\n",
       "      <th>Central</th>\n",
       "      <td>CBD</td>\n",
       "      <td>2014</td>\n",
       "      <td>6/05/2014</td>\n",
       "      <td>Yes</td>\n",
       "      <td>940</td>\n",
       "      <td>920</td>\n",
       "      <td>10390</td>\n",
       "      <td>42070</td>\n",
       "      <td>21400</td>\n",
       "      <td>30150</td>\n",
       "      <td>45370</td>\n",
       "      <td>16270</td>\n",
       "      <td>19010</td>\n",
       "      <td>7700</td>\n",
       "      <td>97110</td>\n",
       "      <td>97110</td>\n",
       "      <td>1</td>\n",
       "      <td>101</td>\n",
       "    </tr>\n",
       "    <tr>\n",
       "      <th>Town Hall</th>\n",
       "      <td>CBD</td>\n",
       "      <td>2014</td>\n",
       "      <td>7/05/2014</td>\n",
       "      <td>Yes</td>\n",
       "      <td>880</td>\n",
       "      <td>880</td>\n",
       "      <td>6380</td>\n",
       "      <td>43210</td>\n",
       "      <td>16930</td>\n",
       "      <td>23550</td>\n",
       "      <td>43670</td>\n",
       "      <td>15270</td>\n",
       "      <td>21760</td>\n",
       "      <td>6720</td>\n",
       "      <td>89620</td>\n",
       "      <td>89620</td>\n",
       "      <td>2</td>\n",
       "      <td>102</td>\n",
       "    </tr>\n",
       "    <tr>\n",
       "      <th>Wynyard</th>\n",
       "      <td>CBD</td>\n",
       "      <td>2014</td>\n",
       "      <td>20/05/2014</td>\n",
       "      <td>Yes</td>\n",
       "      <td>590</td>\n",
       "      <td>570</td>\n",
       "      <td>4710</td>\n",
       "      <td>39620</td>\n",
       "      <td>9200</td>\n",
       "      <td>11180</td>\n",
       "      <td>35010</td>\n",
       "      <td>6510</td>\n",
       "      <td>10690</td>\n",
       "      <td>2330</td>\n",
       "      <td>60200</td>\n",
       "      <td>60200</td>\n",
       "      <td>3</td>\n",
       "      <td>103</td>\n",
       "    </tr>\n",
       "    <tr>\n",
       "      <th>Redfern</th>\n",
       "      <td>CBD</td>\n",
       "      <td>2014</td>\n",
       "      <td>1/05/2014</td>\n",
       "      <td>Yes</td>\n",
       "      <td>250</td>\n",
       "      <td>250</td>\n",
       "      <td>3910</td>\n",
       "      <td>10690</td>\n",
       "      <td>5350</td>\n",
       "      <td>8170</td>\n",
       "      <td>12510</td>\n",
       "      <td>4250</td>\n",
       "      <td>3660</td>\n",
       "      <td>2320</td>\n",
       "      <td>25680</td>\n",
       "      <td>25680</td>\n",
       "      <td>6</td>\n",
       "      <td>108</td>\n",
       "    </tr>\n",
       "    <tr>\n",
       "      <th>Circular Quay</th>\n",
       "      <td>CBD</td>\n",
       "      <td>2014</td>\n",
       "      <td>22/05/2014</td>\n",
       "      <td>Yes</td>\n",
       "      <td>200</td>\n",
       "      <td>200</td>\n",
       "      <td>2110</td>\n",
       "      <td>8750</td>\n",
       "      <td>4340</td>\n",
       "      <td>6710</td>\n",
       "      <td>9910</td>\n",
       "      <td>3380</td>\n",
       "      <td>4070</td>\n",
       "      <td>1600</td>\n",
       "      <td>20630</td>\n",
       "      <td>20630</td>\n",
       "      <td>10</td>\n",
       "      <td>104</td>\n",
       "    </tr>\n",
       "    <tr>\n",
       "      <th>Martin Place</th>\n",
       "      <td>CBD</td>\n",
       "      <td>2014</td>\n",
       "      <td>27/05/2014</td>\n",
       "      <td>Yes</td>\n",
       "      <td>200</td>\n",
       "      <td>190</td>\n",
       "      <td>590</td>\n",
       "      <td>14250</td>\n",
       "      <td>2900</td>\n",
       "      <td>3420</td>\n",
       "      <td>12340</td>\n",
       "      <td>1790</td>\n",
       "      <td>4600</td>\n",
       "      <td>970</td>\n",
       "      <td>20630</td>\n",
       "      <td>20630</td>\n",
       "      <td>10</td>\n",
       "      <td>107</td>\n",
       "    </tr>\n",
       "    <tr>\n",
       "      <th>Museum</th>\n",
       "      <td>CBD</td>\n",
       "      <td>2014</td>\n",
       "      <td>22/05/2014</td>\n",
       "      <td>Yes</td>\n",
       "      <td>100</td>\n",
       "      <td>100</td>\n",
       "      <td>800</td>\n",
       "      <td>6290</td>\n",
       "      <td>2220</td>\n",
       "      <td>2340</td>\n",
       "      <td>5980</td>\n",
       "      <td>1230</td>\n",
       "      <td>1760</td>\n",
       "      <td>910</td>\n",
       "      <td>10860</td>\n",
       "      <td>10860</td>\n",
       "      <td>22</td>\n",
       "      <td>106</td>\n",
       "    </tr>\n",
       "    <tr>\n",
       "      <th>St James</th>\n",
       "      <td>CBD</td>\n",
       "      <td>2014</td>\n",
       "      <td>27/05/2014</td>\n",
       "      <td>Yes</td>\n",
       "      <td>100</td>\n",
       "      <td>90</td>\n",
       "      <td>780</td>\n",
       "      <td>5880</td>\n",
       "      <td>1900</td>\n",
       "      <td>2160</td>\n",
       "      <td>5630</td>\n",
       "      <td>1120</td>\n",
       "      <td>1440</td>\n",
       "      <td>580</td>\n",
       "      <td>9850</td>\n",
       "      <td>9850</td>\n",
       "      <td>25</td>\n",
       "      <td>105</td>\n",
       "    </tr>\n",
       "  </tbody>\n",
       "</table>\n",
       "</div>"
      ],
      "text/plain": [
       "              LINE  YEAR SURVEY_DATE_USED WHETHER_SURVEYED  IN_0200_0600  \\\n",
       "STATION                                                                    \n",
       "Central        CBD  2014        6/05/2014              Yes           940   \n",
       "Town Hall      CBD  2014        7/05/2014              Yes           880   \n",
       "Wynyard        CBD  2014       20/05/2014              Yes           590   \n",
       "Redfern        CBD  2014        1/05/2014              Yes           250   \n",
       "Circular Quay  CBD  2014       22/05/2014              Yes           200   \n",
       "Martin Place   CBD  2014       27/05/2014              Yes           200   \n",
       "Museum         CBD  2014       22/05/2014              Yes           100   \n",
       "St James       CBD  2014       27/05/2014              Yes           100   \n",
       "\n",
       "               OUT_0200_0600  IN_0600_0930  OUT_0600_0930  IN_0930_1500  \\\n",
       "STATION                                                                   \n",
       "Central                  920         10390          42070         21400   \n",
       "Town Hall                880          6380          43210         16930   \n",
       "Wynyard                  570          4710          39620          9200   \n",
       "Redfern                  250          3910          10690          5350   \n",
       "Circular Quay            200          2110           8750          4340   \n",
       "Martin Place             190           590          14250          2900   \n",
       "Museum                   100           800           6290          2220   \n",
       "St James                  90           780           5880          1900   \n",
       "\n",
       "               OUT_0930_1500  IN_1500_1830  OUT_1500_1830  IN_1830_0200  \\\n",
       "STATION                                                                   \n",
       "Central                30150         45370          16270         19010   \n",
       "Town Hall              23550         43670          15270         21760   \n",
       "Wynyard                11180         35010           6510         10690   \n",
       "Redfern                 8170         12510           4250          3660   \n",
       "Circular Quay           6710          9910           3380          4070   \n",
       "Martin Place            3420         12340           1790          4600   \n",
       "Museum                  2340          5980           1230          1760   \n",
       "St James                2160          5630           1120          1440   \n",
       "\n",
       "               OUT_1830_0200  IN_24_HOURS  OUT_24_HOURS  RANK  STATION_SORT_ID  \n",
       "STATION                                                                         \n",
       "Central                 7700        97110         97110     1              101  \n",
       "Town Hall               6720        89620         89620     2              102  \n",
       "Wynyard                 2330        60200         60200     3              103  \n",
       "Redfern                 2320        25680         25680     6              108  \n",
       "Circular Quay           1600        20630         20630    10              104  \n",
       "Martin Place             970        20630         20630    10              107  \n",
       "Museum                   910        10860         10860    22              106  \n",
       "St James                 580         9850          9850    25              105  "
      ]
     },
     "execution_count": 4,
     "metadata": {},
     "output_type": "execute_result"
    }
   ],
   "source": [
    "cbd2014"
   ]
  },
  {
   "cell_type": "code",
   "execution_count": 5,
   "metadata": {
    "collapsed": true
   },
   "outputs": [],
   "source": [
    "import matplotlib.pyplot"
   ]
  },
  {
   "cell_type": "code",
   "execution_count": 6,
   "metadata": {
    "collapsed": true
   },
   "outputs": [],
   "source": [
    "%matplotlib inline"
   ]
  },
  {
   "cell_type": "code",
   "execution_count": 16,
   "metadata": {
    "collapsed": false
   },
   "outputs": [
    {
     "data": {
      "text/plain": [
       "<matplotlib.axes._subplots.AxesSubplot at 0x1184492d0>"
      ]
     },
     "execution_count": 16,
     "metadata": {},
     "output_type": "execute_result"
    },
    {
     "data": {
      "image/png": "[encoded data removed]",
      "text/plain": [
       "<matplotlib.figure.Figure at 0x1184cd8d0>"
      ]
     },
     "metadata": {},
     "output_type": "display_data"
    }
   ],
   "source": [
    "cbd2014.IN_24_HOURS.plot.bar()"
   ]
  },
  {
   "cell_type": "code",
   "execution_count": 21,
   "metadata": {
    "collapsed": false
   },
   "outputs": [
    {
     "data": {
      "text/plain": [
       "<matplotlib.axes._subplots.AxesSubplot at 0x1195eea90>"
      ]
     },
     "execution_count": 21,
     "metadata": {},
     "output_type": "execute_result"
    },
    {
     "data": {
      "image/png": "[encoded data removed]",
      "text/plain": [
       "<matplotlib.figure.Figure at 0x1195c5bd0>"
      ]
     },
     "metadata": {},
     "output_type": "display_data"
    }
   ],
   "source": [
    "cbd2014.IN_24_HOURS.plot.bar(color=['blue', 'blue', 'blue', 'blue', 'red', 'blue', 'red', 'blue'])"
   ]
  },
  {
   "cell_type": "code",
   "execution_count": 27,
   "metadata": {
    "collapsed": false
   },
   "outputs": [],
   "source": [
    "colour_scheme = [('red' if x in ['Circular Quay', 'Museum'] else 'blue') for x in cbd2014.index]"
   ]
  },
  {
   "cell_type": "code",
   "execution_count": 28,
   "metadata": {
    "collapsed": false
   },
   "outputs": [
    {
     "data": {
      "text/plain": [
       "['blue', 'blue', 'blue', 'blue', 'red', 'blue', 'red', 'blue']"
      ]
     },
     "execution_count": 28,
     "metadata": {},
     "output_type": "execute_result"
    }
   ],
   "source": [
    "colour_scheme"
   ]
  },
  {
   "cell_type": "code",
   "execution_count": 29,
   "metadata": {
    "collapsed": false
   },
   "outputs": [
    {
     "data": {
      "text/plain": [
       "['blue', 'blue', 'blue', 'blue', 'red', 'blue', 'red', 'blue']"
      ]
     },
     "execution_count": 29,
     "metadata": {},
     "output_type": "execute_result"
    }
   ],
   "source": [
    "colour_scheme"
   ]
  },
  {
   "cell_type": "code",
   "execution_count": 30,
   "metadata": {
    "collapsed": false
   },
   "outputs": [
    {
     "data": {
      "text/plain": [
       "<matplotlib.axes._subplots.AxesSubplot at 0x119a4a6d0>"
      ]
     },
     "execution_count": 30,
     "metadata": {},
     "output_type": "execute_result"
    },
    {
     "data": {
      "image/png": "[encoded data removed]",
      "text/plain": [
       "<matplotlib.figure.Figure at 0x1195c5d10>"
      ]
     },
     "metadata": {},
     "output_type": "display_data"
    }
   ],
   "source": [
    "cbd2014.IN_24_HOURS.plot.bar(color=colour_scheme)"
   ]
  },
  {
   "cell_type": "code",
   "execution_count": 31,
   "metadata": {
    "collapsed": true
   },
   "outputs": [],
   "source": [
    "import numpy"
   ]
  },
  {
   "cell_type": "code",
   "execution_count": 32,
   "metadata": {
    "collapsed": true
   },
   "outputs": [],
   "source": [
    "numpy.where?"
   ]
  },
  {
   "cell_type": "code",
   "execution_count": 36,
   "metadata": {
    "collapsed": false
   },
   "outputs": [
    {
     "data": {
      "text/plain": [
       "array(['red', 'red', 'red', 'blue', 'blue', 'blue', 'blue', 'blue'], \n",
       "      dtype='|S4')"
      ]
     },
     "execution_count": 36,
     "metadata": {},
     "output_type": "execute_result"
    }
   ],
   "source": [
    "numpy.where(cbd2014.IN_0200_0600 < 400, \"blue\", \"red\")"
   ]
  },
  {
   "cell_type": "code",
   "execution_count": 37,
   "metadata": {
    "collapsed": false
   },
   "outputs": [
    {
     "data": {
      "text/plain": [
       "<matplotlib.axes._subplots.AxesSubplot at 0x119aa8d90>"
      ]
     },
     "execution_count": 37,
     "metadata": {},
     "output_type": "execute_result"
    },
    {
     "data": {
      "image/png": "[encoded data removed]",
      "text/plain": [
       "<matplotlib.figure.Figure at 0x119be8e90>"
      ]
     },
     "metadata": {},
     "output_type": "display_data"
    }
   ],
   "source": [
    "cbd2014.IN_24_HOURS.plot.bar(color=numpy.where(cbd2014.IN_0200_0600 < 400, \"blue\", \"red\"))"
   ]
  },
  {
   "cell_type": "code",
   "execution_count": 40,
   "metadata": {
    "collapsed": false
   },
   "outputs": [
    {
     "data": {
      "image/png": "[encoded data removed]",
      "text/plain": [
       "<matplotlib.figure.Figure at 0x119d84dd0>"
      ]
     },
     "metadata": {},
     "output_type": "display_data"
    }
   ],
   "source": [
    "cbd2014.IN_24_HOURS.plot.bar(color=numpy.where(cbd2014.IN_0200_0600 < 400, \"blue\", \"red\"))\n",
    "matplotlib.pyplot.savefig(\"trains.jpg\")"
   ]
  },
  {
   "cell_type": "code",
   "execution_count": 48,
   "metadata": {
    "collapsed": false
   },
   "outputs": [
    {
     "data": {
      "text/plain": [
       "<matplotlib.axes._subplots.AxesSubplot at 0x11acc8390>"
      ]
     },
     "execution_count": 48,
     "metadata": {},
     "output_type": "execute_result"
    },
    {
     "data": {
      "image/png": "[encoded data removed]",
      "text/plain": [
       "<matplotlib.figure.Figure at 0x11ae0d410>"
      ]
     },
     "metadata": {},
     "output_type": "display_data"
    }
   ],
   "source": [
    "cbd2014.plot.scatter(x='IN_0600_0930', y='OUT_0600_0930', color='#ffa0ff')"
   ]
  },
  {
   "cell_type": "code",
   "execution_count": 44,
   "metadata": {
    "collapsed": false
   },
   "outputs": [
    {
     "data": {
      "text/plain": [
       "<matplotlib.axes._subplots.AxesSubplot at 0x11ac59910>"
      ]
     },
     "execution_count": 44,
     "metadata": {},
     "output_type": "execute_result"
    },
    {
     "data": {
      "image/png": "[encoded data removed]",
      "text/plain": [
       "<matplotlib.figure.Figure at 0x11ab97f10>"
      ]
     },
     "metadata": {},
     "output_type": "display_data"
    }
   ],
   "source": [
    "cbd2014.plot.scatter(x='OUT_0600_0930', y='IN_0600_0930', color='#ffa0ff')"
   ]
  },
  {
   "cell_type": "code",
   "execution_count": 47,
   "metadata": {
    "collapsed": true
   },
   "outputs": [],
   "source": [
    "cbd2014.plot.scatter?"
   ]
  },
  {
   "cell_type": "code",
   "execution_count": 60,
   "metadata": {
    "collapsed": false
   },
   "outputs": [
    {
     "ename": "AttributeError",
     "evalue": "'AxesSubplot' object has no attribute 'xlabel'",
     "output_type": "error",
     "traceback": [
      "\u001b[0;31m---------------------------------------------------------------------------\u001b[0m",
      "\u001b[0;31mAttributeError\u001b[0m                            Traceback (most recent call last)",
      "\u001b[0;32m<ipython-input-60-054cd890e8c6>\u001b[0m in \u001b[0;36m<module>\u001b[0;34m()\u001b[0m\n\u001b[1;32m      1\u001b[0m \u001b[0mmorning_chart\u001b[0m \u001b[0;34m=\u001b[0m \u001b[0mcbd2014\u001b[0m\u001b[0;34m.\u001b[0m\u001b[0mplot\u001b[0m\u001b[0;34m.\u001b[0m\u001b[0mscatter\u001b[0m\u001b[0;34m(\u001b[0m\u001b[0mx\u001b[0m\u001b[0;34m=\u001b[0m\u001b[0;34m'IN_0600_0930'\u001b[0m\u001b[0;34m,\u001b[0m \u001b[0my\u001b[0m\u001b[0;34m=\u001b[0m\u001b[0;34m'OUT_0600_0930'\u001b[0m\u001b[0;34m,\u001b[0m \u001b[0mcolor\u001b[0m\u001b[0;34m=\u001b[0m\u001b[0;34m'#ffa0ff'\u001b[0m\u001b[0;34m,\u001b[0m \u001b[0ms\u001b[0m\u001b[0;34m=\u001b[0m\u001b[0;34m[\u001b[0m\u001b[0;36m2000\u001b[0m\u001b[0;34m,\u001b[0m\u001b[0;36m1000\u001b[0m\u001b[0;34m,\u001b[0m\u001b[0;36m100\u001b[0m\u001b[0;34m,\u001b[0m\u001b[0;36m5\u001b[0m\u001b[0;34m,\u001b[0m\u001b[0;36m5\u001b[0m\u001b[0;34m,\u001b[0m\u001b[0;36m5\u001b[0m\u001b[0;34m,\u001b[0m\u001b[0;36m5\u001b[0m\u001b[0;34m,\u001b[0m\u001b[0;36m5\u001b[0m\u001b[0;34m]\u001b[0m\u001b[0;34m)\u001b[0m\u001b[0;34m\u001b[0m\u001b[0m\n\u001b[1;32m      2\u001b[0m \u001b[0mcbd2014\u001b[0m\u001b[0;34m.\u001b[0m\u001b[0mplot\u001b[0m\u001b[0;34m.\u001b[0m\u001b[0mscatter\u001b[0m\u001b[0;34m(\u001b[0m\u001b[0mx\u001b[0m\u001b[0;34m=\u001b[0m\u001b[0;34m'IN_1500_1830'\u001b[0m\u001b[0;34m,\u001b[0m \u001b[0my\u001b[0m\u001b[0;34m=\u001b[0m\u001b[0;34m'OUT_1500_1830'\u001b[0m\u001b[0;34m,\u001b[0m \u001b[0mcolor\u001b[0m\u001b[0;34m=\u001b[0m\u001b[0;34m'#0000ff'\u001b[0m\u001b[0;34m,\u001b[0m \u001b[0max\u001b[0m\u001b[0;34m=\u001b[0m\u001b[0mmorning_chart\u001b[0m\u001b[0;34m,\u001b[0m \u001b[0ms\u001b[0m\u001b[0;34m=\u001b[0m\u001b[0;34m[\u001b[0m\u001b[0;36m2000\u001b[0m\u001b[0;34m,\u001b[0m\u001b[0;36m1000\u001b[0m\u001b[0;34m,\u001b[0m\u001b[0;36m100\u001b[0m\u001b[0;34m,\u001b[0m\u001b[0;36m5\u001b[0m\u001b[0;34m,\u001b[0m\u001b[0;36m5\u001b[0m\u001b[0;34m,\u001b[0m\u001b[0;36m5\u001b[0m\u001b[0;34m,\u001b[0m\u001b[0;36m5\u001b[0m\u001b[0;34m,\u001b[0m\u001b[0;36m5\u001b[0m\u001b[0;34m]\u001b[0m\u001b[0;34m)\u001b[0m\u001b[0;34m\u001b[0m\u001b[0m\n\u001b[0;32m----> 3\u001b[0;31m \u001b[0mmorning_chart\u001b[0m\u001b[0;34m.\u001b[0m\u001b[0mxlabel\u001b[0m\u001b[0;34m(\u001b[0m\u001b[0;34m\"Passengers in\"\u001b[0m\u001b[0;34m)\u001b[0m\u001b[0;34m\u001b[0m\u001b[0m\n\u001b[0m\u001b[1;32m      4\u001b[0m \u001b[0;31m#morning_chart.savefig(\"train-chart.png\")\u001b[0m\u001b[0;34m\u001b[0m\u001b[0;34m\u001b[0m\u001b[0m\n",
      "\u001b[0;31mAttributeError\u001b[0m: 'AxesSubplot' object has no attribute 'xlabel'"
     ]
    },
    {
     "data": {
      "image/png": "[encoded data removed]",
      "text/plain": [
       "<matplotlib.figure.Figure at 0x11bc5d590>"
      ]
     },
     "metadata": {},
     "output_type": "display_data"
    }
   ],
   "source": [
    "morning_chart = cbd2014.plot.scatter(x='IN_0600_0930', y='OUT_0600_0930', color='#ffa0ff', s=[2000,1000,100,5,5,5,5,5])\n",
    "cbd2014.plot.scatter(x='IN_1500_1830', y='OUT_1500_1830', color='#0000ff', ax=morning_chart, s=[2000,1000,100,5,5,5,5,5])\n",
    "morning_chart.xlabel(\"Passengers in\")\n",
    "#morning_chart.savefig(\"train-chart.png\")\n"
   ]
  },
  {
   "cell_type": "code",
   "execution_count": null,
   "metadata": {
    "collapsed": true
   },
   "outputs": [],
   "source": []
  }
 ],
 "metadata": {
  "kernelspec": {
   "display_name": "Python 2",
   "language": "python",
   "name": "python2"
  },
  "language_info": {
   "codemirror_mode": {
    "name": "ipython",
    "version": 2
   },
   "file_extension": ".py",
   "mimetype": "text/x-python",
   "name": "python",
   "nbconvert_exporter": "python",
   "pygments_lexer": "ipython2",
   "version": "2.7.11"
  }
 },
 "nbformat": 4,
 "nbformat_minor": 0
}
