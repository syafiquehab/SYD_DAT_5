{
 "cells": [
  {
   "cell_type": "markdown",
   "metadata": {},
   "source": [
    "# SYD DAT 5 Lab 1 - Git and Markdown\n",
    "\n",
    "##Homework:\n",
    "\n",
    "#### Setup\n",
    "* Resolve any installation issues before next class.\n",
    "* Make sure you have a github profile and created a repo\n",
    "* Clone the class repo (this one!)\n",
    "* Review this [code](../labs/Week 1/00_python_refresher.py) for a recap of some Python basics.\n",
    "\n",
    "#### Communication\n",
    "* Read [Analyzing the Analyzers](http://cdn.oreillystatic.com/oreilly/radarreport/0636920029014/Analyzing_the_Analyzers.pdf) for a useful look at the different types of data scientists. Write down 5 key points you took away from the article\n",
    "* Read about some [Markdown Techniques](http://daringfireball.net/projects/markdown/syntax)\n",
    "* Write a summary of a chapter of [The Data Science Handbook](http://www.thedatasciencehandbook.com/) in Markdown and submit a pull request in the Lab Directory\n",
    "\n",
    "#### Programming\n",
    "* Complete the lab from class and the additional Exercise below\n",
    "\n",
    "#### Course Project\n",
    "* Come up with 5 different ideas for your course project. For each one list:\n",
    "  * Overview of your idea\n",
    "  * What data you will use, and how you will collect it\n",
    "  * What the outcome is that you are trying to achieve\n",
    "  * Any ideas of modelling techniques it may involve\n",
    "\n",
    "**Instructions: copy this file and append your name in the filename, e.g. Homework1_ian_hansel.ipynb.\n",
    "Then commit this in your local repository, push it to your github account and create a pull request so I can see your work. Remeber if you get stuck to look at the slides going over Fork, Clone, Commit, Push and Pull request.**"
   ]
  },
  {
   "cell_type": "markdown",
   "metadata": {},
   "source": [
    "# Five key points from \"Analyzing the Analyzers\"\n",
    "\n",
    "    1) There is miscommunication, hence misunderstanding between what roles data scientists can play within organisation and what roles are expected from data scientists within organisation. There are various skills  that data scientists can develop.\n",
    "    2) Data Businessman: commercially focused, entrepreneurial, older, less likely to call themselves 'data scientist'\n",
    "    3) Data Creative: all-rounders, substantial academic experience, substantial business expertise\n",
    "    4) Data Developer: focus on the technical problem of managing data, writting codes, relevant academic knowledge  \n",
    "    5) Data Researcher: highest academic qualification (e.g. Ph.D in Statistics), lowest commercial awareness\n",
    "    "
   ]
  },
  {
   "cell_type": "markdown",
   "metadata": {},
   "source": [
    "# Chapter 25. William Chen (From undergraduate to Data Scientist)\n",
    "\n",
    "The interviewee studied math at Harvard, but he declared statistics as his major after he attended the Stat 110 class. He looked for opportunities to use his theoratical knowledge whilst developing practical skills. Through his teaching experience, he also improved his communication and stroytelling capabilities a lot. He realised not having programming background limits his potentials so he took a computer science course. \n",
    "\n",
    "The interviewee enjoyed the statistics subjects and spent a lot of times in it. He took a computer science course to effectively apply statistics. His primary interest lies in statistics, but values computer science greatly as it empowers his capability.\n",
    "\n",
    "There's so many potential projects to tackle and there are so much data can be analysed, therefore his main challenge was how to prioritise.\n",
    "\n",
    "The interviewee stated that computer science and software engineering is important as it allows data scientist to become more creative in implementing models, pulling out data and presenting insight. The 'Pareto principle' is in full effect. A strong background in statistics and math is important as well to determine real insights from fake insights. This also helps data scientists communicate their findings.\n",
    "\n",
    "Data science is a new field, hence there are not many people with industry experience. There are a lot of Massive Open Online Courses available and universitier started to offer their first data science courses. Completing Masters or Ph.D provide similar qualities that are great for data science: learning quickly, asking questions and being resilient. However, the interviewee believed that more and more companies will hire graduates in few years time.\n",
    "\n",
    "Regret not taking programming course in the first year as it is vital to data science.\n",
    "\n",
    "The importance of data science will not die down, but the overhyped perception will.\n",
    "\n",
    "The interviewee believed that the need for data scientists will not decrease as data scientists will always be in demand to interpret results, distill insight and communicate actionable plans to improve business or product.\n",
    "\n",
    "When a data scientist has domain expertise, it helps to establish a better hypothesis on the question that the data scientist wants to answer. The domain expertise facilitates the sharing of insightful stories.\n",
    "\n",
    "The interviewee chose data science becuase he was very excited to see how technology can change the way the the world works and he wanted to be part of the wave to make everything works better. He also liked the teaching and communication aspects of data science and wanted to convince people that data is useful.\n"
   ]
  },
  {
   "cell_type": "markdown",
   "metadata": {
    "collapsed": true
   },
   "source": [
    "# Course project ideas\n",
    "\n",
    "## 1. Demand for medical infrastructure\n",
    "    1) analyse the relationship between a change in demographic data by NSW suburbs and demand for medical service\n",
    "    2) population, population increase rate, porpotion of retirees, medical expenses per household, etc.\n",
    "    3) being able to predict which suburb will require more medical infrastructure in the future\n",
    "    4) regression model\n",
    "## 2. Detection of epedemic breakout\n",
    "    1) use the sympthoms records available in hospitals to detect the epedemic breakout or major diseases\n",
    "    2) sympthoms record from patients in various hospitals (maybe difficult)\n",
    "    3) being able to detect the epedemic breakout and provide precaution and responses promptly\n",
    "    4) data scraping\n",
    "## 3. Pattern recognition of shares trading\n",
    "    1) analyse the share trading data to recognise patterns to buy/sell the shares\n",
    "    2) periodic share price data of ASX 200 companies\n",
    "    3) being able to profit from sharing trading by techinical analysis\n",
    "    4) ... (no idea yet, any relevant models)\n",
    "## 4. Price prediction for small cap public companies\n",
    "    1) analyse the past share trading data to predict the future share prices of selected small cap companies\n",
    "    2) past share prices of selected small cap companies\n",
    "    3) being able to forecast the target share price of small cap companies\n",
    "    4) regression model\n",
    "## 5. Category of words that influence the share prices of specific public companies\n",
    "    1) use the online/website article to \n",
    "    2) finance newspaper article or industry trend related articles\n",
    "    3) being able to identify the factors that influence the share prices and predict the potential price changes\n",
    "    4) data scraping"
   ]
  },
  {
   "cell_type": "code",
   "execution_count": null,
   "metadata": {
    "collapsed": true
   },
   "outputs": [],
   "source": [
    "import pandas as pd"
   ]
  },
  {
   "cell_type": "code",
   "execution_count": 3,
   "metadata": {
    "collapsed": false
   },
   "outputs": [],
   "source": [
    "#copied the u.user file into homework folder\n",
    "user_cols = ['user_id', 'age', 'gender', 'occupation', 'zip_code']\n",
    "users = pd.read_table('u.user', sep ='|', header=None, names=user_cols, index_col='user_id', dtype={'zip_code':str})"
   ]
  },
  {
   "cell_type": "code",
   "execution_count": 4,
   "metadata": {
    "collapsed": false
   },
   "outputs": [
    {
     "data": {
      "text/plain": [
       "(943, 4)"
      ]
     },
     "execution_count": 4,
     "metadata": {},
     "output_type": "execute_result"
    }
   ],
   "source": [
    "users.shape"
   ]
  },
  {
   "cell_type": "code",
   "execution_count": 5,
   "metadata": {
    "collapsed": false
   },
   "outputs": [
    {
     "data": {
      "text/plain": [
       "student          196\n",
       "other            105\n",
       "educator          95\n",
       "administrator     79\n",
       "engineer          67\n",
       "programmer        66\n",
       "librarian         51\n",
       "writer            45\n",
       "executive         32\n",
       "scientist         31\n",
       "artist            28\n",
       "technician        27\n",
       "marketing         26\n",
       "entertainment     18\n",
       "healthcare        16\n",
       "retired           14\n",
       "salesman          12\n",
       "lawyer            12\n",
       "none               9\n",
       "homemaker          7\n",
       "doctor             7\n",
       "Name: occupation, dtype: int64"
      ]
     },
     "execution_count": 5,
     "metadata": {},
     "output_type": "execute_result"
    }
   ],
   "source": [
    "# for each occupation in 'users', count the number of occurrences\n",
    "users.occupation.value_counts()"
   ]
  },
  {
   "cell_type": "code",
   "execution_count": 6,
   "metadata": {
    "collapsed": false
   },
   "outputs": [
    {
     "data": {
      "text/plain": [
       "occupation\n",
       "administrator    38.746835\n",
       "artist           31.392857\n",
       "doctor           43.571429\n",
       "educator         42.010526\n",
       "engineer         36.388060\n",
       "entertainment    29.222222\n",
       "executive        38.718750\n",
       "healthcare       41.562500\n",
       "homemaker        32.571429\n",
       "lawyer           36.750000\n",
       "librarian        40.000000\n",
       "marketing        37.615385\n",
       "none             26.555556\n",
       "other            34.523810\n",
       "programmer       33.121212\n",
       "retired          63.071429\n",
       "salesman         35.666667\n",
       "scientist        35.548387\n",
       "student          22.081633\n",
       "technician       33.148148\n",
       "writer           36.311111\n",
       "Name: age, dtype: float64"
      ]
     },
     "execution_count": 6,
     "metadata": {},
     "output_type": "execute_result"
    }
   ],
   "source": [
    "# for each occupation, calculate the mean age\n",
    "users.dtypes\n",
    "users.groupby(['occupation'])['age'].mean()"
   ]
  },
  {
   "cell_type": "code",
   "execution_count": 7,
   "metadata": {
    "collapsed": false
   },
   "outputs": [
    {
     "data": {
      "text/plain": [
       "occupation\n",
       "administrator    21\n",
       "artist           19\n",
       "doctor           28\n",
       "educator         23\n",
       "engineer         22\n",
       "entertainment    15\n",
       "executive        22\n",
       "healthcare       22\n",
       "homemaker        20\n",
       "lawyer           21\n",
       "librarian        23\n",
       "marketing        24\n",
       "none             11\n",
       "other            13\n",
       "programmer       20\n",
       "retired          51\n",
       "salesman         18\n",
       "scientist        23\n",
       "student           7\n",
       "technician       21\n",
       "writer           18\n",
       "Name: age, dtype: int64"
      ]
     },
     "execution_count": 7,
     "metadata": {},
     "output_type": "execute_result"
    }
   ],
   "source": [
    "# for each occupation, calculate the minimum and maximum ages\n",
    "users.groupby(['occupation'])['age'].min()"
   ]
  },
  {
   "cell_type": "code",
   "execution_count": 8,
   "metadata": {
    "collapsed": false
   },
   "outputs": [
    {
     "data": {
      "text/plain": [
       "occupation\n",
       "administrator    70\n",
       "artist           48\n",
       "doctor           64\n",
       "educator         63\n",
       "engineer         70\n",
       "entertainment    50\n",
       "executive        69\n",
       "healthcare       62\n",
       "homemaker        50\n",
       "lawyer           53\n",
       "librarian        69\n",
       "marketing        55\n",
       "none             55\n",
       "other            64\n",
       "programmer       63\n",
       "retired          73\n",
       "salesman         66\n",
       "scientist        55\n",
       "student          42\n",
       "technician       55\n",
       "writer           60\n",
       "Name: age, dtype: int64"
      ]
     },
     "execution_count": 8,
     "metadata": {},
     "output_type": "execute_result"
    }
   ],
   "source": [
    "users.groupby(['occupation'])['age'].max()"
   ]
  },
  {
   "cell_type": "code",
   "execution_count": 9,
   "metadata": {
    "collapsed": false
   },
   "outputs": [
    {
     "data": {
      "text/plain": [
       "occupation     gender\n",
       "administrator  F         40.638889\n",
       "               M         37.162791\n",
       "artist         F         30.307692\n",
       "               M         32.333333\n",
       "doctor         M         43.571429\n",
       "educator       F         39.115385\n",
       "               M         43.101449\n",
       "engineer       F         29.500000\n",
       "               M         36.600000\n",
       "entertainment  F         31.000000\n",
       "               M         29.000000\n",
       "executive      F         44.000000\n",
       "               M         38.172414\n",
       "healthcare     F         39.818182\n",
       "               M         45.400000\n",
       "homemaker      F         34.166667\n",
       "               M         23.000000\n",
       "lawyer         F         39.500000\n",
       "               M         36.200000\n",
       "librarian      F         40.000000\n",
       "               M         40.000000\n",
       "marketing      F         37.200000\n",
       "               M         37.875000\n",
       "none           F         36.500000\n",
       "               M         18.600000\n",
       "other          F         35.472222\n",
       "               M         34.028986\n",
       "programmer     F         32.166667\n",
       "               M         33.216667\n",
       "retired        F         70.000000\n",
       "               M         62.538462\n",
       "salesman       F         27.000000\n",
       "               M         38.555556\n",
       "scientist      F         28.333333\n",
       "               M         36.321429\n",
       "student        F         20.750000\n",
       "               M         22.669118\n",
       "technician     F         38.000000\n",
       "               M         32.961538\n",
       "writer         F         37.631579\n",
       "               M         35.346154\n",
       "Name: age, dtype: float64"
      ]
     },
     "execution_count": 9,
     "metadata": {},
     "output_type": "execute_result"
    }
   ],
   "source": [
    "# for each combination of occupation and gender, calculate the mean age\n",
    "users.groupby(['occupation','gender'])['age'].mean()"
   ]
  },
  {
   "cell_type": "code",
   "execution_count": 10,
   "metadata": {
    "collapsed": false
   },
   "outputs": [
    {
     "data": {
      "text/html": [
       "<div>\n",
       "<table border=\"1\" class=\"dataframe\">\n",
       "  <thead>\n",
       "    <tr style=\"text-align: right;\">\n",
       "      <th></th>\n",
       "      <th>age</th>\n",
       "      <th>gender</th>\n",
       "      <th>occupation</th>\n",
       "      <th>zip_code</th>\n",
       "    </tr>\n",
       "    <tr>\n",
       "      <th>user_id</th>\n",
       "      <th></th>\n",
       "      <th></th>\n",
       "      <th></th>\n",
       "      <th></th>\n",
       "    </tr>\n",
       "  </thead>\n",
       "  <tbody>\n",
       "    <tr>\n",
       "      <th>76</th>\n",
       "      <td>20</td>\n",
       "      <td>M</td>\n",
       "      <td>student</td>\n",
       "      <td>02215</td>\n",
       "    </tr>\n",
       "  </tbody>\n",
       "</table>\n",
       "</div>"
      ],
      "text/plain": [
       "         age gender occupation zip_code\n",
       "user_id                                \n",
       "76        20      M    student    02215"
      ]
     },
     "execution_count": 10,
     "metadata": {},
     "output_type": "execute_result"
    }
   ],
   "source": [
    "# randomly sample a DataFrame\n",
    "users.sample()"
   ]
  },
  {
   "cell_type": "code",
   "execution_count": 11,
   "metadata": {
    "collapsed": false
   },
   "outputs": [
    {
     "data": {
      "text/html": [
       "<div>\n",
       "<table border=\"1\" class=\"dataframe\">\n",
       "  <thead>\n",
       "    <tr style=\"text-align: right;\">\n",
       "      <th></th>\n",
       "      <th>age</th>\n",
       "      <th>gender</th>\n",
       "      <th>occupation</th>\n",
       "      <th>zip_code</th>\n",
       "    </tr>\n",
       "    <tr>\n",
       "      <th>user_id</th>\n",
       "      <th></th>\n",
       "      <th></th>\n",
       "      <th></th>\n",
       "      <th></th>\n",
       "    </tr>\n",
       "  </thead>\n",
       "  <tbody>\n",
       "    <tr>\n",
       "      <th>496</th>\n",
       "      <td>21</td>\n",
       "      <td>F</td>\n",
       "      <td>student</td>\n",
       "      <td>55414</td>\n",
       "    </tr>\n",
       "    <tr>\n",
       "      <th>572</th>\n",
       "      <td>51</td>\n",
       "      <td>M</td>\n",
       "      <td>educator</td>\n",
       "      <td>20003</td>\n",
       "    </tr>\n",
       "    <tr>\n",
       "      <th>621</th>\n",
       "      <td>17</td>\n",
       "      <td>M</td>\n",
       "      <td>student</td>\n",
       "      <td>60402</td>\n",
       "    </tr>\n",
       "    <tr>\n",
       "      <th>684</th>\n",
       "      <td>28</td>\n",
       "      <td>M</td>\n",
       "      <td>student</td>\n",
       "      <td>55414</td>\n",
       "    </tr>\n",
       "    <tr>\n",
       "      <th>733</th>\n",
       "      <td>44</td>\n",
       "      <td>F</td>\n",
       "      <td>other</td>\n",
       "      <td>60630</td>\n",
       "    </tr>\n",
       "    <tr>\n",
       "      <th>805</th>\n",
       "      <td>27</td>\n",
       "      <td>F</td>\n",
       "      <td>other</td>\n",
       "      <td>20009</td>\n",
       "    </tr>\n",
       "    <tr>\n",
       "      <th>890</th>\n",
       "      <td>32</td>\n",
       "      <td>M</td>\n",
       "      <td>student</td>\n",
       "      <td>97301</td>\n",
       "    </tr>\n",
       "  </tbody>\n",
       "</table>\n",
       "</div>"
      ],
      "text/plain": [
       "         age gender occupation zip_code\n",
       "user_id                                \n",
       "496       21      F    student    55414\n",
       "572       51      M   educator    20003\n",
       "621       17      M    student    60402\n",
       "684       28      M    student    55414\n",
       "733       44      F      other    60630\n",
       "805       27      F      other    20009\n",
       "890       32      M    student    97301"
      ]
     },
     "execution_count": 11,
     "metadata": {},
     "output_type": "execute_result"
    }
   ],
   "source": [
    "# detect duplicate users\n",
    "duplicated_user = users.duplicated()\n",
    "users[duplicated_user]"
   ]
  },
  {
   "cell_type": "code",
   "execution_count": null,
   "metadata": {
    "collapsed": true
   },
   "outputs": [],
   "source": []
  }
 ],
 "metadata": {
  "kernelspec": {
   "display_name": "Python 2",
   "language": "python",
   "name": "python2"
  },
  "language_info": {
   "codemirror_mode": {
    "name": "ipython",
    "version": 2
   },
   "file_extension": ".py",
   "mimetype": "text/x-python",
   "name": "python",
   "nbconvert_exporter": "python",
   "pygments_lexer": "ipython2",
   "version": "2.7.11"
  }
 },
 "nbformat": 4,
 "nbformat_minor": 0
}
