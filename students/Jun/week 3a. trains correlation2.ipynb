{
 "cells": [
  {
   "cell_type": "code",
   "execution_count": 1,
   "metadata": {
    "collapsed": true
   },
   "outputs": [],
   "source": [
    "import sklearn.linear_model"
   ]
  },
  {
   "cell_type": "code",
   "execution_count": 2,
   "metadata": {
    "collapsed": true
   },
   "outputs": [],
   "source": [
    "import pandas as pd\n",
    "import matplotlib.pyplot as plt\n",
    "%matplotlib inline"
   ]
  },
  {
   "cell_type": "code",
   "execution_count": 3,
   "metadata": {
    "collapsed": false
   },
   "outputs": [
    {
     "data": {
      "text/html": [
       "<div>\n",
       "<table border=\"1\" class=\"dataframe\">\n",
       "  <thead>\n",
       "    <tr style=\"text-align: right;\">\n",
       "      <th></th>\n",
       "      <th>LINE</th>\n",
       "      <th>YEAR</th>\n",
       "      <th>SURVEY_DATE_USED</th>\n",
       "      <th>WHETHER_SURVEYED</th>\n",
       "      <th>IN_0200_0600</th>\n",
       "      <th>OUT_0200_0600</th>\n",
       "      <th>IN_0600_0930</th>\n",
       "      <th>OUT_0600_0930</th>\n",
       "      <th>IN_0930_1500</th>\n",
       "      <th>OUT_0930_1500</th>\n",
       "      <th>IN_1500_1830</th>\n",
       "      <th>OUT_1500_1830</th>\n",
       "      <th>IN_1830_0200</th>\n",
       "      <th>OUT_1830_0200</th>\n",
       "      <th>IN_24_HOURS</th>\n",
       "      <th>OUT_24_HOURS</th>\n",
       "      <th>RANK</th>\n",
       "      <th>STATION_SORT_ID</th>\n",
       "    </tr>\n",
       "    <tr>\n",
       "      <th>STATION</th>\n",
       "      <th></th>\n",
       "      <th></th>\n",
       "      <th></th>\n",
       "      <th></th>\n",
       "      <th></th>\n",
       "      <th></th>\n",
       "      <th></th>\n",
       "      <th></th>\n",
       "      <th></th>\n",
       "      <th></th>\n",
       "      <th></th>\n",
       "      <th></th>\n",
       "      <th></th>\n",
       "      <th></th>\n",
       "      <th></th>\n",
       "      <th></th>\n",
       "      <th></th>\n",
       "      <th></th>\n",
       "    </tr>\n",
       "  </thead>\n",
       "  <tbody>\n",
       "    <tr>\n",
       "      <th>Central</th>\n",
       "      <td>CBD</td>\n",
       "      <td>2014</td>\n",
       "      <td>6/05/2014</td>\n",
       "      <td>Yes</td>\n",
       "      <td>940</td>\n",
       "      <td>920</td>\n",
       "      <td>10390</td>\n",
       "      <td>42070</td>\n",
       "      <td>21400</td>\n",
       "      <td>30150</td>\n",
       "      <td>45370</td>\n",
       "      <td>16270</td>\n",
       "      <td>19010</td>\n",
       "      <td>7700</td>\n",
       "      <td>97110</td>\n",
       "      <td>97110</td>\n",
       "      <td>1</td>\n",
       "      <td>101</td>\n",
       "    </tr>\n",
       "    <tr>\n",
       "      <th>Town Hall</th>\n",
       "      <td>CBD</td>\n",
       "      <td>2014</td>\n",
       "      <td>7/05/2014</td>\n",
       "      <td>Yes</td>\n",
       "      <td>880</td>\n",
       "      <td>880</td>\n",
       "      <td>6380</td>\n",
       "      <td>43210</td>\n",
       "      <td>16930</td>\n",
       "      <td>23550</td>\n",
       "      <td>43670</td>\n",
       "      <td>15270</td>\n",
       "      <td>21760</td>\n",
       "      <td>6720</td>\n",
       "      <td>89620</td>\n",
       "      <td>89620</td>\n",
       "      <td>2</td>\n",
       "      <td>102</td>\n",
       "    </tr>\n",
       "    <tr>\n",
       "      <th>Wynyard</th>\n",
       "      <td>CBD</td>\n",
       "      <td>2014</td>\n",
       "      <td>20/05/2014</td>\n",
       "      <td>Yes</td>\n",
       "      <td>590</td>\n",
       "      <td>570</td>\n",
       "      <td>4710</td>\n",
       "      <td>39620</td>\n",
       "      <td>9200</td>\n",
       "      <td>11180</td>\n",
       "      <td>35010</td>\n",
       "      <td>6510</td>\n",
       "      <td>10690</td>\n",
       "      <td>2330</td>\n",
       "      <td>60200</td>\n",
       "      <td>60200</td>\n",
       "      <td>3</td>\n",
       "      <td>103</td>\n",
       "    </tr>\n",
       "    <tr>\n",
       "      <th>Parramatta</th>\n",
       "      <td>Western</td>\n",
       "      <td>2014</td>\n",
       "      <td>19/11/2014</td>\n",
       "      <td>Yes</td>\n",
       "      <td>660</td>\n",
       "      <td>330</td>\n",
       "      <td>7790</td>\n",
       "      <td>13700</td>\n",
       "      <td>7400</td>\n",
       "      <td>7020</td>\n",
       "      <td>14960</td>\n",
       "      <td>8660</td>\n",
       "      <td>4150</td>\n",
       "      <td>5260</td>\n",
       "      <td>34960</td>\n",
       "      <td>34960</td>\n",
       "      <td>4</td>\n",
       "      <td>905</td>\n",
       "    </tr>\n",
       "    <tr>\n",
       "      <th>North Sydney</th>\n",
       "      <td>North Shore</td>\n",
       "      <td>2014</td>\n",
       "      <td>19/08/2014</td>\n",
       "      <td>Yes</td>\n",
       "      <td>270</td>\n",
       "      <td>270</td>\n",
       "      <td>2340</td>\n",
       "      <td>18340</td>\n",
       "      <td>4450</td>\n",
       "      <td>5590</td>\n",
       "      <td>17760</td>\n",
       "      <td>3050</td>\n",
       "      <td>3790</td>\n",
       "      <td>1360</td>\n",
       "      <td>28610</td>\n",
       "      <td>28610</td>\n",
       "      <td>5</td>\n",
       "      <td>1402</td>\n",
       "    </tr>\n",
       "  </tbody>\n",
       "</table>\n",
       "</div>"
      ],
      "text/plain": [
       "                     LINE  YEAR SURVEY_DATE_USED WHETHER_SURVEYED  \\\n",
       "STATION                                                             \n",
       "Central               CBD  2014        6/05/2014              Yes   \n",
       "Town Hall             CBD  2014        7/05/2014              Yes   \n",
       "Wynyard               CBD  2014       20/05/2014              Yes   \n",
       "Parramatta        Western  2014       19/11/2014              Yes   \n",
       "North Sydney  North Shore  2014       19/08/2014              Yes   \n",
       "\n",
       "              IN_0200_0600  OUT_0200_0600  IN_0600_0930  OUT_0600_0930  \\\n",
       "STATION                                                                  \n",
       "Central                940            920         10390          42070   \n",
       "Town Hall              880            880          6380          43210   \n",
       "Wynyard                590            570          4710          39620   \n",
       "Parramatta             660            330          7790          13700   \n",
       "North Sydney           270            270          2340          18340   \n",
       "\n",
       "              IN_0930_1500  OUT_0930_1500  IN_1500_1830  OUT_1500_1830  \\\n",
       "STATION                                                                  \n",
       "Central              21400          30150         45370          16270   \n",
       "Town Hall            16930          23550         43670          15270   \n",
       "Wynyard               9200          11180         35010           6510   \n",
       "Parramatta            7400           7020         14960           8660   \n",
       "North Sydney          4450           5590         17760           3050   \n",
       "\n",
       "              IN_1830_0200  OUT_1830_0200  IN_24_HOURS  OUT_24_HOURS  RANK  \\\n",
       "STATION                                                                      \n",
       "Central              19010           7700        97110         97110     1   \n",
       "Town Hall            21760           6720        89620         89620     2   \n",
       "Wynyard              10690           2330        60200         60200     3   \n",
       "Parramatta            4150           5260        34960         34960     4   \n",
       "North Sydney          3790           1360        28610         28610     5   \n",
       "\n",
       "              STATION_SORT_ID  \n",
       "STATION                        \n",
       "Central                   101  \n",
       "Town Hall                 102  \n",
       "Wynyard                   103  \n",
       "Parramatta                905  \n",
       "North Sydney             1402  "
      ]
     },
     "execution_count": 3,
     "metadata": {},
     "output_type": "execute_result"
    }
   ],
   "source": [
    "trains = pd.read_csv('data/sydtrains.csv', thousands=',', index_col='STATION')\n",
    "trains.head()"
   ]
  },
  {
   "cell_type": "code",
   "execution_count": 4,
   "metadata": {
    "collapsed": true
   },
   "outputs": [],
   "source": [
    "trains2014 = trains[trains.YEAR == 2014]"
   ]
  },
  {
   "cell_type": "code",
   "execution_count": 5,
   "metadata": {
    "collapsed": false
   },
   "outputs": [],
   "source": [
    "scatter_data_in = trains2014.loc[ : , ['IN_1500_1830', 'OUT_1830_0200' , 'OUT_0600_0930']]"
   ]
  },
  {
   "cell_type": "code",
   "execution_count": 6,
   "metadata": {
    "collapsed": false
   },
   "outputs": [
    {
     "data": {
      "text/plain": [
       "array([[<matplotlib.axes._subplots.AxesSubplot object at 0x0000000009CD9F28>,\n",
       "        <matplotlib.axes._subplots.AxesSubplot object at 0x0000000009EDD0F0>,\n",
       "        <matplotlib.axes._subplots.AxesSubplot object at 0x0000000009FBCC18>],\n",
       "       [<matplotlib.axes._subplots.AxesSubplot object at 0x000000000A0D2860>,\n",
       "        <matplotlib.axes._subplots.AxesSubplot object at 0x000000000A19E128>,\n",
       "        <matplotlib.axes._subplots.AxesSubplot object at 0x000000000A695B00>],\n",
       "       [<matplotlib.axes._subplots.AxesSubplot object at 0x000000000A7A14A8>,\n",
       "        <matplotlib.axes._subplots.AxesSubplot object at 0x000000000A8472B0>,\n",
       "        <matplotlib.axes._subplots.AxesSubplot object at 0x000000000A907E10>]], dtype=object)"
      ]
     },
     "execution_count": 6,
     "metadata": {},
     "output_type": "execute_result"
    },
    {
     "data": {
      "image/png": "[encoded data removed]",
      "text/plain": [
       "<matplotlib.figure.Figure at 0x9cc6358>"
      ]
     },
     "metadata": {},
     "output_type": "display_data"
    }
   ],
   "source": [
    "pd.scatter_matrix(scatter_data_in)"
   ]
  },
  {
   "cell_type": "code",
   "execution_count": 15,
   "metadata": {
    "collapsed": true
   },
   "outputs": [],
   "source": [
    "getoff_am = trains2014.loc[ : , ['OUT_0600_0930' , 'OUT_0930_1500']]\n",
    "getin_pm = trains2014.IN_1500_1830"
   ]
  },
  {
   "cell_type": "code",
   "execution_count": 46,
   "metadata": {
    "collapsed": true
   },
   "outputs": [],
   "source": [
    "regressor = sklearn.linear_model.RANSACRegressor(max_trials=10000)"
   ]
  },
  {
   "cell_type": "code",
   "execution_count": 47,
   "metadata": {
    "collapsed": false
   },
   "outputs": [
    {
     "data": {
      "text/plain": [
       "RANSACRegressor(base_estimator=None, is_data_valid=None, is_model_valid=None,\n",
       "        max_trials=10000, min_samples=None, random_state=None,\n",
       "        residual_metric=None, residual_threshold=None, stop_n_inliers=inf,\n",
       "        stop_probability=0.99, stop_score=inf)"
      ]
     },
     "execution_count": 47,
     "metadata": {},
     "output_type": "execute_result"
    }
   ],
   "source": [
    "regressor.fit(getoff_am, getin_pm)"
   ]
  },
  {
   "cell_type": "code",
   "execution_count": 48,
   "metadata": {
    "collapsed": false
   },
   "outputs": [],
   "source": [
    "predictions_for_pm = regressor.predict(getoff_am)"
   ]
  },
  {
   "cell_type": "code",
   "execution_count": 49,
   "metadata": {
    "collapsed": false
   },
   "outputs": [
    {
     "data": {
      "text/plain": [
       "[<matplotlib.lines.Line2D at 0xc8487f0>]"
      ]
     },
     "execution_count": 49,
     "metadata": {},
     "output_type": "execute_result"
    },
    {
     "data": {
      "image/png": "[encoded data removed]",
      "text/plain": [
       "<matplotlib.figure.Figure at 0xc9d0240>"
      ]
     },
     "metadata": {},
     "output_type": "display_data"
    }
   ],
   "source": [
    "plt.scatter(trains2014.OUT_0600_0930 + trains2014.OUT_0930_1500, trains2014.IN_1500_1830, color = 'orange')\n",
    "plt.plot(trains2014.OUT_0600_0930 + trains2014.OUT_0930_1500, predictions_for_pm, color = 'red')"
   ]
  },
  {
   "cell_type": "code",
   "execution_count": 50,
   "metadata": {
    "collapsed": false
   },
   "outputs": [
    {
     "data": {
      "text/plain": [
       "LinearRegression(copy_X=True, fit_intercept=True, n_jobs=1, normalize=False)"
      ]
     },
     "execution_count": 50,
     "metadata": {},
     "output_type": "execute_result"
    }
   ],
   "source": [
    "regressor.estimator_"
   ]
  },
  {
   "cell_type": "code",
   "execution_count": 51,
   "metadata": {
    "collapsed": false
   },
   "outputs": [
    {
     "data": {
      "text/plain": [
       "array([ 0.79973305,  0.38863413])"
      ]
     },
     "execution_count": 51,
     "metadata": {},
     "output_type": "execute_result"
    }
   ],
   "source": [
    "regressor.estimator_.coef_"
   ]
  },
  {
   "cell_type": "code",
   "execution_count": 52,
   "metadata": {
    "collapsed": false
   },
   "outputs": [
    {
     "data": {
      "text/plain": [
       "-11.619726020707503"
      ]
     },
     "execution_count": 52,
     "metadata": {},
     "output_type": "execute_result"
    }
   ],
   "source": [
    "regressor.estimator_.intercept_"
   ]
  },
  {
   "cell_type": "code",
   "execution_count": null,
   "metadata": {
    "collapsed": true
   },
   "outputs": [],
   "source": []
  }
 ],
 "metadata": {
  "kernelspec": {
   "display_name": "Python 2",
   "language": "python",
   "name": "python2"
  },
  "language_info": {
   "codemirror_mode": {
    "name": "ipython",
    "version": 2
   },
   "file_extension": ".py",
   "mimetype": "text/x-python",
   "name": "python",
   "nbconvert_exporter": "python",
   "pygments_lexer": "ipython2",
   "version": "2.7.11"
  }
 },
 "nbformat": 4,
 "nbformat_minor": 0
}
