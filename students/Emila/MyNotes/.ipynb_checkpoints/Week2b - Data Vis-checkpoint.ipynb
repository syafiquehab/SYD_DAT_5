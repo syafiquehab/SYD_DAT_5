{
 "cells": [
  {
   "cell_type": "code",
   "execution_count": 59,
   "metadata": {
    "collapsed": false,
    "scrolled": true
   },
   "outputs": [],
   "source": [
    "%matplotlib inline\n",
    "#%matplotlib notebook\n",
    "#All changes will alter the same image, where as inline gives you a different object each time"
   ]
  },
  {
   "cell_type": "code",
   "execution_count": 2,
   "metadata": {
    "collapsed": true
   },
   "outputs": [],
   "source": [
    "import pandas"
   ]
  },
  {
   "cell_type": "code",
   "execution_count": 3,
   "metadata": {
    "collapsed": true
   },
   "outputs": [],
   "source": [
    "s = pandas.Series(data=[1.2, 0.1, 1.8, 0.3], index =[\"am hi\", \"am lo\", \"pm hi\", \"pm lo\"])"
   ]
  },
  {
   "cell_type": "code",
   "execution_count": 9,
   "metadata": {
    "collapsed": false,
    "scrolled": false
   },
   "outputs": [
    {
     "data": {
      "text/plain": [
       "<matplotlib.text.Text at 0x1167ce610>"
      ]
     },
     "execution_count": 9,
     "metadata": {},
     "output_type": "execute_result"
    },
    {
     "data": {
      "image/png": "[encoded data removed]",
      "text/plain": [
       "<matplotlib.figure.Figure at 0x116561750>"
      ]
     },
     "metadata": {},
     "output_type": "display_data"
    }
   ],
   "source": [
    "s.plot()\n",
    "matplotlib.pyplot.xlabel(\"time of tide\")\n",
    "matplotlib.pyplot.ylabel(\"metres\")"
   ]
  },
  {
   "cell_type": "code",
   "execution_count": 6,
   "metadata": {
    "collapsed": true
   },
   "outputs": [],
   "source": [
    "import matplotlib.pyplot"
   ]
  },
  {
   "cell_type": "code",
   "execution_count": 10,
   "metadata": {
    "collapsed": true
   },
   "outputs": [],
   "source": [
    "all_trains = pandas.read_csv('../data/sydtrains.csv', thousands = ',', index_col =1)"
   ]
  },
  {
   "cell_type": "code",
   "execution_count": 11,
   "metadata": {
    "collapsed": false,
    "scrolled": true
   },
   "outputs": [
    {
     "data": {
      "text/html": [
       "<div>\n",
       "<table border=\"1\" class=\"dataframe\">\n",
       "  <thead>\n",
       "    <tr style=\"text-align: right;\">\n",
       "      <th></th>\n",
       "      <th>LINE</th>\n",
       "      <th>YEAR</th>\n",
       "      <th>SURVEY_DATE_USED</th>\n",
       "      <th>WHETHER_SURVEYED</th>\n",
       "      <th>IN_0200_0600</th>\n",
       "      <th>OUT_0200_0600</th>\n",
       "      <th>IN_0600_0930</th>\n",
       "      <th>OUT_0600_0930</th>\n",
       "      <th>IN_0930_1500</th>\n",
       "      <th>OUT_0930_1500</th>\n",
       "      <th>IN_1500_1830</th>\n",
       "      <th>OUT_1500_1830</th>\n",
       "      <th>IN_1830_0200</th>\n",
       "      <th>OUT_1830_0200</th>\n",
       "      <th>IN_24_HOURS</th>\n",
       "      <th>OUT_24_HOURS</th>\n",
       "      <th>RANK</th>\n",
       "      <th>STATION_SORT_ID</th>\n",
       "    </tr>\n",
       "    <tr>\n",
       "      <th>STATION</th>\n",
       "      <th></th>\n",
       "      <th></th>\n",
       "      <th></th>\n",
       "      <th></th>\n",
       "      <th></th>\n",
       "      <th></th>\n",
       "      <th></th>\n",
       "      <th></th>\n",
       "      <th></th>\n",
       "      <th></th>\n",
       "      <th></th>\n",
       "      <th></th>\n",
       "      <th></th>\n",
       "      <th></th>\n",
       "      <th></th>\n",
       "      <th></th>\n",
       "      <th></th>\n",
       "      <th></th>\n",
       "    </tr>\n",
       "  </thead>\n",
       "  <tbody>\n",
       "    <tr>\n",
       "      <th>Central</th>\n",
       "      <td>CBD</td>\n",
       "      <td>2014</td>\n",
       "      <td>6/05/2014</td>\n",
       "      <td>Yes</td>\n",
       "      <td>940</td>\n",
       "      <td>920</td>\n",
       "      <td>10390</td>\n",
       "      <td>42070</td>\n",
       "      <td>21400</td>\n",
       "      <td>30150</td>\n",
       "      <td>45370</td>\n",
       "      <td>16270</td>\n",
       "      <td>19010</td>\n",
       "      <td>7700</td>\n",
       "      <td>97110</td>\n",
       "      <td>97110</td>\n",
       "      <td>1</td>\n",
       "      <td>101</td>\n",
       "    </tr>\n",
       "    <tr>\n",
       "      <th>Town Hall</th>\n",
       "      <td>CBD</td>\n",
       "      <td>2014</td>\n",
       "      <td>7/05/2014</td>\n",
       "      <td>Yes</td>\n",
       "      <td>880</td>\n",
       "      <td>880</td>\n",
       "      <td>6380</td>\n",
       "      <td>43210</td>\n",
       "      <td>16930</td>\n",
       "      <td>23550</td>\n",
       "      <td>43670</td>\n",
       "      <td>15270</td>\n",
       "      <td>21760</td>\n",
       "      <td>6720</td>\n",
       "      <td>89620</td>\n",
       "      <td>89620</td>\n",
       "      <td>2</td>\n",
       "      <td>102</td>\n",
       "    </tr>\n",
       "    <tr>\n",
       "      <th>Wynyard</th>\n",
       "      <td>CBD</td>\n",
       "      <td>2014</td>\n",
       "      <td>20/05/2014</td>\n",
       "      <td>Yes</td>\n",
       "      <td>590</td>\n",
       "      <td>570</td>\n",
       "      <td>4710</td>\n",
       "      <td>39620</td>\n",
       "      <td>9200</td>\n",
       "      <td>11180</td>\n",
       "      <td>35010</td>\n",
       "      <td>6510</td>\n",
       "      <td>10690</td>\n",
       "      <td>2330</td>\n",
       "      <td>60200</td>\n",
       "      <td>60200</td>\n",
       "      <td>3</td>\n",
       "      <td>103</td>\n",
       "    </tr>\n",
       "    <tr>\n",
       "      <th>Parramatta</th>\n",
       "      <td>Western</td>\n",
       "      <td>2014</td>\n",
       "      <td>19/11/2014</td>\n",
       "      <td>Yes</td>\n",
       "      <td>660</td>\n",
       "      <td>330</td>\n",
       "      <td>7790</td>\n",
       "      <td>13700</td>\n",
       "      <td>7400</td>\n",
       "      <td>7020</td>\n",
       "      <td>14960</td>\n",
       "      <td>8660</td>\n",
       "      <td>4150</td>\n",
       "      <td>5260</td>\n",
       "      <td>34960</td>\n",
       "      <td>34960</td>\n",
       "      <td>4</td>\n",
       "      <td>905</td>\n",
       "    </tr>\n",
       "    <tr>\n",
       "      <th>North Sydney</th>\n",
       "      <td>North Shore</td>\n",
       "      <td>2014</td>\n",
       "      <td>19/08/2014</td>\n",
       "      <td>Yes</td>\n",
       "      <td>270</td>\n",
       "      <td>270</td>\n",
       "      <td>2340</td>\n",
       "      <td>18340</td>\n",
       "      <td>4450</td>\n",
       "      <td>5590</td>\n",
       "      <td>17760</td>\n",
       "      <td>3050</td>\n",
       "      <td>3790</td>\n",
       "      <td>1360</td>\n",
       "      <td>28610</td>\n",
       "      <td>28610</td>\n",
       "      <td>5</td>\n",
       "      <td>1402</td>\n",
       "    </tr>\n",
       "  </tbody>\n",
       "</table>\n",
       "</div>"
      ],
      "text/plain": [
       "                     LINE  YEAR SURVEY_DATE_USED WHETHER_SURVEYED  \\\n",
       "STATION                                                             \n",
       "Central               CBD  2014        6/05/2014              Yes   \n",
       "Town Hall             CBD  2014        7/05/2014              Yes   \n",
       "Wynyard               CBD  2014       20/05/2014              Yes   \n",
       "Parramatta        Western  2014       19/11/2014              Yes   \n",
       "North Sydney  North Shore  2014       19/08/2014              Yes   \n",
       "\n",
       "              IN_0200_0600  OUT_0200_0600  IN_0600_0930  OUT_0600_0930  \\\n",
       "STATION                                                                  \n",
       "Central                940            920         10390          42070   \n",
       "Town Hall              880            880          6380          43210   \n",
       "Wynyard                590            570          4710          39620   \n",
       "Parramatta             660            330          7790          13700   \n",
       "North Sydney           270            270          2340          18340   \n",
       "\n",
       "              IN_0930_1500  OUT_0930_1500  IN_1500_1830  OUT_1500_1830  \\\n",
       "STATION                                                                  \n",
       "Central              21400          30150         45370          16270   \n",
       "Town Hall            16930          23550         43670          15270   \n",
       "Wynyard               9200          11180         35010           6510   \n",
       "Parramatta            7400           7020         14960           8660   \n",
       "North Sydney          4450           5590         17760           3050   \n",
       "\n",
       "              IN_1830_0200  OUT_1830_0200  IN_24_HOURS  OUT_24_HOURS  RANK  \\\n",
       "STATION                                                                      \n",
       "Central              19010           7700        97110         97110     1   \n",
       "Town Hall            21760           6720        89620         89620     2   \n",
       "Wynyard              10690           2330        60200         60200     3   \n",
       "Parramatta            4150           5260        34960         34960     4   \n",
       "North Sydney          3790           1360        28610         28610     5   \n",
       "\n",
       "              STATION_SORT_ID  \n",
       "STATION                        \n",
       "Central                   101  \n",
       "Town Hall                 102  \n",
       "Wynyard                   103  \n",
       "Parramatta                905  \n",
       "North Sydney             1402  "
      ]
     },
     "execution_count": 11,
     "metadata": {},
     "output_type": "execute_result"
    }
   ],
   "source": [
    "all_trains.head()"
   ]
  },
  {
   "cell_type": "code",
   "execution_count": 12,
   "metadata": {
    "collapsed": true
   },
   "outputs": [],
   "source": [
    "cbd2014 = all_trains[(all_trains.LINE =='CBD') & (all_trains.YEAR == 2014)]"
   ]
  },
  {
   "cell_type": "code",
   "execution_count": 13,
   "metadata": {
    "collapsed": false,
    "scrolled": true
   },
   "outputs": [
    {
     "data": {
      "text/html": [
       "<div>\n",
       "<table border=\"1\" class=\"dataframe\">\n",
       "  <thead>\n",
       "    <tr style=\"text-align: right;\">\n",
       "      <th></th>\n",
       "      <th>LINE</th>\n",
       "      <th>YEAR</th>\n",
       "      <th>SURVEY_DATE_USED</th>\n",
       "      <th>WHETHER_SURVEYED</th>\n",
       "      <th>IN_0200_0600</th>\n",
       "      <th>OUT_0200_0600</th>\n",
       "      <th>IN_0600_0930</th>\n",
       "      <th>OUT_0600_0930</th>\n",
       "      <th>IN_0930_1500</th>\n",
       "      <th>OUT_0930_1500</th>\n",
       "      <th>IN_1500_1830</th>\n",
       "      <th>OUT_1500_1830</th>\n",
       "      <th>IN_1830_0200</th>\n",
       "      <th>OUT_1830_0200</th>\n",
       "      <th>IN_24_HOURS</th>\n",
       "      <th>OUT_24_HOURS</th>\n",
       "      <th>RANK</th>\n",
       "      <th>STATION_SORT_ID</th>\n",
       "    </tr>\n",
       "    <tr>\n",
       "      <th>STATION</th>\n",
       "      <th></th>\n",
       "      <th></th>\n",
       "      <th></th>\n",
       "      <th></th>\n",
       "      <th></th>\n",
       "      <th></th>\n",
       "      <th></th>\n",
       "      <th></th>\n",
       "      <th></th>\n",
       "      <th></th>\n",
       "      <th></th>\n",
       "      <th></th>\n",
       "      <th></th>\n",
       "      <th></th>\n",
       "      <th></th>\n",
       "      <th></th>\n",
       "      <th></th>\n",
       "      <th></th>\n",
       "    </tr>\n",
       "  </thead>\n",
       "  <tbody>\n",
       "    <tr>\n",
       "      <th>Central</th>\n",
       "      <td>CBD</td>\n",
       "      <td>2014</td>\n",
       "      <td>6/05/2014</td>\n",
       "      <td>Yes</td>\n",
       "      <td>940</td>\n",
       "      <td>920</td>\n",
       "      <td>10390</td>\n",
       "      <td>42070</td>\n",
       "      <td>21400</td>\n",
       "      <td>30150</td>\n",
       "      <td>45370</td>\n",
       "      <td>16270</td>\n",
       "      <td>19010</td>\n",
       "      <td>7700</td>\n",
       "      <td>97110</td>\n",
       "      <td>97110</td>\n",
       "      <td>1</td>\n",
       "      <td>101</td>\n",
       "    </tr>\n",
       "    <tr>\n",
       "      <th>Town Hall</th>\n",
       "      <td>CBD</td>\n",
       "      <td>2014</td>\n",
       "      <td>7/05/2014</td>\n",
       "      <td>Yes</td>\n",
       "      <td>880</td>\n",
       "      <td>880</td>\n",
       "      <td>6380</td>\n",
       "      <td>43210</td>\n",
       "      <td>16930</td>\n",
       "      <td>23550</td>\n",
       "      <td>43670</td>\n",
       "      <td>15270</td>\n",
       "      <td>21760</td>\n",
       "      <td>6720</td>\n",
       "      <td>89620</td>\n",
       "      <td>89620</td>\n",
       "      <td>2</td>\n",
       "      <td>102</td>\n",
       "    </tr>\n",
       "    <tr>\n",
       "      <th>Wynyard</th>\n",
       "      <td>CBD</td>\n",
       "      <td>2014</td>\n",
       "      <td>20/05/2014</td>\n",
       "      <td>Yes</td>\n",
       "      <td>590</td>\n",
       "      <td>570</td>\n",
       "      <td>4710</td>\n",
       "      <td>39620</td>\n",
       "      <td>9200</td>\n",
       "      <td>11180</td>\n",
       "      <td>35010</td>\n",
       "      <td>6510</td>\n",
       "      <td>10690</td>\n",
       "      <td>2330</td>\n",
       "      <td>60200</td>\n",
       "      <td>60200</td>\n",
       "      <td>3</td>\n",
       "      <td>103</td>\n",
       "    </tr>\n",
       "    <tr>\n",
       "      <th>Redfern</th>\n",
       "      <td>CBD</td>\n",
       "      <td>2014</td>\n",
       "      <td>1/05/2014</td>\n",
       "      <td>Yes</td>\n",
       "      <td>250</td>\n",
       "      <td>250</td>\n",
       "      <td>3910</td>\n",
       "      <td>10690</td>\n",
       "      <td>5350</td>\n",
       "      <td>8170</td>\n",
       "      <td>12510</td>\n",
       "      <td>4250</td>\n",
       "      <td>3660</td>\n",
       "      <td>2320</td>\n",
       "      <td>25680</td>\n",
       "      <td>25680</td>\n",
       "      <td>6</td>\n",
       "      <td>108</td>\n",
       "    </tr>\n",
       "    <tr>\n",
       "      <th>Circular Quay</th>\n",
       "      <td>CBD</td>\n",
       "      <td>2014</td>\n",
       "      <td>22/05/2014</td>\n",
       "      <td>Yes</td>\n",
       "      <td>200</td>\n",
       "      <td>200</td>\n",
       "      <td>2110</td>\n",
       "      <td>8750</td>\n",
       "      <td>4340</td>\n",
       "      <td>6710</td>\n",
       "      <td>9910</td>\n",
       "      <td>3380</td>\n",
       "      <td>4070</td>\n",
       "      <td>1600</td>\n",
       "      <td>20630</td>\n",
       "      <td>20630</td>\n",
       "      <td>10</td>\n",
       "      <td>104</td>\n",
       "    </tr>\n",
       "  </tbody>\n",
       "</table>\n",
       "</div>"
      ],
      "text/plain": [
       "              LINE  YEAR SURVEY_DATE_USED WHETHER_SURVEYED  IN_0200_0600  \\\n",
       "STATION                                                                    \n",
       "Central        CBD  2014        6/05/2014              Yes           940   \n",
       "Town Hall      CBD  2014        7/05/2014              Yes           880   \n",
       "Wynyard        CBD  2014       20/05/2014              Yes           590   \n",
       "Redfern        CBD  2014        1/05/2014              Yes           250   \n",
       "Circular Quay  CBD  2014       22/05/2014              Yes           200   \n",
       "\n",
       "               OUT_0200_0600  IN_0600_0930  OUT_0600_0930  IN_0930_1500  \\\n",
       "STATION                                                                   \n",
       "Central                  920         10390          42070         21400   \n",
       "Town Hall                880          6380          43210         16930   \n",
       "Wynyard                  570          4710          39620          9200   \n",
       "Redfern                  250          3910          10690          5350   \n",
       "Circular Quay            200          2110           8750          4340   \n",
       "\n",
       "               OUT_0930_1500  IN_1500_1830  OUT_1500_1830  IN_1830_0200  \\\n",
       "STATION                                                                   \n",
       "Central                30150         45370          16270         19010   \n",
       "Town Hall              23550         43670          15270         21760   \n",
       "Wynyard                11180         35010           6510         10690   \n",
       "Redfern                 8170         12510           4250          3660   \n",
       "Circular Quay           6710          9910           3380          4070   \n",
       "\n",
       "               OUT_1830_0200  IN_24_HOURS  OUT_24_HOURS  RANK  STATION_SORT_ID  \n",
       "STATION                                                                         \n",
       "Central                 7700        97110         97110     1              101  \n",
       "Town Hall               6720        89620         89620     2              102  \n",
       "Wynyard                 2330        60200         60200     3              103  \n",
       "Redfern                 2320        25680         25680     6              108  \n",
       "Circular Quay           1600        20630         20630    10              104  "
      ]
     },
     "execution_count": 13,
     "metadata": {},
     "output_type": "execute_result"
    }
   ],
   "source": [
    "cbd2014.head()"
   ]
  },
  {
   "cell_type": "code",
   "execution_count": 21,
   "metadata": {
    "collapsed": false
   },
   "outputs": [
    {
     "data": {
      "text/plain": [
       "<matplotlib.axes._subplots.AxesSubplot at 0x1180a7b50>"
      ]
     },
     "execution_count": 21,
     "metadata": {},
     "output_type": "execute_result"
    },
    {
     "data": {
      "image/png": "[encoded data removed]",
      "text/plain": [
       "<matplotlib.figure.Figure at 0x117e3cc10>"
      ]
     },
     "metadata": {},
     "output_type": "display_data"
    }
   ],
   "source": [
    "cbd2014.IN_24_HOURS.plot.bar()"
   ]
  },
  {
   "cell_type": "code",
   "execution_count": 23,
   "metadata": {
    "collapsed": false
   },
   "outputs": [
    {
     "data": {
      "text/plain": [
       "<matplotlib.axes._subplots.AxesSubplot at 0x117452810>"
      ]
     },
     "execution_count": 23,
     "metadata": {},
     "output_type": "execute_result"
    },
    {
     "data": {
      "image/png": "[encoded data removed]",
      "text/plain": [
       "<matplotlib.figure.Figure at 0x11819fe10>"
      ]
     },
     "metadata": {},
     "output_type": "display_data"
    }
   ],
   "source": [
    "cbd2014.IN_24_HOURS.plot.bar(color =['blue', 'blue', 'blue', 'blue', 'red', 'blue', 'red', 'blue'])"
   ]
  },
  {
   "cell_type": "code",
   "execution_count": 24,
   "metadata": {
    "collapsed": false
   },
   "outputs": [
    {
     "data": {
      "text/plain": [
       "Index([u'Central', u'Town Hall', u'Wynyard', u'Redfern', u'Circular Quay',\n",
       "       u'Martin Place', u'Museum', u'St James'],\n",
       "      dtype='object', name=u'STATION')"
      ]
     },
     "execution_count": 24,
     "metadata": {},
     "output_type": "execute_result"
    }
   ],
   "source": [
    "cbd2014.index"
   ]
  },
  {
   "cell_type": "code",
   "execution_count": 26,
   "metadata": {
    "collapsed": false
   },
   "outputs": [],
   "source": [
    "col_scheme = [('red' if x in ['Circular Quay', 'Museum'] else 'blue') for x in cbd2014.index]"
   ]
  },
  {
   "cell_type": "code",
   "execution_count": 27,
   "metadata": {
    "collapsed": false
   },
   "outputs": [
    {
     "data": {
      "text/plain": [
       "['blue', 'blue', 'blue', 'blue', 'red', 'blue', 'red', 'blue']"
      ]
     },
     "execution_count": 27,
     "metadata": {},
     "output_type": "execute_result"
    }
   ],
   "source": [
    "col_scheme"
   ]
  },
  {
   "cell_type": "code",
   "execution_count": 29,
   "metadata": {
    "collapsed": false
   },
   "outputs": [
    {
     "data": {
      "text/plain": [
       "<matplotlib.axes._subplots.AxesSubplot at 0x1184c7f50>"
      ]
     },
     "execution_count": 29,
     "metadata": {},
     "output_type": "execute_result"
    },
    {
     "data": {
      "image/png": "[encoded data removed]",
      "text/plain": [
       "<matplotlib.figure.Figure at 0x1186c5190>"
      ]
     },
     "metadata": {},
     "output_type": "display_data"
    }
   ],
   "source": [
    "cbd2014.IN_24_HOURS.plot.bar(color=col_scheme)"
   ]
  },
  {
   "cell_type": "code",
   "execution_count": 33,
   "metadata": {
    "collapsed": true
   },
   "outputs": [],
   "source": [
    "import numpy"
   ]
  },
  {
   "cell_type": "code",
   "execution_count": 36,
   "metadata": {
    "collapsed": false
   },
   "outputs": [
    {
     "data": {
      "text/plain": [
       "<matplotlib.axes._subplots.AxesSubplot at 0x11897aa90>"
      ]
     },
     "execution_count": 36,
     "metadata": {},
     "output_type": "execute_result"
    },
    {
     "data": {
      "image/png": "[encoded data removed]",
      "text/plain": [
       "<matplotlib.figure.Figure at 0x118983c50>"
      ]
     },
     "metadata": {},
     "output_type": "display_data"
    }
   ],
   "source": [
    "cbd2014.IN_24_HOURS.plot.bar(color=numpy.where(cbd2014.IN_0200_0600 < 400, 'blue', 'red'))\n",
    "#Colour the train stations that more than 400 people use early in the morning red, other ones blue"
   ]
  },
  {
   "cell_type": "code",
   "execution_count": 37,
   "metadata": {
    "collapsed": false
   },
   "outputs": [
    {
     "data": {
      "text/plain": [
       "<matplotlib.figure.Figure at 0x118983950>"
      ]
     },
     "metadata": {},
     "output_type": "display_data"
    }
   ],
   "source": [
    "matplotlib.pyplot.savefig('trains.png')\n",
    "#might not work with matplotlib inline?? Try taking it out"
   ]
  },
  {
   "cell_type": "code",
   "execution_count": 61,
   "metadata": {
    "collapsed": false,
    "scrolled": true
   },
   "outputs": [
    {
     "data": {
      "image/png": "[encoded data removed]",
      "text/plain": [
       "<matplotlib.figure.Figure at 0x11b17a890>"
      ]
     },
     "metadata": {},
     "output_type": "display_data"
    }
   ],
   "source": [
    "morning_chart = cbd2014.plot.scatter(x='IN_0600_0930', y='OUT_0600_0930', color='red', s=[100, 80, 60, 5, 5, 5, 5, 5])\n",
    "cbd2014.plot.scatter(x='IN_1500_1830', y='OUT_1500_1830', color='blue', ax = morning_chart, s=[100, 80, 60, 5, 5, 5, 5, 5])\n",
    "matplotlib.pyplot.xlabel('Passengers in')\n",
    "matplotlib.pyplot.savefig(\"train-chart.jpg\")"
   ]
  },
  {
   "cell_type": "code",
   "execution_count": null,
   "metadata": {
    "collapsed": true
   },
   "outputs": [],
   "source": []
  }
 ],
 "metadata": {
  "kernelspec": {
   "display_name": "Python 2",
   "language": "python",
   "name": "python2"
  },
  "language_info": {
   "codemirror_mode": {
    "name": "ipython",
    "version": 2
   },
   "file_extension": ".py",
   "mimetype": "text/x-python",
   "name": "python",
   "nbconvert_exporter": "python",
   "pygments_lexer": "ipython2",
   "version": "2.7.11"
  }
 },
 "nbformat": 4,
 "nbformat_minor": 0
}
