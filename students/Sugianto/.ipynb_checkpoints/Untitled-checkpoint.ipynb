{
 "cells": [
  {
   "cell_type": "code",
   "execution_count": 1,
   "metadata": {
    "collapsed": true
   },
   "outputs": [],
   "source": [
    "import sklearn.linear_model"
   ]
  },
  {
   "cell_type": "code",
   "execution_count": 2,
   "metadata": {
    "collapsed": true
   },
   "outputs": [],
   "source": [
    "import pandas as pd"
   ]
  },
  {
   "cell_type": "code",
   "execution_count": 3,
   "metadata": {
    "collapsed": true
   },
   "outputs": [],
   "source": [
    "import matplotlib.pyplot as plt"
   ]
  },
  {
   "cell_type": "code",
   "execution_count": 4,
   "metadata": {
    "collapsed": true
   },
   "outputs": [],
   "source": [
    "%matplotlib inline"
   ]
  },
  {
   "cell_type": "code",
   "execution_count": 6,
   "metadata": {
    "collapsed": false
   },
   "outputs": [],
   "source": [
    "trains = pd.read_csv('data\\\\sydtrains.csv', thousands=',', index_col='STATION')"
   ]
  },
  {
   "cell_type": "code",
   "execution_count": 8,
   "metadata": {
    "collapsed": false
   },
   "outputs": [],
   "source": [
    "trains2014 = trains[trains.YEAR == 2014]"
   ]
  },
  {
   "cell_type": "code",
   "execution_count": 10,
   "metadata": {
    "collapsed": false
   },
   "outputs": [],
   "source": [
    "scatter_data_in = trains2014.loc[:, [\"IN_1500_1830\", \"IN_1830_0200\", \"OUT_0600_0930\"]]"
   ]
  },
  {
   "cell_type": "code",
   "execution_count": 11,
   "metadata": {
    "collapsed": false
   },
   "outputs": [
    {
     "data": {
      "text/plain": [
       "array([[<matplotlib.axes._subplots.AxesSubplot object at 0x000000000B1431D0>,\n",
       "        <matplotlib.axes._subplots.AxesSubplot object at 0x000000000AF18080>,\n",
       "        <matplotlib.axes._subplots.AxesSubplot object at 0x000000000B382FD0>],\n",
       "       [<matplotlib.axes._subplots.AxesSubplot object at 0x000000000B48ECF8>,\n",
       "        <matplotlib.axes._subplots.AxesSubplot object at 0x000000000B3B6FD0>,\n",
       "        <matplotlib.axes._subplots.AxesSubplot object at 0x000000000B6101D0>],\n",
       "       [<matplotlib.axes._subplots.AxesSubplot object at 0x000000000B70AD30>,\n",
       "        <matplotlib.axes._subplots.AxesSubplot object at 0x000000000B8013C8>,\n",
       "        <matplotlib.axes._subplots.AxesSubplot object at 0x000000000B8FAD30>]], dtype=object)"
      ]
     },
     "execution_count": 11,
     "metadata": {},
     "output_type": "execute_result"
    },
    {
     "data": {
      "image/png": "[encoded data removed]",
      "text/plain": [
       "<matplotlib.figure.Figure at 0xb13e6a0>"
      ]
     },
     "metadata": {},
     "output_type": "display_data"
    }
   ],
   "source": [
    "pd.scatter_matrix(scatter_data_in)"
   ]
  },
  {
   "cell_type": "code",
   "execution_count": 23,
   "metadata": {
    "collapsed": false
   },
   "outputs": [],
   "source": [
    "people_in_the_am = trains2014.loc[:, [\"OUT_0600_0930\", \"OUT_0930_1500\"]]"
   ]
  },
  {
   "cell_type": "code",
   "execution_count": 24,
   "metadata": {
    "collapsed": true
   },
   "outputs": [],
   "source": [
    "people_in_the_pm = trains2014.IN_1500_1830"
   ]
  },
  {
   "cell_type": "code",
   "execution_count": 36,
   "metadata": {
    "collapsed": false
   },
   "outputs": [],
   "source": [
    "regressor = sklearn.linear_model.RANSACRegressor(max_trials=10000)"
   ]
  },
  {
   "cell_type": "code",
   "execution_count": 37,
   "metadata": {
    "collapsed": false
   },
   "outputs": [
    {
     "data": {
      "text/plain": [
       "RANSACRegressor(base_estimator=None, is_data_valid=None, is_model_valid=None,\n",
       "        max_trials=10000, min_samples=None, random_state=None,\n",
       "        residual_metric=None, residual_threshold=None, stop_n_inliers=inf,\n",
       "        stop_probability=0.99, stop_score=inf)"
      ]
     },
     "execution_count": 37,
     "metadata": {},
     "output_type": "execute_result"
    }
   ],
   "source": [
    "regressor.fit(people_in_the_am, people_in_the_pm)"
   ]
  },
  {
   "cell_type": "code",
   "execution_count": 38,
   "metadata": {
    "collapsed": true
   },
   "outputs": [],
   "source": [
    "pm_predictions = regressor.predict(people_in_the_am)"
   ]
  },
  {
   "cell_type": "code",
   "execution_count": 39,
   "metadata": {
    "collapsed": false
   },
   "outputs": [
    {
     "data": {
      "text/plain": [
       "array([  4.87916912e+04,   4.87344639e+04,   4.27481130e+04,\n",
       "         1.53643152e+04,   1.98618681e+04,   1.24880778e+04,\n",
       "         9.32915941e+03,   5.31528437e+03,   4.88639993e+03,\n",
       "         1.02248755e+04,   1.52593702e+04,   3.02992770e+03,\n",
       "         9.74648078e+03,   4.09529847e+03,   3.68450384e+03,\n",
       "         4.41220128e+03,   2.75859134e+03,   2.47031634e+03,\n",
       "         3.47447348e+03,   2.06807364e+03,   2.37093702e+03,\n",
       "         6.88657975e+03,   1.91355089e+03,   4.03244338e+03,\n",
       "         6.43218520e+03,   1.19827097e+03,   1.61688918e+03,\n",
       "         2.33009063e+03,   2.74467802e+03,   1.79965602e+03,\n",
       "         1.78240650e+03,   2.82910478e+03,   1.95937495e+03,\n",
       "         1.02693570e+03,   2.18047271e+03,   3.86167124e+03,\n",
       "         1.19863514e+03,   2.41860149e+03,   1.60846337e+03,\n",
       "         1.03608986e+03,   1.29965592e+03,   2.61187262e+03,\n",
       "         1.94681175e+03,   1.36965952e+03,   1.33506809e+03,\n",
       "         1.15042173e+03,   3.12547515e+03,   1.23999138e+03,\n",
       "         1.93638031e+03,   9.70024687e+02,   9.37803056e+02,\n",
       "         1.19349225e+03,   9.42707889e+02,   6.84119492e+02,\n",
       "         8.56348327e+02,   1.00408673e+03,   8.07241344e+02,\n",
       "         3.48981198e+02,   4.70243086e+02,   4.94641132e+02,\n",
       "         4.54469802e+02,   2.47669741e+03,   6.95206446e+02,\n",
       "         7.66924345e+02,   2.26615721e+03,   1.17771897e+03,\n",
       "         7.69002813e+02,   9.45024412e+02,   4.34976588e+02,\n",
       "         1.16291209e+03,   5.80490853e+02,   5.04907356e+02,\n",
       "         2.75403334e+02,   8.68017957e+02,   9.23744068e+02,\n",
       "         8.67124392e+02,   8.54925368e+02,   2.39170437e+02,\n",
       "         9.17270608e+02,   5.73123828e+02,   8.36398554e+02,\n",
       "         4.61016096e+02,   9.12948451e+02,   7.90574495e+02,\n",
       "         9.84739184e+02,   3.63185855e+02,   1.37173799e+03,\n",
       "         4.99473130e+02,   4.22777565e+02,   2.49363826e+02,\n",
       "         4.38623683e+02,   2.74509769e+02,   4.78940682e+02,\n",
       "         5.33773228e+02,   4.89954803e+02,   4.06110715e+02,\n",
       "         5.61070473e+02,   2.34411273e+02,   2.34411273e+02,\n",
       "         1.86872918e+02,   5.27518272e+02,   3.20260994e+02,\n",
       "         2.80089664e+02,   2.34484108e+02,   6.78685266e+02,\n",
       "         5.18072779e+02,   5.47011485e+02,   3.14681100e+02,\n",
       "         7.69002813e+02,   2.39097603e+02,   2.50257392e+02,\n",
       "         2.85742393e+02,   3.61325890e+02,   5.42470825e+02,\n",
       "         2.15665956e+02,   2.11125295e+02,   3.02482077e+02,\n",
       "         5.13459284e+02,   4.18236904e+02,   6.52500089e+02,\n",
       "         2.82916028e+02,   3.51953231e+02,   4.11763444e+02,\n",
       "         1.73780329e+02,   2.11125295e+02,   7.97047955e+02,\n",
       "         1.73780329e+02,   5.50877084e+02,   2.56055789e+02,\n",
       "         3.27773688e+02,   2.40957567e+02,   3.92872458e+02,\n",
       "         1.06232831e+03,   5.50949918e+02,   3.63331523e+02,\n",
       "         6.93783488e+02,   1.49600786e+02,   6.00348239e+02,\n",
       "         5.08025058e+02,   2.71829074e+02,   5.23871176e+02,\n",
       "         7.07842476e+02,   2.16778024e+02,   9.55161366e+01,\n",
       "         1.36508198e+02,   2.00859071e+02,   3.54852430e+02,\n",
       "         1.71993199e+02,   1.52427151e+02,   3.80144042e+02,\n",
       "         1.59867010e+02,   2.79341767e+02,   3.74564147e+02,\n",
       "         4.92999670e+02,   6.84373946e+01,   9.08298072e+01,\n",
       "         1.40300962e+02,   2.22357919e+02,   1.58973445e+02,\n",
       "         3.25840889e+02,   5.64863238e+02,   6.38238996e+01,\n",
       "         1.83225822e+02,   1.57113480e+02,   1.48634387e+02,\n",
       "         2.45716731e+02,   7.12637590e+01,   1.65519739e+02,\n",
       "         2.55853684e+01,   2.48615930e+02,   2.93052981e+01,\n",
       "         3.02700580e+02,   2.66322013e+02,   1.80399458e+02,\n",
       "         6.56838645e+01,   2.18654387e+01,   1.27281208e+02,\n",
       "         3.23233027e+02,   8.61434779e+01,   1.56147080e+02,\n",
       "         1.29141173e+02,   8.99362420e+01,   1.88878551e+02,\n",
       "         3.77115572e+01,   3.39916275e+01,   9.83425010e+01,\n",
       "         3.86051224e+01,   8.99362420e+01,   3.77115572e+01,\n",
       "         1.92598481e+02,   3.77115572e+01,   8.52499127e+01,\n",
       "         1.00202466e+02,   5.16977108e+01,   2.74453333e+01,\n",
       "         5.07313112e+01,   1.17981384e+02,   5.16977108e+01,\n",
       "         8.71827119e+01,   9.93089007e+01,   1.81455090e+01,\n",
       "         8.62163123e+01,   3.77115572e+01,   7.40901235e+01,\n",
       "         2.74453333e+01,   3.39916275e+01,   6.19639347e+01,\n",
       "         1.62766209e+02,   2.93052981e+01,   1.53191445e+01,\n",
       "         1.07715160e+02,   6.38238996e+01,   4.88713464e+01,\n",
       "         4.51514166e+01,   5.82440050e+01,   5.16977108e+01,\n",
       "         1.34591797e+01,   1.12401489e+02,   4.79777811e+01,\n",
       "         2.18654387e+01,   1.38513831e+02,   3.77115572e+01,\n",
       "         5.63840402e+01,   3.39916275e+01,   5.26641104e+01,\n",
       "         1.15992148e+01,   7.87928508e+00,   1.15992148e+01,\n",
       "         6.01932023e+00,   5.05292061e+00,   2.93052981e+01,\n",
       "         2.55853684e+01,   9.73924994e+00,   5.45240753e+01,\n",
       "         6.01932023e+00,  -5.26973966e-01,  -2.38693882e+00,\n",
       "        -5.26973966e-01,   3.86779568e+01,   2.00054739e+01,\n",
       "         7.87928508e+00,  -2.38693882e+00,   7.87928508e+00,\n",
       "         5.26641104e+01,   6.01932023e+00,   5.08041456e+01,\n",
       "        -4.24690368e+00,   1.81455090e+01,   6.76166637e+01,\n",
       "         7.87928508e+00,   1.15992148e+01,   7.87928508e+00,\n",
       "        -6.10686854e+00,   2.00054739e+01,  -2.38693882e+00,\n",
       "        -2.38693882e+00,   4.70842159e+01,   7.87928508e+00,\n",
       "         9.73924994e+00,  -2.38693882e+00,   7.87928508e+00,\n",
       "         3.68179920e+01,   4.15935537e+00,  -2.38693882e+00,\n",
       "         1.62855441e+01,   6.01932023e+00,  -2.38693882e+00,\n",
       "         6.01932023e+00,  -6.10686854e+00,   1.44255793e+01,\n",
       "        -4.24690368e+00,  -6.10686854e+00,   6.01932023e+00,\n",
       "        -4.24690368e+00,  -4.24690368e+00,  -6.10686854e+00,\n",
       "         1.62855441e+01,  -6.10686854e+00,  -4.24690368e+00,\n",
       "         4.15935537e+00,  -6.10686854e+00,  -6.10686854e+00,\n",
       "        -6.10686854e+00,  -6.10686854e+00,  -6.10686854e+00,\n",
       "        -6.10686854e+00,  -6.10686854e+00,  -4.24690368e+00,\n",
       "        -6.10686854e+00,  -6.10686854e+00,  -4.24690368e+00,\n",
       "        -6.10686854e+00,  -6.10686854e+00,  -6.10686854e+00,\n",
       "        -6.10686854e+00,  -6.10686854e+00,  -6.10686854e+00,\n",
       "        -6.10686854e+00,  -6.10686854e+00,  -6.10686854e+00,\n",
       "        -6.10686854e+00,  -6.10686854e+00,  -6.10686854e+00,\n",
       "        -6.10686854e+00,  -6.10686854e+00,  -6.10686854e+00,\n",
       "        -6.10686854e+00,  -6.10686854e+00])"
      ]
     },
     "execution_count": 39,
     "metadata": {},
     "output_type": "execute_result"
    }
   ],
   "source": [
    "pm_predictions"
   ]
  },
  {
   "cell_type": "code",
   "execution_count": 40,
   "metadata": {
    "collapsed": false
   },
   "outputs": [
    {
     "data": {
      "text/plain": [
       "[<matplotlib.lines.Line2D at 0xc4a14a8>]"
      ]
     },
     "execution_count": 40,
     "metadata": {},
     "output_type": "execute_result"
    },
    {
     "data": {
      "image/png": "[encoded data removed]",
      "text/plain": [
       "<matplotlib.figure.Figure at 0xc4a1438>"
      ]
     },
     "metadata": {},
     "output_type": "display_data"
    }
   ],
   "source": [
    "plt.scatter(trains2014.OUT_0600_0930 + trains2014.OUT_0930_1500, trains2014.IN_1500_1830)\n",
    "plt.plot(trains2014.OUT_0600_0930, pm_predictions, color='red')"
   ]
  },
  {
   "cell_type": "code",
   "execution_count": 41,
   "metadata": {
    "collapsed": false
   },
   "outputs": [
    {
     "data": {
      "text/plain": [
       "array([ 1.02662239,  0.18599649])"
      ]
     },
     "execution_count": 41,
     "metadata": {},
     "output_type": "execute_result"
    }
   ],
   "source": [
    "regressor.estimator_.coef_"
   ]
  },
  {
   "cell_type": "code",
   "execution_count": 42,
   "metadata": {
    "collapsed": false
   },
   "outputs": [
    {
     "data": {
      "text/plain": [
       "-6.1068685424792193"
      ]
     },
     "execution_count": 42,
     "metadata": {},
     "output_type": "execute_result"
    }
   ],
   "source": [
    "regressor.estimator_.intercept_"
   ]
  },
  {
   "cell_type": "code",
   "execution_count": null,
   "metadata": {
    "collapsed": true
   },
   "outputs": [],
   "source": []
  }
 ],
 "metadata": {
  "kernelspec": {
   "display_name": "Python 2",
   "language": "python",
   "name": "python2"
  },
  "language_info": {
   "codemirror_mode": {
    "name": "ipython",
    "version": 2
   },
   "file_extension": ".py",
   "mimetype": "text/x-python",
   "name": "python",
   "nbconvert_exporter": "python",
   "pygments_lexer": "ipython2",
   "version": "2.7.11"
  }
 },
 "nbformat": 4,
 "nbformat_minor": 0
}
