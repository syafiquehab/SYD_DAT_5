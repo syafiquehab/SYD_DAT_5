{
 "cells": [
  {
   "cell_type": "code",
   "execution_count": 21,
   "metadata": {
    "collapsed": true
   },
   "outputs": [],
   "source": [
    "%matplotlib inline\n",
    "import networkx"
   ]
  },
  {
   "cell_type": "code",
   "execution_count": 22,
   "metadata": {
    "collapsed": true
   },
   "outputs": [],
   "source": [
    "hp = networkx.Graph()"
   ]
  },
  {
   "cell_type": "code",
   "execution_count": 23,
   "metadata": {
    "collapsed": true
   },
   "outputs": [],
   "source": [
    "hp.add_node('Harry')\n",
    "hp.add_node('Hermione')\n",
    "hp.add_node('Ron')\n",
    "hp.add_node('Arthur')\n",
    "hp.add_node('Draco')\n",
    "hp.add_node('Lucius')\n",
    "hp.add_node('Voldemort')"
   ]
  },
  {
   "cell_type": "code",
   "execution_count": 24,
   "metadata": {
    "collapsed": true
   },
   "outputs": [],
   "source": [
    "hp.add_edge('Voldemort', 'Lucius')\n",
    "hp.add_edge('Lucius', 'Draco')\n",
    "hp.add_edge('Draco', 'Harry')\n",
    "hp.add_edge('Harry', 'Hermione')\n",
    "hp.add_edge('Harry', 'Ron')\n",
    "hp.add_edge('Harry', 'Voldemort')\n",
    "hp.add_edge('Hermione', 'Ron')\n",
    "hp.add_edge('Ron', 'Arthur')"
   ]
  },
  {
   "cell_type": "code",
   "execution_count": 25,
   "metadata": {
    "collapsed": false
   },
   "outputs": [
    {
     "data": {
      "image/png": "[encoded data removed]",
      "text/plain": [
       "<matplotlib.figure.Figure at 0x8ee8d30>"
      ]
     },
     "metadata": {},
     "output_type": "display_data"
    }
   ],
   "source": [
    "networkx.draw_networkx(hp)"
   ]
  },
  {
   "cell_type": "code",
   "execution_count": 26,
   "metadata": {
    "collapsed": false
   },
   "outputs": [
    {
     "data": {
      "text/plain": [
       "0.38095238095238093"
      ]
     },
     "execution_count": 26,
     "metadata": {},
     "output_type": "execute_result"
    }
   ],
   "source": [
    "#how dense is the network\n",
    "networkx.density(hp)"
   ]
  },
  {
   "cell_type": "code",
   "execution_count": 27,
   "metadata": {
    "collapsed": false
   },
   "outputs": [
    {
     "data": {
      "text/plain": [
       "0.21428571428571427"
      ]
     },
     "execution_count": 27,
     "metadata": {},
     "output_type": "execute_result"
    }
   ],
   "source": [
    "networkx.average_clustering(hp)"
   ]
  },
  {
   "cell_type": "code",
   "execution_count": 28,
   "metadata": {
    "collapsed": false
   },
   "outputs": [
    {
     "data": {
      "text/plain": [
       "1.9047619047619047"
      ]
     },
     "execution_count": 28,
     "metadata": {},
     "output_type": "execute_result"
    }
   ],
   "source": [
    "networkx.average_shortest_path_length(hp)"
   ]
  },
  {
   "cell_type": "code",
   "execution_count": 33,
   "metadata": {
    "collapsed": false
   },
   "outputs": [
    {
     "data": {
      "text/plain": [
       "{'Arthur': 0.16666666666666666,\n",
       " 'Draco': 0.3333333333333333,\n",
       " 'Harry': 0.6666666666666666,\n",
       " 'Hermione': 0.3333333333333333,\n",
       " 'Lucius': 0.3333333333333333,\n",
       " 'Ron': 0.5,\n",
       " 'Voldemort': 0.3333333333333333}"
      ]
     },
     "execution_count": 33,
     "metadata": {},
     "output_type": "execute_result"
    }
   ],
   "source": [
    "networkx.degree_centrality(hp)"
   ]
  },
  {
   "cell_type": "code",
   "execution_count": 34,
   "metadata": {
    "collapsed": true
   },
   "outputs": [],
   "source": [
    "def sort_dictionary_by_value(d):\n",
    "    return sorted(d.items(), key=(lambda t: t[1]), reverse=True)"
   ]
  },
  {
   "cell_type": "code",
   "execution_count": 35,
   "metadata": {
    "collapsed": false
   },
   "outputs": [
    {
     "data": {
      "text/plain": [
       "[('Harry', 0.6666666666666666),\n",
       " ('Ron', 0.5),\n",
       " ('Voldemort', 0.3333333333333333),\n",
       " ('Lucius', 0.3333333333333333),\n",
       " ('Hermione', 0.3333333333333333),\n",
       " ('Draco', 0.3333333333333333),\n",
       " ('Arthur', 0.16666666666666666)]"
      ]
     },
     "execution_count": 35,
     "metadata": {},
     "output_type": "execute_result"
    }
   ],
   "source": [
    "sort_dictionary_by_value(networkx.degree_centrality(hp))"
   ]
  },
  {
   "cell_type": "code",
   "execution_count": 36,
   "metadata": {
    "collapsed": false
   },
   "outputs": [
    {
     "data": {
      "text/plain": [
       "[('Harry', 0.75),\n",
       " ('Ron', 0.6),\n",
       " ('Voldemort', 0.5454545454545454),\n",
       " ('Hermione', 0.5454545454545454),\n",
       " ('Draco', 0.5454545454545454),\n",
       " ('Lucius', 0.42857142857142855),\n",
       " ('Arthur', 0.4)]"
      ]
     },
     "execution_count": 36,
     "metadata": {},
     "output_type": "execute_result"
    }
   ],
   "source": [
    "sort_dictionary_by_value(networkx.closeness_centrality(hp))"
   ]
  },
  {
   "cell_type": "code",
   "execution_count": 37,
   "metadata": {
    "collapsed": false
   },
   "outputs": [
    {
     "data": {
      "text/plain": [
       "[('Harry', 0.6333333333333333),\n",
       " ('Ron', 0.3333333333333333),\n",
       " ('Voldemort', 0.13333333333333333),\n",
       " ('Draco', 0.13333333333333333),\n",
       " ('Lucius', 0.03333333333333333),\n",
       " ('Arthur', 0.0),\n",
       " ('Hermione', 0.0)]"
      ]
     },
     "execution_count": 37,
     "metadata": {},
     "output_type": "execute_result"
    }
   ],
   "source": [
    "sort_dictionary_by_value(networkx.betweenness_centrality(hp))"
   ]
  },
  {
   "cell_type": "code",
   "execution_count": 38,
   "metadata": {
    "collapsed": false
   },
   "outputs": [
    {
     "data": {
      "text/plain": [
       "[('Harry', 0.23417676416851915),\n",
       " ('Ron', 0.18733775642770642),\n",
       " ('Lucius', 0.1282830774877625),\n",
       " ('Voldemort', 0.12571229288024988),\n",
       " ('Draco', 0.12571229288024988),\n",
       " ('Hermione', 0.12427035370902881),\n",
       " ('Arthur', 0.07450746244648342)]"
      ]
     },
     "execution_count": 38,
     "metadata": {},
     "output_type": "execute_result"
    }
   ],
   "source": [
    "sort_dictionary_by_value(networkx.pagerank(hp))"
   ]
  },
  {
   "cell_type": "code",
   "execution_count": 41,
   "metadata": {
    "collapsed": true
   },
   "outputs": [],
   "source": [
    "import matplotlib.pyplot as plt"
   ]
  },
  {
   "cell_type": "code",
   "execution_count": 44,
   "metadata": {
    "collapsed": false
   },
   "outputs": [
    {
     "data": {
      "image/png": "[encoded data removed]",
      "text/plain": [
       "<matplotlib.figure.Figure at 0x83cef98>"
      ]
     },
     "metadata": {},
     "output_type": "display_data"
    }
   ],
   "source": [
    "networkx.draw_networkx(hp,\n",
    "                       node_size=[x*x*100000 for x in networkx.pagerank(hp).values()],\n",
    "                       node_color=networkx.betweenness_centrality(hp).values(),\n",
    "                       cmap=plt.cm.Spectral)"
   ]
  },
  {
   "cell_type": "code",
   "execution_count": 45,
   "metadata": {
    "collapsed": false
   },
   "outputs": [
    {
     "data": {
      "text/plain": [
       "['Ron', 'Voldemort', 'Lucius', 'Arthur', 'Hermione', 'Harry', 'Draco']"
      ]
     },
     "execution_count": 45,
     "metadata": {},
     "output_type": "execute_result"
    }
   ],
   "source": [
    "hp.nodes()"
   ]
  },
  {
   "cell_type": "code",
   "execution_count": 46,
   "metadata": {
    "collapsed": false
   },
   "outputs": [
    {
     "data": {
      "text/plain": [
       "[['Arthur', 'Ron'],\n",
       " ['Harry', 'Draco'],\n",
       " ['Harry', 'Hermione', 'Ron'],\n",
       " ['Harry', 'Voldemort'],\n",
       " ['Lucius', 'Draco'],\n",
       " ['Lucius', 'Voldemort']]"
      ]
     },
     "execution_count": 46,
     "metadata": {},
     "output_type": "execute_result"
    }
   ],
   "source": [
    "list(networkx.clique.find_cliques(hp))"
   ]
  },
  {
   "cell_type": "code",
   "execution_count": 47,
   "metadata": {
    "collapsed": false
   },
   "outputs": [
    {
     "data": {
      "text/plain": [
       "[('Harry', 'Lucius', 0.5)]"
      ]
     },
     "execution_count": 47,
     "metadata": {},
     "output_type": "execute_result"
    }
   ],
   "source": [
    "list(networkx.jaccard_coefficient(hp, [('Harry', 'Lucius')]))"
   ]
  },
  {
   "cell_type": "code",
   "execution_count": 48,
   "metadata": {
    "collapsed": false
   },
   "outputs": [
    {
     "data": {
      "text/plain": [
       "[('Ron', 'Hermione', 0.25)]"
      ]
     },
     "execution_count": 48,
     "metadata": {},
     "output_type": "execute_result"
    }
   ],
   "source": [
    "list(networkx.jaccard_coefficient(hp, [('Ron', 'Hermione')]))"
   ]
  },
  {
   "cell_type": "code",
   "execution_count": 49,
   "metadata": {
    "collapsed": false
   },
   "outputs": [
    {
     "data": {
      "text/plain": [
       "[('Draco', 'Voldemort', 1.0)]"
      ]
     },
     "execution_count": 49,
     "metadata": {},
     "output_type": "execute_result"
    }
   ],
   "source": [
    "list(networkx.jaccard_coefficient(hp, [('Draco', 'Voldemort')]))"
   ]
  },
  {
   "cell_type": "code",
   "execution_count": 50,
   "metadata": {
    "collapsed": false
   },
   "outputs": [
    {
     "data": {
      "text/html": [
       "<div>\n",
       "<table border=\"1\" class=\"dataframe\">\n",
       "  <thead>\n",
       "    <tr style=\"text-align: right;\">\n",
       "      <th></th>\n",
       "      <th>Ron</th>\n",
       "      <th>Voldemort</th>\n",
       "      <th>Lucius</th>\n",
       "      <th>Arthur</th>\n",
       "      <th>Hermione</th>\n",
       "      <th>Harry</th>\n",
       "      <th>Draco</th>\n",
       "    </tr>\n",
       "  </thead>\n",
       "  <tbody>\n",
       "    <tr>\n",
       "      <th>Ron</th>\n",
       "      <td>0.0</td>\n",
       "      <td>0.0</td>\n",
       "      <td>0.0</td>\n",
       "      <td>1.0</td>\n",
       "      <td>1.0</td>\n",
       "      <td>1.0</td>\n",
       "      <td>0.0</td>\n",
       "    </tr>\n",
       "    <tr>\n",
       "      <th>Voldemort</th>\n",
       "      <td>0.0</td>\n",
       "      <td>0.0</td>\n",
       "      <td>1.0</td>\n",
       "      <td>0.0</td>\n",
       "      <td>0.0</td>\n",
       "      <td>1.0</td>\n",
       "      <td>0.0</td>\n",
       "    </tr>\n",
       "    <tr>\n",
       "      <th>Lucius</th>\n",
       "      <td>0.0</td>\n",
       "      <td>1.0</td>\n",
       "      <td>0.0</td>\n",
       "      <td>0.0</td>\n",
       "      <td>0.0</td>\n",
       "      <td>0.0</td>\n",
       "      <td>1.0</td>\n",
       "    </tr>\n",
       "    <tr>\n",
       "      <th>Arthur</th>\n",
       "      <td>1.0</td>\n",
       "      <td>0.0</td>\n",
       "      <td>0.0</td>\n",
       "      <td>0.0</td>\n",
       "      <td>0.0</td>\n",
       "      <td>0.0</td>\n",
       "      <td>0.0</td>\n",
       "    </tr>\n",
       "    <tr>\n",
       "      <th>Hermione</th>\n",
       "      <td>1.0</td>\n",
       "      <td>0.0</td>\n",
       "      <td>0.0</td>\n",
       "      <td>0.0</td>\n",
       "      <td>0.0</td>\n",
       "      <td>1.0</td>\n",
       "      <td>0.0</td>\n",
       "    </tr>\n",
       "    <tr>\n",
       "      <th>Harry</th>\n",
       "      <td>1.0</td>\n",
       "      <td>1.0</td>\n",
       "      <td>0.0</td>\n",
       "      <td>0.0</td>\n",
       "      <td>1.0</td>\n",
       "      <td>0.0</td>\n",
       "      <td>1.0</td>\n",
       "    </tr>\n",
       "    <tr>\n",
       "      <th>Draco</th>\n",
       "      <td>0.0</td>\n",
       "      <td>0.0</td>\n",
       "      <td>1.0</td>\n",
       "      <td>0.0</td>\n",
       "      <td>0.0</td>\n",
       "      <td>1.0</td>\n",
       "      <td>0.0</td>\n",
       "    </tr>\n",
       "  </tbody>\n",
       "</table>\n",
       "</div>"
      ],
      "text/plain": [
       "           Ron  Voldemort  Lucius  Arthur  Hermione  Harry  Draco\n",
       "Ron        0.0        0.0     0.0     1.0       1.0    1.0    0.0\n",
       "Voldemort  0.0        0.0     1.0     0.0       0.0    1.0    0.0\n",
       "Lucius     0.0        1.0     0.0     0.0       0.0    0.0    1.0\n",
       "Arthur     1.0        0.0     0.0     0.0       0.0    0.0    0.0\n",
       "Hermione   1.0        0.0     0.0     0.0       0.0    1.0    0.0\n",
       "Harry      1.0        1.0     0.0     0.0       1.0    0.0    1.0\n",
       "Draco      0.0        0.0     1.0     0.0       0.0    1.0    0.0"
      ]
     },
     "execution_count": 50,
     "metadata": {},
     "output_type": "execute_result"
    }
   ],
   "source": [
    "networkx.to_pandas_dataframe(hp)"
   ]
  },
  {
   "cell_type": "code",
   "execution_count": null,
   "metadata": {
    "collapsed": true
   },
   "outputs": [],
   "source": []
  }
 ],
 "metadata": {
  "kernelspec": {
   "display_name": "Python 2",
   "language": "python",
   "name": "python2"
  },
  "language_info": {
   "codemirror_mode": {
    "name": "ipython",
    "version": 2
   },
   "file_extension": ".py",
   "mimetype": "text/x-python",
   "name": "python",
   "nbconvert_exporter": "python",
   "pygments_lexer": "ipython2",
   "version": "2.7.11"
  }
 },
 "nbformat": 4,
 "nbformat_minor": 0
}
