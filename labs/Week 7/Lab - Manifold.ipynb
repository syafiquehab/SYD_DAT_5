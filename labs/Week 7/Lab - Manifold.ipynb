{
 "cells": [
  {
   "cell_type": "markdown",
   "metadata": {},
   "source": [
    "# Manifolds\n",
    "\n",
    "In this lab we will take some sample data where PCA fails\n",
    "quite badly, but manifold methods are able to reduce the dimensionality\n",
    "very well.\n",
    "\n",
    "The first two cells are a done for you already."
   ]
  },
  {
   "cell_type": "code",
   "execution_count": null,
   "metadata": {
    "collapsed": false
   },
   "outputs": [],
   "source": [
    "# We use the sklearn make_s_curve tool to create \n",
    "# 1000 points in 3D space (we've called that X)\n",
    "# The array called t is how far around the S curve\n",
    "# those points are\n",
    "%matplotlib inline\n",
    "import matplotlib.pyplot\n",
    "import sklearn.datasets\n",
    "from mpl_toolkits.mplot3d import Axes3D\n",
    "X, t = sklearn.datasets.samples_generator.make_s_curve(1000)\n",
    "\n",
    "\n"
   ]
  },
  {
   "cell_type": "code",
   "execution_count": null,
   "metadata": {
    "collapsed": false
   },
   "outputs": [],
   "source": [
    "# Display this as a 3D figure. You can fiddle\n",
    "# with the argument to view_init to view it from\n",
    "# different angles. (It can take another argument\n",
    "# to check the perspective)\n",
    "\n",
    "fig = matplotlib.pyplot.figure()\n",
    "ax = fig.add_subplot(111, projection='3d')\n",
    "ax.scatter(X[:,0], X[:,1], X[:,2], c=t, cmap=matplotlib.pyplot.cm.Spectral)\n",
    "ax.view_init(5)\n",
    "fig"
   ]
  },
  {
   "cell_type": "code",
   "execution_count": null,
   "metadata": {
    "collapsed": false
   },
   "outputs": [],
   "source": [
    "# First, let's see what happens with PCA.\n",
    "# Create a PCA object with n_components = 2"
   ]
  },
  {
   "cell_type": "code",
   "execution_count": null,
   "metadata": {
    "collapsed": false
   },
   "outputs": [],
   "source": [
    "# Use fit_transform to turn X into a lower-dimensional\n",
    "# data set"
   ]
  },
  {
   "cell_type": "code",
   "execution_count": null,
   "metadata": {
    "collapsed": false
   },
   "outputs": [],
   "source": [
    "# Plot this with matplotlib.pyplot.scatter\n",
    "# You can match the colours from the 3D plot above by including\n",
    "#  c=t, cmap=matplotlib.pyplot.cm.Spectral\n",
    "# as arguments to matplotlib.pyplot.scatter"
   ]
  },
  {
   "cell_type": "code",
   "execution_count": null,
   "metadata": {
    "collapsed": true
   },
   "outputs": [],
   "source": [
    "# Note that green and blue were mapped together regularly,\n",
    "# even though they are distantly apart in the original data set.\n",
    "# Now import the sklearn.manifold library"
   ]
  },
  {
   "cell_type": "code",
   "execution_count": null,
   "metadata": {
    "collapsed": false
   },
   "outputs": [],
   "source": [
    "# Create a LocallyLinearEmbedding object\n",
    "# You want 2 dimensional data, so make sure n_components=2\n",
    "# It is very sensitive to n_neighbours: try 10 initially and\n",
    "# later on come back and explore the impact of changing it.\n",
    "# Try method='modified' as this tends to give better results."
   ]
  },
  {
   "cell_type": "code",
   "execution_count": null,
   "metadata": {
    "collapsed": true
   },
   "outputs": [],
   "source": [
    "# Use this LocallyLinearEmbedding object to fit_transform X"
   ]
  },
  {
   "cell_type": "code",
   "execution_count": null,
   "metadata": {
    "collapsed": false
   },
   "outputs": [],
   "source": [
    "# Plot this data with matplotlib.pyplot.scatter\n",
    "# Again, use c=t, cmap=matplotlib.pyplot.cm.Spectral\n",
    "# to see how it performed"
   ]
  }
 ],
 "metadata": {
  "kernelspec": {
   "display_name": "Python 2",
   "language": "python",
   "name": "python2"
  },
  "language_info": {
   "codemirror_mode": {
    "name": "ipython",
    "version": 2
   },
   "file_extension": ".py",
   "mimetype": "text/x-python",
   "name": "python",
   "nbconvert_exporter": "python",
   "pygments_lexer": "ipython2",
   "version": "2.7.11"
  }
 },
 "nbformat": 4,
 "nbformat_minor": 0
}
