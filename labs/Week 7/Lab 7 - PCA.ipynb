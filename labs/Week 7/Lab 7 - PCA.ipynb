{
 "cells": [
  {
   "cell_type": "markdown",
   "metadata": {},
   "source": [
    "# Principal Component Analysis\n",
    "\n"
   ]
  },
  {
   "cell_type": "code",
   "execution_count": 1,
   "metadata": {
    "collapsed": false
   },
   "outputs": [],
   "source": [
    "# You will need the usual libraries; numpy, matplotlib\n",
    "%matplotlib inline\n",
    "import pandas as pd\n",
    "import matplotlib.pyplot as plt\n"
   ]
  },
  {
   "cell_type": "code",
   "execution_count": 6,
   "metadata": {
    "collapsed": false
   },
   "outputs": [],
   "source": [
    "# PCA does quite well with the iris data\n",
    "# Like all the sklearn.datasets, when you load_iris()\n",
    "# you will get an object where the data (stem lengths,\n",
    "# petal widths, etc. is in ['data'] and the target \n",
    "# (what kind of iris it is) in ['target']\n",
    "# You can remind yourself of the data columns by \n",
    "# looking a ['feature_names']\n",
    "import sklearn.datasets as sets\n",
    "iris = sets.load_iris().data"
   ]
  },
  {
   "cell_type": "code",
   "execution_count": 5,
   "metadata": {
    "collapsed": false
   },
   "outputs": [
    {
     "data": {
      "text/plain": [
       "['sepal length (cm)',\n",
       " 'sepal width (cm)',\n",
       " 'petal length (cm)',\n",
       " 'petal width (cm)']"
      ]
     },
     "execution_count": 5,
     "metadata": {},
     "output_type": "execute_result"
    }
   ],
   "source": [
    "sets.load_iris().feature_names"
   ]
  },
  {
   "cell_type": "code",
   "execution_count": 8,
   "metadata": {
    "collapsed": true
   },
   "outputs": [],
   "source": [
    "# Import sklearn.decomposition and create a PCA object\n",
    "# We'll only be interested in the two most important \n",
    "# components\n",
    "import sklearn.decomposition as decom\n",
    "pca = decom.PCA(whiten=True, n_components=2)"
   ]
  },
  {
   "cell_type": "code",
   "execution_count": 9,
   "metadata": {
    "collapsed": true
   },
   "outputs": [],
   "source": [
    "# Transform the iris_data with your PCA object\n",
    "# (you don't need the \"target\" for this, just the \"data\")\n",
    "warped_data = pca.fit_transform(iris)"
   ]
  },
  {
   "cell_type": "code",
   "execution_count": null,
   "metadata": {
    "collapsed": true
   },
   "outputs": [],
   "source": [
    "# (Optional) Plot this decomposed data on a scatter plot\n",
    "# It is often helpful to do three scatter plots on top of\n",
    "# each other, so that the setosa can be read points,\n",
    "# the versicolor green and the virginica blue"
   ]
  },
  {
   "cell_type": "code",
   "execution_count": 11,
   "metadata": {
    "collapsed": false
   },
   "outputs": [
    {
     "data": {
      "text/plain": [
       "array([ 0.92461621,  0.05301557])"
      ]
     },
     "execution_count": 11,
     "metadata": {},
     "output_type": "execute_result"
    }
   ],
   "source": [
    "# How much of the variance in the data is explained by the\n",
    "# first component of this decomposed data?\n",
    "pca.explained_variance_ratio_"
   ]
  },
  {
   "cell_type": "code",
   "execution_count": null,
   "metadata": {
    "collapsed": true
   },
   "outputs": [],
   "source": [
    "# How much by the second?"
   ]
  },
  {
   "cell_type": "code",
   "execution_count": null,
   "metadata": {
    "collapsed": true
   },
   "outputs": [],
   "source": [
    "# Have a look at the first (principal) component\n",
    "# Which features (sepal length, sepal width, petal length, petal width)\n",
    "# does it use, and how much of each?"
   ]
  },
  {
   "cell_type": "code",
   "execution_count": null,
   "metadata": {
    "collapsed": true
   },
   "outputs": [],
   "source": [
    "# We have thrown away data, and we'd like to know how badly\n",
    "# this has affected the original.\n",
    "# Use the inverse_transform() method to take your decomposed\n",
    "# data and turn it back into 4-dimensional lengths / widths / etc."
   ]
  },
  {
   "cell_type": "code",
   "execution_count": null,
   "metadata": {
    "collapsed": true
   },
   "outputs": [],
   "source": [
    "# Create some scatter plots where you compare the \"clean\" data\n",
    "# with the simplified data.\n",
    "# e.g. do a scatter plot of sepal length and sepal width with\n",
    "# both datasets."
   ]
  },
  {
   "cell_type": "code",
   "execution_count": null,
   "metadata": {
    "collapsed": true
   },
   "outputs": [],
   "source": [
    "# (Optional) What happens if you use SparsePCA instead of PCA"
   ]
  }
 ],
 "metadata": {
  "kernelspec": {
   "display_name": "Python 2",
   "language": "python",
   "name": "python2"
  },
  "language_info": {
   "codemirror_mode": {
    "name": "ipython",
    "version": 2
   },
   "file_extension": ".py",
   "mimetype": "text/x-python",
   "name": "python",
   "nbconvert_exporter": "python",
   "pygments_lexer": "ipython2",
   "version": "2.7.11"
  }
 },
 "nbformat": 4,
 "nbformat_minor": 0
}
