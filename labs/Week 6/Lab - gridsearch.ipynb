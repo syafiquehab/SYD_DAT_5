{
 "cells": [
  {
   "cell_type": "markdown",
   "metadata": {},
   "source": [
    "# GridSearch\n",
    "\n",
    "In this lab we will try to find the visualise the effect of increasing\n",
    "depth in a decision tree, and then try to create the best possible decision tree.\n"
   ]
  },
  {
   "cell_type": "code",
   "execution_count": 20,
   "metadata": {
    "collapsed": false
   },
   "outputs": [],
   "source": [
    "# Do the usual tasks to load the Titanic data\n",
    "import pandas\n",
    "titanic = pandas.read_csv('../../data/titanic.csv', index_col='PassengerId')\n",
    "titanic['Gender'] = [0 if x == 'male' else 1 for x in titanic.Sex]\n",
    "feature_cols = ['Pclass', 'Parch', 'Age', 'Gender']\n",
    "good_data = titanic[titanic.Age.notnull()]\n",
    "X = good_data[feature_cols]\n",
    "y = good_data.Survived"
   ]
  },
  {
   "cell_type": "code",
   "execution_count": null,
   "metadata": {
    "collapsed": true
   },
   "outputs": [],
   "source": [
    "# Import the sklearn libraries for grid_search and tree"
   ]
  },
  {
   "cell_type": "code",
   "execution_count": null,
   "metadata": {
    "collapsed": true
   },
   "outputs": [],
   "source": [
    "# Create a decision tree classifier"
   ]
  },
  {
   "cell_type": "code",
   "execution_count": null,
   "metadata": {
    "collapsed": true
   },
   "outputs": [],
   "source": [
    "# Initially, we will just explore the effect of increasing\n",
    "# the max_depth parameter.\n",
    "# Create a dictionary which has a key of 'max_depth' and\n",
    "# a value of the numbers between 1 and 20"
   ]
  },
  {
   "cell_type": "code",
   "execution_count": null,
   "metadata": {
    "collapsed": true
   },
   "outputs": [],
   "source": [
    "# Create a GridSearchCV object. It will need two parameters:\n",
    "# - the decision tree classifier (from two cells back)\n",
    "# - the parameters dictionary (from the previous cell)\n",
    "# There is an optional \"cv\" parameter which you might want\n",
    "# to explore later."
   ]
  },
  {
   "cell_type": "code",
   "execution_count": null,
   "metadata": {
    "collapsed": true
   },
   "outputs": [],
   "source": [
    "# Use the GridSearchCV to fit the X and y data"
   ]
  },
  {
   "cell_type": "code",
   "execution_count": null,
   "metadata": {
    "collapsed": true
   },
   "outputs": [],
   "source": [
    "# What does the best_params_ attribute say?"
   ]
  },
  {
   "cell_type": "code",
   "execution_count": null,
   "metadata": {
    "collapsed": true
   },
   "outputs": [],
   "source": [
    "# What about the best_score_ attribute?"
   ]
  },
  {
   "cell_type": "code",
   "execution_count": null,
   "metadata": {
    "collapsed": true
   },
   "outputs": [],
   "source": [
    "# We can see how this compares with other values.\n",
    "# The grid_scores_ attribute of the GridSearchCV object\n",
    "# is now a list. Print it out"
   ]
  },
  {
   "cell_type": "code",
   "execution_count": null,
   "metadata": {
    "collapsed": true
   },
   "outputs": [],
   "source": [
    "# Each element of this list is a 3-tuple. The middle element\n",
    "# is the score. You can use\n",
    "#  [x[1] for result in YOUR_GRID_VARIABLE.grid_scores_]\n",
    "# to display it"
   ]
  },
  {
   "cell_type": "code",
   "execution_count": null,
   "metadata": {
    "collapsed": true
   },
   "outputs": [],
   "source": [
    "# Import matplotlib.pyplot; remember to do %matplotlib inline first"
   ]
  },
  {
   "cell_type": "code",
   "execution_count": null,
   "metadata": {
    "collapsed": true
   },
   "outputs": [],
   "source": [
    "# Use matplotlib.pyplot.plot to plot these grid_scores_\n",
    "# Once you have that working, use pyplot.plot to also add\n",
    "# a marker on the best_score (pass 'ro' as the third argument\n",
    "# to get a red circle on it)"
   ]
  },
  {
   "cell_type": "code",
   "execution_count": null,
   "metadata": {
    "collapsed": true
   },
   "outputs": [],
   "source": [
    "# If you have Graphviz and pydot installed and working,\n",
    "# display the resulting decision tree"
   ]
  },
  {
   "cell_type": "markdown",
   "metadata": {},
   "source": [
    "## Brute-force every option (optional)"
   ]
  },
  {
   "cell_type": "code",
   "execution_count": null,
   "metadata": {
    "collapsed": true
   },
   "outputs": [],
   "source": [
    "# Create a new GridSearchCV object and a new parameters\n",
    "# dictionary. This time, try all combinations of parameters\n",
    "# max_features (from 1 to 4 inclusive), max_depth (from 1 to 20)\n",
    "# criterion ('gini' or 'entropy').\n",
    "# What is the best decision tree you can make?"
   ]
  }
 ],
 "metadata": {
  "kernelspec": {
   "display_name": "Python 2",
   "language": "python",
   "name": "python2"
  },
  "language_info": {
   "codemirror_mode": {
    "name": "ipython",
    "version": 2
   },
   "file_extension": ".py",
   "mimetype": "text/x-python",
   "name": "python",
   "nbconvert_exporter": "python",
   "pygments_lexer": "ipython2",
   "version": "2.7.11"
  }
 },
 "nbformat": 4,
 "nbformat_minor": 0
}
