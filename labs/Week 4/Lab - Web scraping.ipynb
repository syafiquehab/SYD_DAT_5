{
 "cells": [
  {
   "cell_type": "markdown",
   "metadata": {},
   "source": [
    "# Data Acquisition Lab\n",
    "\n",
    "This lab is divided into short sections, one for each section of theory."
   ]
  },
  {
   "cell_type": "markdown",
   "metadata": {},
   "source": [
    "## Accessing Unprotected Web pages"
   ]
  },
  {
   "cell_type": "code",
   "execution_count": null,
   "metadata": {
    "collapsed": true
   },
   "outputs": [],
   "source": [
    "# import the Python requests library so that you can use it in your program"
   ]
  },
  {
   "cell_type": "code",
   "execution_count": null,
   "metadata": {
    "collapsed": true
   },
   "outputs": [],
   "source": [
    "# Go to the Australian Bureau of Meteorology website and work out which page corresponds to the\n",
    "# Sydney weather forecast. Store that in a variable here"
   ]
  },
  {
   "cell_type": "code",
   "execution_count": null,
   "metadata": {
    "collapsed": true
   },
   "outputs": [],
   "source": [
    "# Use the requests.get() method to fetch that page"
   ]
  },
  {
   "cell_type": "code",
   "execution_count": null,
   "metadata": {
    "collapsed": true
   },
   "outputs": [],
   "source": [
    "# Did that succeed? What was the .status_code?"
   ]
  },
  {
   "cell_type": "code",
   "execution_count": null,
   "metadata": {
    "collapsed": true
   },
   "outputs": [],
   "source": [
    "# What was the .text or .content of that page? Save it in a variable, because we will be using it\n",
    "# a little later"
   ]
  },
  {
   "cell_type": "markdown",
   "metadata": {},
   "source": [
    "## Accessing forms\n",
    "\n",
    "The pandas library already has a module for getting information from the Yahoo Finance pages, \n",
    "so you are unlikely to use the following code in any normal environment. But it's an example of\n",
    "a simple web API"
   ]
  },
  {
   "cell_type": "code",
   "execution_count": null,
   "metadata": {
    "collapsed": true
   },
   "outputs": [],
   "source": [
    "# There is a stock price lookup form on https://au.finance.yahoo.com (it says Enter Symbol)\n",
    "# Inspect that element, and identify:\n",
    "# - The <INPUT> tag with the name \"s\"\n",
    "# - The <INPUT> tag with the name \"ql\" (which has a type of \"hidden\")\n",
    "# - The <FORM> tag surrounding them with the action of \"/q\" and the method of GET\n",
    "#\n",
    "# Create a dictionary with appropriate keys to provide values for the input tags.\n",
    "# Create a variable with the full URL to submit to"
   ]
  },
  {
   "cell_type": "code",
   "execution_count": null,
   "metadata": {
    "collapsed": true
   },
   "outputs": [],
   "source": [
    "# Use requests.get to retrieve that page"
   ]
  },
  {
   "cell_type": "markdown",
   "metadata": {},
   "source": [
    "## Secured pages\n",
    "\n",
    "The username for files under http://www.ifost.org.au/ga/protected is \"ga\" and the password is \"s3cr3t\"\n",
    "\n",
    "In this section we will fetch a file from a website that requires authentication."
   ]
  },
  {
   "cell_type": "code",
   "execution_count": null,
   "metadata": {
    "collapsed": true
   },
   "outputs": [],
   "source": [
    "# What happens if you use the requests library to fetch http://www.ifost.org.au/ga/protected/data.json \n",
    "# without supplying a password? What is the .status_code?"
   ]
  },
  {
   "cell_type": "code",
   "execution_count": null,
   "metadata": {
    "collapsed": true
   },
   "outputs": [],
   "source": [
    "# Try again, but this time supplying a username and password"
   ]
  },
  {
   "cell_type": "markdown",
   "metadata": {},
   "source": [
    "## Parsing HTML\n",
    "\n",
    "In this section we will find the prediction for tomorrow's weather."
   ]
  },
  {
   "cell_type": "code",
   "execution_count": null,
   "metadata": {
    "collapsed": true
   },
   "outputs": [],
   "source": [
    "# import BeautifulSoup library (version 4)"
   ]
  },
  {
   "cell_type": "code",
   "execution_count": null,
   "metadata": {
    "collapsed": true
   },
   "outputs": [],
   "source": [
    "# Create a variable called \"soup\" with the result of parsing the Bureau of Meteorology prediction for\n",
    "# Sydney that you captured at the start of this notebook."
   ]
  },
  {
   "cell_type": "code",
   "execution_count": null,
   "metadata": {
    "collapsed": true
   },
   "outputs": [],
   "source": [
    "def has_the_word_tuesday(x):\n",
    "    return 'Tuesday' in x\n",
    "\n",
    "# Find the first element in \"soup\" which has the word Tuesday in it\n",
    "# You might find the function \"has_the_word_tuesday\" helpful"
   ]
  },
  {
   "cell_type": "code",
   "execution_count": null,
   "metadata": {
    "collapsed": true
   },
   "outputs": [],
   "source": [
    "# The weather prediction is obviously going to be in a <DIV> that includes it\n",
    "# Display the parent of the element you found in the previous cell. You might\n",
    "# find the .prettify() method makes it easier to display"
   ]
  },
  {
   "cell_type": "code",
   "execution_count": null,
   "metadata": {
    "collapsed": true
   },
   "outputs": [],
   "source": [
    "# Can you find a <DD> element with a CSS class \"summary\"? (Use the parameter class_ in BeautifulSoup)"
   ]
  },
  {
   "cell_type": "code",
   "execution_count": null,
   "metadata": {
    "collapsed": true
   },
   "outputs": [],
   "source": [
    "# Display the \"string\" attribute of this summary element. Do you need to bring an umbrella?"
   ]
  },
  {
   "cell_type": "markdown",
   "metadata": {},
   "source": [
    "## JSON APIs\n",
    "\n",
    "Many websites display their information in JSON format. In this section we will interact\n",
    "with the Pokemon database http://pokeapi.co/"
   ]
  },
  {
   "cell_type": "code",
   "execution_count": null,
   "metadata": {
    "collapsed": true
   },
   "outputs": [],
   "source": [
    "# Look up their documentation. What is the base URL for querying a Pokemon? What URL\n",
    "# would you use to look up the Pokemon called \"Groudon\"? Store it in a variable"
   ]
  },
  {
   "cell_type": "code",
   "execution_count": null,
   "metadata": {
    "collapsed": true
   },
   "outputs": [],
   "source": [
    "# Use the requests library to fetch the Groudon data"
   ]
  },
  {
   "cell_type": "code",
   "execution_count": null,
   "metadata": {
    "collapsed": true
   },
   "outputs": [],
   "source": [
    "# Check the status code to make sure that it worked"
   ]
  },
  {
   "cell_type": "code",
   "execution_count": null,
   "metadata": {
    "collapsed": true
   },
   "outputs": [],
   "source": [
    "# Is the content of the response in JSON format? Use the requests library function\n",
    "# to decode it from JSON format into a Python dictionary"
   ]
  },
  {
   "cell_type": "code",
   "execution_count": null,
   "metadata": {
    "collapsed": true
   },
   "outputs": [],
   "source": [
    "# What are the keys of this python dictionary?"
   ]
  },
  {
   "cell_type": "code",
   "execution_count": null,
   "metadata": {
    "collapsed": true
   },
   "outputs": [],
   "source": [
    "# Is \"weight\" listed there? If so, then the value in it should be a number\n",
    "# If you play Pokemon, does this number look reasonable?"
   ]
  }
 ],
 "metadata": {
  "kernelspec": {
   "display_name": "Python 2",
   "language": "python",
   "name": "python2"
  },
  "language_info": {
   "codemirror_mode": {
    "name": "ipython",
    "version": 2
   },
   "file_extension": ".py",
   "mimetype": "text/x-python",
   "name": "python",
   "nbconvert_exporter": "python",
   "pygments_lexer": "ipython2",
   "version": "2.7.11"
  }
 },
 "nbformat": 4,
 "nbformat_minor": 0
}
