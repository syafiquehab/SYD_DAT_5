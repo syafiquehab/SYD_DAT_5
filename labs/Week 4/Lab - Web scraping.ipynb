{
 "cells": [
  {
   "cell_type": "markdown",
   "metadata": {},
   "source": [
    "# Data Acquisition Lab\n",
    "\n",
    "This lab is divided into short sections, one for each section of theory."
   ]
  },
  {
   "cell_type": "markdown",
   "metadata": {},
   "source": [
    "## Accessing Unprotected Web pages"
   ]
  },
  {
   "cell_type": "code",
   "execution_count": 21,
   "metadata": {
    "collapsed": true
   },
   "outputs": [],
   "source": [
    "# import the Python requests library so that you can use it in your program\n",
    "import requests"
   ]
  },
  {
   "cell_type": "code",
   "execution_count": 22,
   "metadata": {
    "collapsed": true
   },
   "outputs": [],
   "source": [
    "# Go to the Australian Bureau of Meteorology website and work out which page corresponds to the\n",
    "# Sydney weather forecast. Store that in a variable here\n",
    "url = 'http://www.bom.gov.au/nsw/forecasts/sydney.shtml'"
   ]
  },
  {
   "cell_type": "code",
   "execution_count": 23,
   "metadata": {
    "collapsed": false
   },
   "outputs": [],
   "source": [
    "# Use the requests.get() method to fetch that page\n",
    "r = requests.get(url)"
   ]
  },
  {
   "cell_type": "code",
   "execution_count": 24,
   "metadata": {
    "collapsed": false
   },
   "outputs": [
    {
     "data": {
      "text/plain": [
       "200"
      ]
     },
     "execution_count": 24,
     "metadata": {},
     "output_type": "execute_result"
    }
   ],
   "source": [
    "# Did that succeed? What was the .status_code?\n",
    "r.status_code"
   ]
  },
  {
   "cell_type": "code",
   "execution_count": 25,
   "metadata": {
    "collapsed": false
   },
   "outputs": [
    {
     "name": "stdout",
     "output_type": "stream",
     "text": [
      "<!DOCTYPE html PUBLIC \"-//W3C//DTD XHTML 1.0 Transitional//EN\" \"http://www.w3.org/TR/xhtml1/DTD/xhtml1-transitional.dtd\">\n",
      "<html xmlns=\"http://www.w3.org/1999/xhtml\" xml:lang=\"en-AU\" lang=\"en\">\n",
      "<!--Page: pgn_sydney_forecast-->\n",
      "  <head>\n",
      "\n",
      "    <meta http-equiv=\"Content-Type\" content=\"text/html; charset=ISO-8859-1\" />\n",
      "    <meta name=\"language\" content=\"english\" />\n",
      "    <title>Sydney Forecast</title>\n",
      "    <link rel=\"Schema.AGLS\" href=\"http://www.naa.gov.au/recordkeeping/gov_online/agls/1.2\" />\n",
      "    <meta name=\"DC.Publisher\" content=\"corporateName=Bureau of Meteorology\" />\n",
      "    <meta name=\"DC.Format\" content=\"text/html\" />\n",
      "    <meta name=\"DC.Coverage.jurisdiction\" content=\"Commonwealth of Australia\" />\n",
      "    <meta name=\"DC.Rights\" scheme=\"URI\" content=\"http://www.bom.gov.au/other/copyright.shtml\" />\n",
      "    <meta name=\"DC.Language\" scheme=\"RFC1766\" content=\"en\" />\n",
      "    <meta name=\"AGLS.Audience\" scheme=\"BoM_audience list\" content=\"All\" />\n",
      "    <link rel=\"image_src\" href=\"http://www.bom.gov.au/images/ui/bom_logo_social.gif\" />\n",
      "    <link rel=\"stylesheet\" type=\"text/css\" href=\"/css/core.css\" />\n",
      "<!--[if lte IE 7]><link rel=\"stylesheet\" type=\"text/css\" href=\"/css/core-ie.css\" /><![endif]-->\n",
      "    <link rel=\"stylesheet\" type=\"text/css\" href=\"/css/weather/gfe.css\" />\n",
      "    <script type=\"text/javascript\" src=\"/scripts/utilities.js\"></script>\n",
      "    <script type=\"text/javascript\" src=\"/libs/jquery/1.7.1/jquery.min.js\"></script>\n",
      "    <script type=\"text/javascript\" src=\"/libs/jquery/external/plugins/superfish/1.4.8/superfish.js\"></script>\n",
      "    <script type=\"text/javascript\" src=\"/libs/jquery/external/plugins/superfish/1.4.8/hoverIntent.js\"></script>\n",
      "    <script type=\"text/javascript\" src=\"/scripts/header-menus.js\"></script>\n",
      "  </head>\n",
      "  <body>\n",
      "<ul id=\"jumplinks\">\n",
      "\t\t<li><a href=\"#content\">Skip to main content</a></li>\n",
      "\t</ul>\n",
      "\n",
      "    <!-- Start: PageHeight -->\n",
      "    <div id=\"pageheight\">\n",
      "\t  <div id=\"pagewrap\">\n",
      "      <!-- Start: Header -->\n",
      "      <div id=\"header\">\n",
      "\t\t<div class=\"l_content\">\n",
      "\t\t\t<div id=\"header-logo\">\n",
      "\t\t\t\t<img class=\"bannerprint\" width=\"1\" height=\"1\" alt=\"Print Background\" src=\"http://ws.cdn.bom.gov.au/images/ui/bannerprint.gif\" />\n",
      "\t\t\t\t<a id=\"logo\" href=\"/?ref=logo\"><img src=\"http://ws.cdn.bom.gov.au/images/ui/bom_logo_clr.gif\" title=\"Australian Government - Bureau of Meteorology\" alt=\"Australian Government - Bureau of Meteorology\" /></a>\n",
      "\t\t\t</div>\n",
      "\t\t\t<div id=\"header-main\">\n",
      "\t\t\t\t<div class=\"l_top\">\n",
      "\t\t\t\t\t<div id=\"header-search\">\n",
      "\t\t\t\t\t\t<form action=\"http://search.bom.gov.au/s/search.html\" method=\"get\" class=\"searchform\" enctype=\"application/x-www-form-urlencoded\">\n",
      "\t\t\t\t\t\t\t<label for=\"query\">Search</label><input type=\"text\" id=\"query\" name=\"query\" size=\"30\" value=\"\" />\n",
      "\t\t\t\t\t\t\t<input type=\"hidden\" name=\"collection\" value=\"bom\" />\n",
      "\t\t\t\t\t\t\t<input type=\"submit\" value=\"Search\" name=\"Submit\" title=\"Search\" class=\"search\" />\n",
      "\t\t\t\t\t\t</form>\n",
      "\t\t\t\t\t</div>\n",
      "\t\t\t\t\t<ul>\n",
      "\t\t\t\t\t\t<li><a href=\"/?ref=hdr\">Home</a></li>\n",
      "\t\t\t\t\t\t<li><a href=\"/inside/index.shtml?ref=hdr\">About</a></li>\n",
      "                                                <li><a href=\"http://media.bom.gov.au/\">Media</a></li>\n",
      "\t\t\t\t\t\t<li class=\"last\"><a href=\"/inside/contacts.shtml?ref=hdr\">Contacts</a></li>\n",
      "\t\t\t\t\t</ul>\n",
      "\t\t\t\t</div>\n",
      "\t\t\t\t<div class=\"l_bottom\">\n",
      "\t\t\t\t\t<ul class=\"sf-menu\">\n",
      "\t\t\t\t\t\t<li id=\"sf-menu-nsw\">\n",
      "\t\t\t\t\t\t\t<abbr title=\"New South Wales\"><a href=\"/nsw/?ref=hdr\" title=\"New South Wales\">NSW</a></abbr>\n",
      "\t\t\t\t\t\t\t<ul>\n",
      "\t\t\t\t\t\t\t\t<li class=\"decoration\"><img src=\"http://ws.cdn.bom.gov.au/images/weather/nsw-thumb.png\" alt=\"\" /></li>\n",
      "\t\t\t\t\t\t\t\t<li class=\"heading\"><a href=\"/nsw/index.shtml?ref=hdr\" title=\"New South Wales Weather and Warnings\">NSW Weather &amp; Warnings</a></li>\n",
      "\t\t\t\t\t\t\t\t<li><a href=\"/nsw/warnings/index.shtml?ref=hdr\" title=\"New South Wales Warnings Summary\">Warnings Summary</a></li>\n",
      "\t\t\t\t\t\t\t\t<li><a href=\"/nsw/forecasts/index.shtml?ref=hdr\" title=\"New South Wales Forecasts\">Forecasts</a></li>\n",
      "\t\t\t\t\t\t\t\t<li><a href=\"/nsw/forecasts/sydney.shtml?ref=hdr\" title=\"Sydney Forecast\">Sydney Forecast</a></li>\n",
      "\t\t\t\t\t\t\t\t<li><a href=\"/nsw/forecasts/map.shtml?ref=hdr\" title=\"New South Wales Forecast Area Map\">NSW Forecast Area Map</a></li>\n",
      "\t\t\t\t\t\t\t\t<li><a href=\"/nsw/observations/index.shtml?ref=hdr\" title=\"New South Wales Weather Observations\">Observations</a></li>\n",
      "\t\t\t\t\t\t\t\t<li><a href=\"/nsw/observations/sydney.shtml?ref=hdr\" title=\"Latest Weather Observations for the Sydney Area\">Sydney Observations</a></li>\n",
      "\t\t\t\t\t\t\t\t<li><a href=\"/nsw/observations/nswall.shtml?ref=hdr\" title=\"Latest Weather Observations for New South Wales\">All NSW Observations</a></li>\n",
      "\t\t\t\t\t\t\t\t<li class=\"last\"><a href=\"/nsw/flood/index.shtml?ref=hdr\" title=\"New South Wales Rainfall and River Conditions\">Rainfall &amp; River Conditions</a></li>\n",
      "\t\t\t\t\t\t\t</ul>\n",
      "\t\t\t\t\t\t\t<div class=\"sf-menu-pointer\"></div>\n",
      "\t\t\t\t\t\t</li>\n",
      "\t\t\t\t\t\t<li id=\"sf-menu-vic\">\n",
      "\t\t\t\t\t\t\t<abbr title=\"Victoria\"><a href=\"/vic/?ref=hdr\" title=\"Victoria\">VIC</a></abbr>\n",
      "\t\t\t\t\t\t\t<ul>\n",
      "\t\t\t\t\t\t\t\t<li class=\"decoration\"><img src=\"http://ws.cdn.bom.gov.au/images/weather/vic-thumb.png\" alt=\"\" /></li>\n",
      "\t\t\t\t\t\t\t\t<li class=\"heading\"><a href=\"/vic/index.shtml?ref=hdr\" title=\"Victorian Weather and Warnings\">VIC Weather &amp; Warnings</a></li>\n",
      "\t\t\t\t\t\t\t\t<li><a href=\"/vic/warnings/index.shtml?ref=hdr\" title=\"Victorian Warnings Summary\">Warnings Summary</a></li>\n",
      "\t\t\t\t\t\t\t\t<li><a href=\"/vic/forecasts/index.shtml?ref=hdr\" title=\"Victorian Forecasts\">Forecasts</a></li>\n",
      "\t\t\t\t\t\t\t\t<li><a href=\"/vic/forecasts/melbourne.shtml?ref=hdr\" title=\"Melbourne Forecast\">Melbourne Forecast</a></li>\n",
      "\t\t\t\t\t\t\t\t<li><a href=\"/vic/forecasts/map.shtml?ref=hdr\" title=\"Victorian Forecast Areas Map\">Vic. Forecast Areas Map</a></li>\n",
      "\t\t\t\t\t\t\t\t<li><a href=\"/vic/observations/index.shtml?ref=hdr\" title=\"Victorian Observations\">Observations</a></li>\n",
      "\t\t\t\t\t\t\t\t<li><a href=\"/vic/observations/melbourne.shtml?ref=hdr\" title=\"Latest Weather Observations for the Melbourne Area\">Melbourne Observations</a></li>\n",
      "\t\t\t\t\t\t\t\t<li><a href=\"/vic/observations/vicall.shtml?ref=hdr\" title=\"Latest Weather Observations for Victoria\">All Victorian Observations</a></li>\n",
      "\t\t\t\t\t\t\t\t<li class=\"last\"><a href=\"/vic/flood/index.shtml?ref=hdr\" title=\"Victoria Rainfall and River Conditions\">Rainfall &amp; River Conditions</a></li>\n",
      "\t\t\t\t\t\t\t</ul>\n",
      "\t\t\t\t\t\t\t<div class=\"sf-menu-pointer\"></div>\n",
      "\t\t\t\t\t\t</li>\n",
      "\t\t\t\t\t\t<li id=\"sf-menu-qld\">\n",
      "\t\t\t\t\t\t\t<abbr title=\"Queensland\"><a href=\"/qld/?ref=hdr\" title=\"Queensland\">QLD</a></abbr>\n",
      "\t\t\t\t\t\t\t<ul>\n",
      "\t\t\t\t\t\t\t\t<li class=\"decoration\"><img src=\"http://ws.cdn.bom.gov.au/images/weather/qld-thumb.png\" alt=\"\" /></li>\n",
      "\t\t\t\t\t\t\t\t<li class=\"heading\"><a href=\"/qld/index.shtml?ref=hdr\" title=\"Queensland Weather and Warnings\">QLD Weather &amp; Warnings</a></li>\n",
      "\t\t\t\t\t\t\t\t<li><a href=\"/qld/warnings/index.shtml?ref=hdr\" title=\"Queensland Warnings Summary\">Warnings Summary</a></li>\n",
      "\t\t\t\t\t\t\t\t<li><a href=\"/qld/forecasts/index.shtml?ref=hdr\" title=\"Queensland Forecasts\">Forecasts</a></li>\n",
      "\t\t\t\t\t\t\t\t<li><a href=\"/qld/forecasts/brisbane.shtml?ref=hdr\" title=\"Brisbane Forecast\">Brisbane Forecast</a></li>\n",
      "\t\t\t\t\t\t\t\t<li><a href=\"/qld/forecasts/map.shtml?ref=hdr\" title=\"Queensland Forecast Areas Map\">Qld. Forecast Areas Map</a></li>\n",
      "\t\t\t\t\t\t\t\t<li><a href=\"/qld/observations/index.shtml?ref=hdr\" title=\"Queensland Observations\">Observations</a></li>\n",
      "\t\t\t\t\t\t\t\t<li><a href=\"/qld/observations/brisbane.shtml?ref=hdr\" title=\"Latest Weather Observations for the Brisbane Area\">Brisbane Observations</a></li>\n",
      "\t\t\t\t\t\t\t\t<li><a href=\"/qld/observations/qldall.shtml?ref=hdr\" title=\"Latest Weather Observations for Queensland\">All Queensland Observations</a></li>\n",
      "\t\t\t\t\t\t\t\t<li class=\"last\"><a href=\"/qld/flood/index.shtml?ref=hdr\" title=\"Queensland Rainfall and River Conditions\">Rainfall &amp; River Conditions</a></li>\n",
      "\t\t\t\t\t\t\t</ul>\n",
      "\t\t\t\t\t\t\t<div class=\"sf-menu-pointer\"></div>\n",
      "\t\t\t\t\t\t</li>\n",
      "\t\t\t\t\t\t<li id=\"sf-menu-wa\">\n",
      "\t\t\t\t\t\t\t<abbr title=\"Western Australia\"><a href=\"/wa/?ref=hdr\" title=\"Western Australia\">WA</a></abbr>\n",
      "\t\t\t\t\t\t\t<ul>\n",
      "\t\t\t\t\t\t\t\t<li class=\"decoration\"><img src=\"http://ws.cdn.bom.gov.au/images/weather/wa-thumb.png\" alt=\"\" /></li>\n",
      "\t\t\t\t\t\t\t\t<li class=\"heading\"><a href=\"/wa/index.shtml?ref=hdr\" title=\"Western Australia Weather and Warnings\">WA Weather &amp; Warnings</a></li>\n",
      "\t\t\t\t\t\t\t\t<li><a href=\"/wa/warnings/index.shtml?ref=hdr\" title=\"Western Australia Warnings Summary\">Warnings Summary</a></li>\n",
      "\t\t\t\t\t\t\t\t<li><a href=\"/wa/forecasts/index.shtml?ref=hdr\" title=\"Western Australia Forecasts\">Forecasts</a></li>\n",
      "\t\t\t\t\t\t\t\t<li><a href=\"/wa/forecasts/perth.shtml?ref=hdr\" title=\"Perth Forecast\">Perth Forecast</a></li>\n",
      "\t\t\t\t\t\t\t\t<li><a href=\"/wa/forecasts/map.shtml?ref=hdr\" title=\"Western Australian Forecast Areas Map\">WA Forecast Areas Map</a></li>\n",
      "\t\t\t\t\t\t\t\t<li><a href=\"/wa/observations/index.shtml?ref=hdr\" title=\"Western Australia Observations\">Observations</a></li>\n",
      "\t\t\t\t\t\t\t\t<li><a href=\"/wa/observations/perth.shtml?ref=hdr\" title=\"Latest Weather Observations for the Perth Area\">Perth Observations</a></li>\n",
      "\t\t\t\t\t\t\t\t<li><a href=\"/wa/observations/waall.shtml?ref=hdr\" title=\"Latest Weather Observations for Western Australia\">All WA Observations</a></li>\n",
      "\t\t\t\t\t\t\t\t<li class=\"last\"><a href=\"/wa/flood/index.shtml?ref=hdr\" title=\"Western Australia Rainfall and River Conditions\">Rainfall &amp; River Conditions</a></li>\n",
      "\t\t\t\t\t\t\t</ul>\n",
      "\t\t\t\t\t\t\t<div class=\"sf-menu-pointer\"></div>\n",
      "\t\t\t\t\t\t</li>\n",
      "\t\t\t\t\t\t<li id=\"sf-menu-sa\">\n",
      "\t\t\t\t\t\t\t<abbr title=\"South Australia\"><a href=\"/sa/?ref=hdr\" title=\"South Australia\">SA</a></abbr>\n",
      "\t\t\t\t\t\t\t<ul>\n",
      "\t\t\t\t\t\t\t\t<li class=\"decoration\"><img src=\"http://ws.cdn.bom.gov.au/images/weather/sa-thumb.png\" alt=\"\" /></li>\n",
      "\t\t\t\t\t\t\t\t<li class=\"heading\"><a href=\"/sa/index.shtml?ref=hdr\" title=\"South Australian Weather and Warnings\">SA Weather &amp; Warnings</a></li>\n",
      "\t\t\t\t\t\t\t\t<li><a href=\"/sa/warnings/index.shtml?ref=hdr\" title=\"Warnings for South Australia\">Warnings Summary</a></li>\n",
      "\t\t\t\t\t\t\t\t<li><a href=\"/sa/forecasts/index.shtml?ref=hdr\" title=\"South Australian Forecasts\">Forecasts</a></li>\n",
      "\t\t\t\t\t\t\t\t<li><a href=\"/sa/forecasts/adelaide.shtml?ref=hdr\" title=\"Adelaide Forecast\">Adelaide Forecast</a></li>\n",
      "\t\t\t\t\t\t\t\t<li><a href=\"/sa/forecasts/map.shtml?ref=hdr\" title=\"South Australia Forecast Area Map\">SA Forecast Area Map</a></li>\n",
      "\t\t\t\t\t\t\t\t<li><a href=\"/sa/observations/index.shtml?ref=hdr\" title=\"South Australian Observations\">Observations</a></li>\n",
      "\t\t\t\t\t\t\t\t<li><a href=\"/sa/observations/adelaide.shtml?ref=hdr\" title=\"Latest Weather Observations for the Adelaide Area\">Adelaide Observations</a></li>\n",
      "\t\t\t\t\t\t\t\t<li><a href=\"/sa/observations/saall.shtml?ref=hdr\" title=\"Latest Weather Observations for South Australia\">All SA Observations</a></li>\n",
      "\t\t\t\t\t\t\t\t<li class=\"last\"><a href=\"/sa/flood/index.shtml?ref=hdr\" title=\"South Australia Rainfall and River Conditions\">Rainfall &amp; River Conditions</a></li>\n",
      "\t\t\t\t\t\t\t</ul>\n",
      "\t\t\t\t\t\t\t<div class=\"sf-menu-pointer\"></div>\n",
      "\t\t\t\t\t\t</li>\n",
      "\t\t\t\t\t\t<li id=\"sf-menu-tas\">\n",
      "\t\t\t\t\t\t\t<abbr title=\"Tasmania\"><a href=\"/tas/?ref=hdr\" title=\"Tasmania\">TAS</a></abbr>\n",
      "\t\t\t\t\t\t\t<ul>\n",
      "\t\t\t\t\t\t\t\t<li class=\"decoration\"><img src=\"http://ws.cdn.bom.gov.au/images/weather/tas-thumb.png\" alt=\"\" /></li>\n",
      "\t\t\t\t\t\t\t\t<li class=\"heading\"><a href=\"/tas/index.shtml?ref=hdr\" title=\"Tasmanian Weather and Warnings\">TAS Weather &amp; Warnings</a></li>\n",
      "\t\t\t\t\t\t\t\t<li><a href=\"/tas/warnings/index.shtml?ref=hdr\" title=\"Tasmanian Warnings Summary\">Warnings Summary</a></li>\n",
      "\t\t\t\t\t\t\t\t<li><a href=\"/tas/forecasts/index.shtml?ref=hdr\" title=\"Tasmanian Forecasts\">Forecasts</a></li>\n",
      "\t\t\t\t\t\t\t\t<li><a href=\"/tas/forecasts/hobart.shtml?ref=hdr\" title=\"Hobart Forecast\">Hobart Forecast</a></li>\n",
      "\t\t\t\t\t\t\t\t<li><a href=\"/tas/forecasts/map.shtml?ref=hdr\" title=\"Tasmanian Forecast Areas Map\">Tas. Forecast Areas Map</a></li>\n",
      "\t\t\t\t\t\t\t\t<li><a href=\"/tas/observations/index.shtml?ref=hdr\" title=\"Tasmanian Observations\">Observations</a></li>\n",
      "\t\t\t\t\t\t\t\t<li><a href=\"/tas/observations/hobart.shtml?ref=hdr\" title=\"Latest Weather Observations for the Hobart Area\">Hobart Observations</a></li>\n",
      "\t\t\t\t\t\t\t\t<li><a href=\"/tas/observations/tasall.shtml?ref=hdr\" title=\"Latest Weather Observations for Tasmania\">All Tasmanian Observations</a></li>\n",
      "\t\t\t\t\t\t\t\t<li class=\"last\"><a href=\"/tas/flood/index.shtml?ref=hdr\" title=\"Tasmania Rainfall and River Conditions\">Rainfall &amp; River Conditions</a></li>\n",
      "\t\t\t\t\t\t\t</ul>\n",
      "\t\t\t\t\t\t\t<div class=\"sf-menu-pointer\"></div>\n",
      "\t\t\t\t\t\t</li>\n",
      "\t\t\t\t\t\t<li id=\"sf-menu-act\">\n",
      "\t\t\t\t\t\t\t<abbr title=\"Australian Capital Territory\"><a href=\"/act/?ref=hdr\" title=\"Australian Capital Territory\">ACT</a></abbr>\n",
      "\t\t\t\t\t\t\t<ul>\n",
      "\t\t\t\t\t\t\t\t<li class=\"decoration\"><img src=\"http://ws.cdn.bom.gov.au/images/weather/act-thumb.png\" alt=\"\" /></li>\n",
      "\t\t\t\t\t\t\t\t<li class=\"heading\"><a href=\"/act/index.shtml?ref=hdr\" title=\"Australian Capital Territory Weather and Warnings\">ACT Weather &amp; Warnings</a></li>\n",
      "\t\t\t\t\t\t\t\t<li><a href=\"/act/warnings/index.shtml?ref=hdr\" title=\"Australian Capital Territory Warnings Summary\">Warnings Summary</a></li>\n",
      "\t\t\t\t\t\t\t\t<li><a href=\"/act/forecasts/index.shtml?ref=hdr\" title=\"Australian Capital Territory Forecasts\">Forecasts</a></li>\n",
      "\t\t\t\t\t\t\t\t<li><a href=\"/act/forecasts/canberra.shtml?ref=hdr\" title=\"Canberra Forecast\">Canberra Forecast</a></li>\n",
      "\t\t\t\t\t\t\t\t<li><a href=\"/act/forecasts/act.shtml?ref=hdr\" title=\"Australian Capital Territory Forecast\">ACT Forecast</a></li>\n",
      "\t\t\t\t\t\t\t\t<li><a href=\"/act/observations/index.shtml?ref=hdr\" title=\"Australian Capital Territory Observations\">Observations</a></li>\n",
      "\t\t\t\t\t\t\t\t<li class=\"last\"><a href=\"/act/observations/canberra.shtml?ref=hdr\" title=\"Latest Weather Observations for the Canberra Area\">Canberra Observations</a></li>\n",
      "\t\t\t\t\t\t\t</ul>\n",
      "\t\t\t\t\t\t\t<div class=\"sf-menu-pointer\"></div>\n",
      "\t\t\t\t\t\t</li>\n",
      "\t\t\t\t\t\t<li id=\"sf-menu-nt\">\n",
      "\t\t\t\t\t\t\t<abbr title=\"Northern Territory\"><a href=\"/nt/?ref=hdr\" title=\"Northern Territory\">NT</a></abbr>\n",
      "\t\t\t\t\t\t\t<ul>\n",
      "\t\t\t\t\t\t\t\t<li class=\"decoration\"><img src=\"http://ws.cdn.bom.gov.au/images/weather/nt-thumb.png\" alt=\"\" /></li>\n",
      "\t\t\t\t\t\t\t\t<li class=\"heading\"><a href=\"/nt/index.shtml?ref=hdr\" title=\"Northern Territory Weather and Warnings\">NT Weather &amp; Warnings</a></li>\n",
      "\t\t\t\t\t\t\t\t<li><a href=\"/nt/warnings/index.shtml?ref=hdr\" title=\"Northern Territory Warnings Summary\">Warning Summary</a></li>\n",
      "\t\t\t\t\t\t\t\t<li><a href=\"/nt/forecasts/index.shtml?ref=hdr\" title=\"Northern Territory Forecasts\">Forecasts</a></li>\n",
      "\t\t\t\t\t\t\t\t<li><a href=\"/nt/forecasts/darwin.shtml?ref=hdr\" title=\"Darwin Forecast\">Darwin Forecast</a></li>\n",
      "\t\t\t\t\t\t\t\t<li><a href=\"/nt/forecasts/map.shtml?ref=hdr\" title=\"Northern Territory Forecast Area Map\">NT Forecast Areas Map</a></li>\n",
      "\t\t\t\t\t\t\t\t<li><a href=\"/nt/observations/index.shtml?ref=hdr\" title=\"Northern Territory Weather Observations\">Observations</a></li>\n",
      "\t\t\t\t\t\t\t\t<li><a href=\"/nt/observations/darwin.shtml?ref=hdr\" title=\"Latest Weather Observations for Darwin Area\">Darwin Observations</a></li>\n",
      "\t\t\t\t\t\t\t\t<li><a href=\"/nt/observations/ntall.shtml?ref=hdr\" title=\"All NT Weather Observations\">All NT Observations</a></li>\n",
      "\t\t\t\t\t\t\t\t<li class=\"last\"><a href=\"/nt/flood/index.shtml?ref=hdr\" title=\"Northern Territory Rainfall and River Conditions\">Rainfall &amp; River Conditions</a></li>\n",
      "\t\t\t\t\t\t\t</ul>\n",
      "\t\t\t\t\t\t\t<div class=\"sf-menu-pointer\"></div>\n",
      "\t\t\t\t\t\t</li>\n",
      "\t\t\t\t\t\t<li id=\"sf-menu-aus\" class=\"separator\">\n",
      "\t\t\t\t\t\t\t<a href=\"/australia/?ref=hdr\" title=\"National Weather and Warnings\">Australia</a>\n",
      "\t\t\t\t\t\t\t<ul>\n",
      "\t\t\t\t\t\t\t\t<li class=\"decoration\"><img src=\"http://ws.cdn.bom.gov.au/images/weather/aus-thumb.png\" alt=\"\" /></li>\n",
      "\t\t\t\t\t\t\t\t<li class=\"heading\"><a href=\"/australia/index.shtml?ref=hdr\" title=\"National Weather and Warnings\">National Weather &amp; Warnings</a></li>\n",
      "\t\t\t\t\t\t\t\t<li><a href=\"/australia/warnings/index.shtml?ref=hdr\" title=\"National Warnings Summary\">Warnings Summary</a></li>\n",
      "\t\t\t\t\t\t\t\t<li><a href=\"/australia/majorcities.shtml?ref=hdr\" title=\"Major Cities Forecast plus Outlook\">Major Cities</a></li>\n",
      "\t\t\t\t\t\t\t\t<li><a href=\"/australia/radar/index.shtml?ref=hdr\" title=\"Radar Images\">Radar Images</a></li>\n",
      "\t\t\t\t\t\t\t\t<li><a href=\"/australia/charts/index.shtml?ref=hdr\" title=\"Weather Maps\">Weather Maps</a></li>\n",
      "\t\t\t\t\t\t\t\t<li><a href=\"/australia/satellite/index.shtml?ref=hdr\" title=\"Recent Satellite Images\">Satellite Images</a></li>\n",
      "\t\t\t\t\t\t\t\t<li class=\"last\"><a href=\"/australia/flood/index.shtml?ref=hdr\" title=\"Australia Rainfall and River Conditions\">Rainfall &amp; River Conditions</a></li>\n",
      "\t\t\t\t\t\t\t</ul>\n",
      "\t\t\t\t\t\t\t<div class=\"sf-menu-pointer\"></div>\n",
      "\t\t\t\t\t\t</li>\n",
      "\t\t\t\t\t\t<li class=\"no-menu\"><a href=\"/global/?ref=hdr\" title=\"Global Weather and Warnings\">Global</a></li>\n",
      "\t\t\t\t\t\t<li class=\"last no-menu\"><a href=\"/ant/?ref=hdr\" title=\"Antarctic and Southern Ocean Weather\">Antarctica</a></li>\n",
      "\t\t\t\t\t</ul>\n",
      "\t\t\t\t</div>\n",
      "\t\t\t</div>\n",
      "\t\t</div>\n",
      "\t\t<div class=\"l_shadow\"></div>\n",
      "      </div>\n",
      "      <!-- End: Header -->\n",
      "\n",
      "      <!--\r\n",
      "<div id=\"site-announcement\">\r\n",
      "<p>Insert message</p>\r\n",
      "</div>\r\n",
      "-->\n",
      "\n",
      "      <!-- Start: Columns -->\n",
      "      <div id=\"columns\">\n",
      "\n",
      "<!-- Start: Container -->\n",
      "    <div id=\"container\" class=\"fullwidth\">\n",
      "<!-- Begin: Breadcrumb -->\n",
      "      <p id=\"breadcrumb\"><a href=\"/index.shtml\">Bureau Home</a> &gt; <a href=\"/australia/index.shtml\">Australia</a> &gt; <a href=\"/nsw/index.shtml\">New South Wales</a> &gt; <a href=\"/nsw/forecasts/index.shtml\">Forecasts</a> &gt; <strong>Sydney Forecast</strong></p>\n",
      "<!-- End: Breadcrumb -->\n",
      "      <h1>Sydney Forecast</h1>\n",
      "<!-- Start: Content -->\n",
      "      <div id=\"content\">\n",
      "\n",
      "<p class=\"warning\"><a href=\"/nsw/warnings/\">View the current warnings for New South Wales</a></p>\n",
      "\n",
      "<p class=\"date\">Forecast issued at 4:20 pm EST on Monday 27 June 2016.</p><div class=\"day eve\">\n",
      "  <h2>Forecast for the rest of Monday</h2>\n",
      "  <div class=\"forecast\">\n",
      "    <dl>\n",
      "      <dt>Summary</dt>\n",
      "      <dd class=\"image\">\n",
      "        <img src=\"/images/symbols/large/rain.png\" alt=\"\" width=\"45\" height=\"42\"/>\n",
      "      </dd>\n",
      "      <dd class=\"summary\">A little rain at times.</dd>\n",
      "      <dd class=\"rain\">Chance of any rain: <em class=\"pop\">80%\n",
      "\t\t\t\t\t<img src=\"/images/ui/weather/rain_80.gif\" width=\"69\" height=\"10\" alt=\"\"/></em></dd>\n",
      "    </dl>\n",
      "    <h3>Sydney area</h3>\n",
      "    <p>Cloudy. High (70%) chance of rain. Winds southwesterly 15 to 25 km/h increasing to 20 to 30 km/h in the late evening.</p>\n",
      "  </div>\n",
      "</div><div class=\"day main\">\n",
      "  <h2>Tuesday 28 June</h2>\n",
      "  <div class=\"forecast\">\n",
      "    <dl>\n",
      "      <dt>Summary</dt>\n",
      "      <dd class=\"image\">\n",
      "        <img src=\"/images/symbols/large/partly-cloudy.png\" alt=\"\" width=\"45\" height=\"42\"/>\n",
      "      </dd>\n",
      "      <dd>Min <em class=\"min\">10</em></dd>\n",
      "      <dd>Max <em class=\"max\">18</em></dd>\n",
      "      <dd class=\"summary\">Cloud clearing.</dd>\n",
      "      <dd class=\"rain\">Possible rainfall: <em class=\"rain\">0 mm</em></dd>\n",
      "      <dd class=\"rain\">Chance of any rain: <em class=\"pop\">10%\n",
      "\t\t\t\t\t<img src=\"/images/ui/weather/rain_10.gif\" width=\"69\" height=\"10\" alt=\"\"/></em></dd>\n",
      "    </dl>\n",
      "    <h3>Sydney area</h3>\n",
      "    <p>Sunny. Winds southwesterly 20 to 30 km/h becoming light in the late afternoon.</p>\n",
      "  </div>\n",
      "  <p class=\"alert\">No UV Alert, UV Index predicted to reach 2 [Low]</p>\n",
      "</div><div class=\"around\">\n",
      "  <div class=\"first\">\n",
      "    <h3>\n",
      "      <a href=\"/nsw/forecasts/map7day.shtml\">7 day Town Forecasts</a>\n",
      "    </h3>\n",
      "    <table summary=\"\">\n",
      "      <thead>\n",
      "        <tr>\n",
      "          <th class=\"precis\">Precis Icon</th>\n",
      "          <th class=\"place\">Location</th>\n",
      "          <th title=\"Minimum Temperature\">Min</th>\n",
      "          <th title=\"Maximum Temperature\">Max</th>\n",
      "        </tr>\n",
      "      </thead>\n",
      "      <tbody>\n",
      "        <tr>\n",
      "          <td class=\"precis\">\n",
      "            <img src=\"/images/symbols/small/partly-cloudy.png\" alt=\"Cloud clearing.\" width=\"23\" height=\"22\"/>\n",
      "          </td>\n",
      "          <td class=\"place\">\n",
      "            <a href=\"/nsw/forecasts/sydney.shtml\">Sydney</a>\n",
      "          </td>\n",
      "          <td>10</td>\n",
      "          <td>18</td>\n",
      "        </tr>\n",
      "        <tr>\n",
      "          <td class=\"precis\">\n",
      "            <img src=\"/images/symbols/small/sunny.png\" alt=\"Sunny.\" width=\"23\" height=\"22\"/>\n",
      "          </td>\n",
      "          <td class=\"place\">\n",
      "            <a href=\"/nsw/forecasts/penrith.shtml\">Penrith</a>\n",
      "          </td>\n",
      "          <td>6</td>\n",
      "          <td>17</td>\n",
      "        </tr>\n",
      "        <tr>\n",
      "          <td class=\"precis\">\n",
      "            <img src=\"/images/symbols/small/sunny.png\" alt=\"Sunny.\" width=\"23\" height=\"22\"/>\n",
      "          </td>\n",
      "          <td class=\"place\">\n",
      "            <a href=\"/nsw/forecasts/liverpool.shtml\">Liverpool</a>\n",
      "          </td>\n",
      "          <td>6</td>\n",
      "          <td>17</td>\n",
      "        </tr>\n",
      "        <tr>\n",
      "          <td class=\"precis\">\n",
      "            <img src=\"/images/symbols/small/sunny.png\" alt=\"Sunny.\" width=\"23\" height=\"22\"/>\n",
      "          </td>\n",
      "          <td class=\"place\">\n",
      "            <a href=\"/nsw/forecasts/terreyhills.shtml\">Terrey Hills</a>\n",
      "          </td>\n",
      "          <td>7</td>\n",
      "          <td>16</td>\n",
      "        </tr>\n",
      "        <tr>\n",
      "          <td class=\"precis\">\n",
      "            <img src=\"/images/symbols/small/sunny.png\" alt=\"Sunny.\" width=\"23\" height=\"22\"/>\n",
      "          </td>\n",
      "          <td class=\"place\">\n",
      "            <a href=\"/nsw/forecasts/richmond.shtml\">Richmond</a>\n",
      "          </td>\n",
      "          <td>4</td>\n",
      "          <td>18</td>\n",
      "        </tr>\n",
      "        <tr>\n",
      "          <td class=\"precis\">\n",
      "            <img src=\"/images/symbols/small/sunny.png\" alt=\"Sunny.\" width=\"23\" height=\"22\"/>\n",
      "          </td>\n",
      "          <td class=\"place\">\n",
      "            <a href=\"/nsw/forecasts/parramatta.shtml\">Parramatta</a>\n",
      "          </td>\n",
      "          <td>7</td>\n",
      "          <td>17</td>\n",
      "        </tr>\n",
      "        <tr>\n",
      "          <td class=\"precis\">\n",
      "            <img src=\"/images/symbols/small/sunny.png\" alt=\"Sunny.\" width=\"23\" height=\"22\"/>\n",
      "          </td>\n",
      "          <td class=\"place\">\n",
      "            <a href=\"/nsw/forecasts/campbelltown.shtml\">Campbelltown</a>\n",
      "          </td>\n",
      "          <td>5</td>\n",
      "          <td>17</td>\n",
      "        </tr>\n",
      "        <tr>\n",
      "          <td class=\"precis\">\n",
      "            <img src=\"/images/symbols/small/partly-cloudy.png\" alt=\"Mostly sunny.\" width=\"23\" height=\"22\"/>\n",
      "          </td>\n",
      "          <td class=\"place\">\n",
      "            <a href=\"/nsw/forecasts/bondi.shtml\">Bondi</a>\n",
      "          </td>\n",
      "          <td>11</td>\n",
      "          <td>17</td>\n",
      "        </tr>\n",
      "      </tbody>\n",
      "    </table>\n",
      "  </div>\n",
      "</div><iframe src=\"http://advertising.gov.au/ad/bom/www/?id=1297228&amp;aac=NSW_PT131&amp;high=18&amp;icon=3&amp;name=Sydney\" title=\"Marketing\" width=\"300\" height=\"250\" frameborder=\"0\" scrolling=\"no\"> Marketing </iframe><div class=\"day\">\n",
      "  <h2>Wednesday 29 June</h2>\n",
      "  <div class=\"forecast\">\n",
      "    <dl>\n",
      "      <dt>Summary</dt>\n",
      "      <dd class=\"image\">\n",
      "        <img src=\"/images/symbols/large/sunny.png\" alt=\"\" width=\"45\" height=\"42\"/>\n",
      "      </dd>\n",
      "      <dd>Min <em class=\"min\">7</em></dd>\n",
      "      <dd>Max <em class=\"max\">18</em></dd>\n",
      "      <dd class=\"summary\">Sunny.</dd>\n",
      "      <dd class=\"rain\">Possible rainfall: <em class=\"rain\">0 mm</em></dd>\n",
      "      <dd class=\"rain\">Chance of any rain: <em class=\"pop\">5%\n",
      "\t\t\t\t\t<img src=\"/images/ui/weather/rain_5.gif\" width=\"69\" height=\"10\" alt=\"\"/></em></dd>\n",
      "    </dl>\n",
      "    <h3>Sydney area</h3>\n",
      "    <p>Sunny. Light winds.</p>\n",
      "  </div>\n",
      "</div><div class=\"day\">\n",
      "  <h2>Thursday 30 June</h2>\n",
      "  <div class=\"forecast\">\n",
      "    <dl>\n",
      "      <dt>Summary</dt>\n",
      "      <dd class=\"image\">\n",
      "        <img src=\"/images/symbols/large/partly-cloudy.png\" alt=\"\" width=\"45\" height=\"42\"/>\n",
      "      </dd>\n",
      "      <dd>Min <em class=\"min\">8</em></dd>\n",
      "      <dd>Max <em class=\"max\">18</em></dd>\n",
      "      <dd class=\"summary\">Partly cloudy.</dd>\n",
      "      <dd class=\"rain\">Possible rainfall: <em class=\"rain\">0 mm</em></dd>\n",
      "      <dd class=\"rain\">Chance of any rain: <em class=\"pop\">10%\n",
      "\t\t\t\t\t<img src=\"/images/ui/weather/rain_10.gif\" width=\"69\" height=\"10\" alt=\"\"/></em></dd>\n",
      "    </dl>\n",
      "    <h3>Sydney area</h3>\n",
      "    <p>Partly cloudy. Light winds becoming northwesterly 20 to 30 km/h during the morning.</p>\n",
      "  </div>\n",
      "</div><div class=\"day\">\n",
      "  <h2>Friday 1 July</h2>\n",
      "  <div class=\"forecast\">\n",
      "    <dl>\n",
      "      <dt>Summary</dt>\n",
      "      <dd class=\"image\">\n",
      "        <img src=\"/images/symbols/large/partly-cloudy.png\" alt=\"\" width=\"45\" height=\"42\"/>\n",
      "      </dd>\n",
      "      <dd>Min <em class=\"min\">9</em></dd>\n",
      "      <dd>Max <em class=\"max\">17</em></dd>\n",
      "      <dd class=\"summary\">Partly cloudy.</dd>\n",
      "      <dd class=\"rain\">Possible rainfall: <em class=\"rain\">0 mm</em></dd>\n",
      "      <dd class=\"rain\">Chance of any rain: <em class=\"pop\">10%\n",
      "\t\t\t\t\t<img src=\"/images/ui/weather/rain_10.gif\" width=\"69\" height=\"10\" alt=\"\"/></em></dd>\n",
      "    </dl>\n",
      "    <h3>Sydney area</h3>\n",
      "    <p>Partly cloudy. Winds north to northwesterly 15 to 25 km/h turning west to southwesterly during the morning.</p>\n",
      "  </div>\n",
      "</div><div class=\"day\">\n",
      "  <h2>Saturday 2 July</h2>\n",
      "  <div class=\"forecast\">\n",
      "    <dl>\n",
      "      <dt>Summary</dt>\n",
      "      <dd class=\"image\">\n",
      "        <img src=\"/images/symbols/large/partly-cloudy.png\" alt=\"\" width=\"45\" height=\"42\"/>\n",
      "      </dd>\n",
      "      <dd>Min <em class=\"min\">9</em></dd>\n",
      "      <dd>Max <em class=\"max\">19</em></dd>\n",
      "      <dd class=\"summary\">Partly cloudy.</dd>\n",
      "      <dd class=\"rain\">Possible rainfall: <em class=\"rain\">0 mm</em></dd>\n",
      "      <dd class=\"rain\">Chance of any rain: <em class=\"pop\">5%\n",
      "\t\t\t\t\t<img src=\"/images/ui/weather/rain_5.gif\" width=\"69\" height=\"10\" alt=\"\"/></em></dd>\n",
      "    </dl>\n",
      "    <h3>Sydney area</h3>\n",
      "    <p>Mostly sunny. Winds westerly 15 to 25 km/h.</p>\n",
      "  </div>\n",
      "</div><div class=\"day\">\n",
      "  <h2>Sunday 3 July</h2>\n",
      "  <div class=\"forecast\">\n",
      "    <dl>\n",
      "      <dt>Summary</dt>\n",
      "      <dd class=\"image\">\n",
      "        <img src=\"/images/symbols/large/sunny.png\" alt=\"\" width=\"45\" height=\"42\"/>\n",
      "      </dd>\n",
      "      <dd>Min <em class=\"min\">8</em></dd>\n",
      "      <dd>Max <em class=\"max\">18</em></dd>\n",
      "      <dd class=\"summary\">Sunny.</dd>\n",
      "      <dd class=\"rain\">Possible rainfall: <em class=\"rain\">0 mm</em></dd>\n",
      "      <dd class=\"rain\">Chance of any rain: <em class=\"pop\">5%\n",
      "\t\t\t\t\t<img src=\"/images/ui/weather/rain_5.gif\" width=\"69\" height=\"10\" alt=\"\"/></em></dd>\n",
      "    </dl>\n",
      "    <h3>Sydney area</h3>\n",
      "    <p>Sunny. Light winds.</p>\n",
      "  </div>\n",
      "</div><div class=\"day\">\n",
      "  <h2>Monday 4 July</h2>\n",
      "  <div class=\"forecast\">\n",
      "    <dl>\n",
      "      <dt>Summary</dt>\n",
      "      <dd class=\"image\">\n",
      "        <img src=\"/images/symbols/large/partly-cloudy.png\" alt=\"\" width=\"45\" height=\"42\"/>\n",
      "      </dd>\n",
      "      <dd>Min <em class=\"min\">8</em></dd>\n",
      "      <dd>Max <em class=\"max\">17</em></dd>\n",
      "      <dd class=\"summary\">Partly cloudy.</dd>\n",
      "      <dd class=\"rain\">Possible rainfall: <em class=\"rain\">0 mm</em></dd>\n",
      "      <dd class=\"rain\">Chance of any rain: <em class=\"pop\">20%\n",
      "\t\t\t\t\t<img src=\"/images/ui/weather/rain_20.gif\" width=\"69\" height=\"10\" alt=\"\"/></em></dd>\n",
      "    </dl>\n",
      "    <h3>Sydney area</h3>\n",
      "    <p>Partly cloudy. Slight (20%) chance of a shower. Light winds.</p>\n",
      "  </div>\n",
      "</div><p id=\"next\" class=\"date\">The next routine forecast will be issued at 4:45 am EST Tuesday.</p><p class=\"p-id\">Product IDN10064</p>\n",
      "\n",
      "      </div>\n",
      "<!-- End: Content -->\n",
      "    </div>\n",
      "<!-- End: Container -->\n",
      "<!-- Begin: Left Column -->\n",
      "    <div id=\"left-column\"></div>\n",
      "<!-- End: Left Column -->\n",
      "\n",
      "<div class=\"clr\"><!-- clear columns --></div>\n",
      "</div>\n",
      "<!-- End: Columns -->\n",
      "</div>\n",
      "<!-- End: pagewrap -->\n",
      "<!-- Start: Footer -->\n",
      "<div id=\"footer\">\n",
      "    <div id=\"footer-columns\">\n",
      "        <ul id=\"fc-one\">\n",
      "            <li class=\"icon-link border-bottom uppercase\"><a href=\"/australia/warnings/?ref=ftr\" id=\"icon-link-warnings\"><span>Warnings</span></a></li>\n",
      "            <li class=\"row-link-first uppercase\"><a href=\"/water/?ref=ftr\">Water</a></li>\n",
      "            <li class=\"row-link uppercase\"><a href=\"/climate/?ref=ftr\">Climate</a></li>\n",
      "            <li class=\"row-link uppercase\"><a href=\"/environment/?ref=ftr\">Environment</a></li>\n",
      "            <li class=\"border-top\"><a href=\"/cyclone/?ref=ftr\">Tropical Cyclones</a></li>\n",
      "            <li><a href=\"/tsunami/?ref=ftr\">Tsunami Warning Centre</a></li>\n",
      "            <li><a href=\"/watl/?ref=ftr\">Agriculture - Water and the Land</a></li>\n",
      "            <li><a href=\"/marine/?ref=ftr\">Marine &amp; Ocean</a></li>\n",
      "            <li><a href=\"/uv/?ref=ftr\">UV &amp; Sun Protection</a></li>\n",
      "            <li><a href=\"/australia/flood/?ref=ftr\">Rainfall &amp; River Conditions</a></li>\n",
      "        </ul>\n",
      "        <ul id=\"fc-two\">\n",
      "            <li class=\"imagebox-links\">\n",
      "                <h3 class=\"hidden\">Graphical Views</h3>\n",
      "                <ul>\n",
      "                    <li class=\"first\"><a href=\"/australia/radar/?ref=ftr\" id=\"imagebox-link-radar\">Radar</a></li>\n",
      "                    <li><a href=\"/australia/satellite/?ref=ftr\" id=\"imagebox-link-sat\">Sat</a></li>\n",
      "                    <li><a href=\"/australia/charts/?ref=ftr\" id=\"imagebox-link-maps\">Maps</a></li>\n",
      "                </ul>\n",
      "            </li>\n",
      "            <li><a href=\"/jsp/watl/rainfall/pme.jsp?ref=ftr\">Rainfall Forecasts</a></li>\n",
      "            <li><a href=\"/climate/ahead/?ref=ftr\">Seasonal Outlooks</a></li>\n",
      "            <li><a href=\"/climate/change/?ref=ftr\">Climate Variability &amp; Change</a></li>\n",
      "            <li><a href=\"/climate/data/?ref=ftr\">Climate Data Online</a></li>\n",
      "            <li><a href=\"/water/ssf/?ref=ftr\">Seasonal Streamflow Forecasts</a></li>\n",
      "            <li><a href=\"http://water.bom.gov.au/waterstorage/awris/?ref=ftr\">Water Storage</a></li>\n",
      "        </ul>\n",
      "        <ul id=\"fc-three\">\n",
      "            <li class=\"icon-link border-bottom\"><a href=\"/australia/meteye?ref=ftr\" id=\"icon-link-fe\"><span>MetEye&trade;</span></a></li>\n",
      "            <li><a href=\"/weather-services/?ref=ftr\">National Weather Services</a></li>\n",
      "            <li><a href=\"/aviation/?ref=ftr\">Aviation Weather Services</a></li>\n",
      "            <li><a href=\"/defence/?ref=ftr\">Defence Services</a></li>\n",
      "            <li><a href=\"http://www.sws.bom.gov.au/?ref=ftr\">Space Weather Services</a></li>\n",
      "            <li><a href=\"/reguser/?ref=ftr\">Registered User Services</a></li>\n",
      "            <li><a href=\"/business-solutions/industry-solutions.shtml?ref=ftr\">Industry Solutions</a></li>\n",
      "            <li><a href=\"/sep/?ref=ftr\">Supplier Entry Point</a></li>\n",
      "        </ul>\n",
      "        <ul id=\"fc-four\">\n",
      "            <li class=\"icon-link row-link-first\"><a href=\"http://www.facebook.com/bureauofmeteorology\" id=\"icon-link-fb\"><span>Facebook</span></a></li>\n",
      "            <li class=\"icon-link row-link\"><a href=\"https://plus.google.com/103437906374218799167\" id=\"icon-link-gp\"><span>Google+</span></a></li>\n",
      "            <li class=\"icon-link row-link-first\"><a href=\"http://www.youtube.com/user/BureauOfMeteorology\" id=\"icon-link-yt\"><span>Youtube</span></a></li>\n",
      "            <li class=\"icon-link row-link\"><a href=\"http://media.bom.gov.au/social?ref=ftr\" id=\"icon-link-bl\"><span>Blog</span></a></li>\n",
      "            <li class=\"icon-link row-link-first border-bottom\"><a href=\"/rss/?ref=ftr\" id=\"icon-link-rss\"><span>RSS</span></a></li>\n",
      "            <li class=\"row-link-first\"><a href=\"/careers/?ref=ftr\">Careers</a></li>\n",
      "            <li class=\"row-link\"><a href=\"/site-map/?ref=ftr\">Sitemap</a></li>\n",
      "            <li class=\"row-link\"><a href=\"/other/feedback/?ref=ftr\">Feedback</a></li>\n",
      "            <li class=\"border-top\"><a href=\"/foi/?ref=ftr\">Freedom of Information</a></li>\n",
      "            <li><a href=\"/iwk/?ref=ftr\">Indigenous Weather Knowledge</a></li>\n",
      "            <li><a href=\"/lam/glossary/?ref=ftr\">Glossary</a></li>\n",
      "        </ul>\n",
      "        <p id=\"timestamp\">This page was created at <strong>10:28 on Monday 27 June 2016 (GMT)</strong></p>\n",
      "        <p id=\"copyright\">&#169; <a href=\"/other/copyright.shtml?ref=ftr\">Copyright</a> Commonwealth of Australia 2016, Bureau of Meteorology (ABN 92 637 533 532) | <a href=\"/other/disclaimer.shtml?ref=ftr\">Disclaimer</a> | <a href=\"/other/privacy.shtml?ref=ftr\">Privacy</a> | <a href=\"/other/accessibility.shtml?ref=ftr\">Accessibility</a></p>\n",
      "    </div>\n",
      "</div>\n",
      "<!-- End: Footer -->\n",
      "</div>\n",
      "<!-- End: PageHeight -->\n",
      "\n",
      "<script src=\"/includes/analytics.js\" type=\"text/javascript\"></script>\n",
      "  </body>\n",
      "</html>\n",
      "\n"
     ]
    }
   ],
   "source": [
    "# What was the .text or .content of that page? Save it in a variable, because we will be using it a little later\n",
    "# r.text or r.content\n",
    "t = r.text\n",
    "print t"
   ]
  },
  {
   "cell_type": "markdown",
   "metadata": {},
   "source": [
    "## Accessing forms\n",
    "\n",
    "The pandas library already has a module for getting information from the Yahoo Finance pages, \n",
    "so you are unlikely to use the following code in any normal environment. But it's an example of\n",
    "a simple web API"
   ]
  },
  {
   "cell_type": "code",
   "execution_count": null,
   "metadata": {
    "collapsed": true
   },
   "outputs": [],
   "source": [
    "# There is a stock price lookup form on https://au.finance.yahoo.com (it says Enter Symbol)\n",
    "# Inspect that element, and identify:\n",
    "# - The <INPUT> tag with the name \"s\"\n",
    "# - The <INPUT> tag with the name \"ql\" (which has a type of \"hidden\")\n",
    "# - The <FORM> tag surrounding them with the action of \"/q\" and the method of GET\n",
    "#\n",
    "# Create a dictionary with appropriate keys to provide values for the input tags.\n",
    "# Create a variable with the full URL to submit to"
   ]
  },
  {
   "cell_type": "code",
   "execution_count": null,
   "metadata": {
    "collapsed": true
   },
   "outputs": [],
   "source": [
    "# Use requests.get to retrieve that page"
   ]
  },
  {
   "cell_type": "markdown",
   "metadata": {},
   "source": [
    "## Secured pages\n",
    "\n",
    "The username for files under http://www.ifost.org.au/ga/protected is \"ga\" and the password is \"s3cr3t\"\n",
    "\n",
    "In this section we will fetch a file from a website that requires authentication."
   ]
  },
  {
   "cell_type": "code",
   "execution_count": 10,
   "metadata": {
    "collapsed": false
   },
   "outputs": [
    {
     "data": {
      "text/plain": [
       "401"
      ]
     },
     "execution_count": 10,
     "metadata": {},
     "output_type": "execute_result"
    }
   ],
   "source": [
    "# What happens if you use the requests library to fetch http://www.ifost.org.au/ga/protected/data.json \n",
    "# without supplying a password? What is the .status_code?\n",
    "r = requests.get('http://www.ifost.org.au/ga/protected/data.json')\n",
    "r.status_code"
   ]
  },
  {
   "cell_type": "code",
   "execution_count": 15,
   "metadata": {
    "collapsed": false
   },
   "outputs": [
    {
     "data": {
      "text/plain": [
       "200"
      ]
     },
     "execution_count": 15,
     "metadata": {},
     "output_type": "execute_result"
    }
   ],
   "source": [
    "# Try again, but this time supplying a username and password\n",
    "# r = requests.get(\"http://www.ifost.org.au/ga/protected/data.json\", data = {'user':'ga', 'passwd':'s3cr3t'})\n",
    "r = requests.get(\"http://kemek.ifost.org.au/ga/protected/data.json\", auth = ('ga','s3cr3t'))\n",
    "r.status_code"
   ]
  },
  {
   "cell_type": "markdown",
   "metadata": {},
   "source": [
    "## Parsing HTML\n",
    "\n",
    "In this section we will find the prediction for tomorrow's weather."
   ]
  },
  {
   "cell_type": "code",
   "execution_count": 26,
   "metadata": {
    "collapsed": true
   },
   "outputs": [],
   "source": [
    "# import BeautifulSoup library (version 4)\n",
    "import bs4"
   ]
  },
  {
   "cell_type": "code",
   "execution_count": 27,
   "metadata": {
    "collapsed": true
   },
   "outputs": [],
   "source": [
    "# Create a variable called \"soup\" with the result of parsing the Bureau of Meteorology prediction for\n",
    "# Sydney that you captured at the start of this notebook.\n",
    "soup = bs4.BeautifulSoup(r.content, 'lxml')"
   ]
  },
  {
   "cell_type": "code",
   "execution_count": 44,
   "metadata": {
    "collapsed": false
   },
   "outputs": [
    {
     "data": {
      "text/plain": [
       "u'Tuesday 28 June'"
      ]
     },
     "execution_count": 44,
     "metadata": {},
     "output_type": "execute_result"
    }
   ],
   "source": [
    "def has_the_word_tuesday(x):\n",
    "    return 'Tuesday' in x\n",
    "tuesday_things = soup.find_all(string=has_the_word_tuesday)\n",
    "# tuesday_things\n",
    "first_thing = tuesday_things[0]\n",
    "first_thing\n",
    "# Find the first element in \"soup\" which has the word Tuesday in it\n",
    "# You might find the function \"has_the_word_tuesday\" helpful"
   ]
  },
  {
   "cell_type": "code",
   "execution_count": 48,
   "metadata": {
    "collapsed": false
   },
   "outputs": [
    {
     "data": {
      "text/plain": [
       "<div class=\"day main\">\\n<h2>Tuesday 28 June</h2>\\n<div class=\"forecast\">\\n<dl>\\n<dt>Summary</dt>\\n<dd class=\"image\">\\n<img alt=\"\" height=\"42\" src=\"/images/symbols/large/partly-cloudy.png\" width=\"45\"/>\\n</dd>\\n<dd>Min <em class=\"min\">10</em></dd>\\n<dd>Max <em class=\"max\">18</em></dd>\\n<dd class=\"summary\">Cloud clearing.</dd>\\n<dd class=\"rain\">Possible rainfall: <em class=\"rain\">0 mm</em></dd>\\n<dd class=\"rain\">Chance of any rain: <em class=\"pop\">10%\\n\\t\\t\\t\\t\\t<img alt=\"\" height=\"10\" src=\"/images/ui/weather/rain_10.gif\" width=\"69\"/></em></dd>\\n</dl>\\n<h3>Sydney area</h3>\\n<p>Sunny. Winds southwesterly 20 to 30 km/h becoming light in the late afternoon.</p>\\n</div>\\n<p class=\"alert\">No UV Alert, UV Index predicted to reach 2 [Low]</p>\\n</div>"
      ]
     },
     "execution_count": 48,
     "metadata": {},
     "output_type": "execute_result"
    }
   ],
   "source": [
    "# The weather prediction is obviously going to be in a <DIV> that includes it\n",
    "# Display the parent of the element you found in the previous cell. You might\n",
    "# find the .prettify() method makes it easier to display\n",
    "beautiful = first_thing.parent.parent\n",
    "beautiful\n",
    "# beautiful.prettify()"
   ]
  },
  {
   "cell_type": "code",
   "execution_count": 53,
   "metadata": {
    "collapsed": false
   },
   "outputs": [],
   "source": [
    "# Can you find a <DD> element with a CSS class \"summary\"? (Use the parameter class_ in BeautifulSoup)\n",
    "summary = beautiful.find('dd', class_ = 'summary')"
   ]
  },
  {
   "cell_type": "code",
   "execution_count": 54,
   "metadata": {
    "collapsed": false
   },
   "outputs": [
    {
     "data": {
      "text/plain": [
       "u'Cloud clearing.'"
      ]
     },
     "execution_count": 54,
     "metadata": {},
     "output_type": "execute_result"
    }
   ],
   "source": [
    "# Display the \"string\" attribute of this summary element. Do you need to bring an umbrella?\n",
    "summary.string"
   ]
  },
  {
   "cell_type": "markdown",
   "metadata": {},
   "source": [
    "## JSON APIs\n",
    "\n",
    "Many websites display their information in JSON format. In this section we will interact\n",
    "with the Pokemon database http://pokeapi.co/"
   ]
  },
  {
   "cell_type": "code",
   "execution_count": null,
   "metadata": {
    "collapsed": true
   },
   "outputs": [],
   "source": [
    "# Look up their documentation. What is the base URL for querying a Pokemon? What URL\n",
    "# would you use to look up the Pokemon called \"Groudon\"? Store it in a variable"
   ]
  },
  {
   "cell_type": "code",
   "execution_count": null,
   "metadata": {
    "collapsed": true
   },
   "outputs": [],
   "source": [
    "# Use the requests library to fetch the Groudon data"
   ]
  },
  {
   "cell_type": "code",
   "execution_count": null,
   "metadata": {
    "collapsed": true
   },
   "outputs": [],
   "source": [
    "# Check the status code to make sure that it worked"
   ]
  },
  {
   "cell_type": "code",
   "execution_count": null,
   "metadata": {
    "collapsed": true
   },
   "outputs": [],
   "source": [
    "# Is the content of the response in JSON format? Use the requests library function\n",
    "# to decode it from JSON format into a Python dictionary"
   ]
  },
  {
   "cell_type": "code",
   "execution_count": null,
   "metadata": {
    "collapsed": true
   },
   "outputs": [],
   "source": [
    "# What are the keys of this python dictionary?"
   ]
  },
  {
   "cell_type": "code",
   "execution_count": null,
   "metadata": {
    "collapsed": true
   },
   "outputs": [],
   "source": [
    "# Is \"weight\" listed there? If so, then the value in it should be a number\n",
    "# If you play Pokemon, does this number look reasonable?"
   ]
  }
 ],
 "metadata": {
  "kernelspec": {
   "display_name": "Python 2",
   "language": "python",
   "name": "python2"
  },
  "language_info": {
   "codemirror_mode": {
    "name": "ipython",
    "version": 2
   },
   "file_extension": ".py",
   "mimetype": "text/x-python",
   "name": "python",
   "nbconvert_exporter": "python",
   "pygments_lexer": "ipython2",
   "version": "2.7.11"
  }
 },
 "nbformat": 4,
 "nbformat_minor": 0
}
