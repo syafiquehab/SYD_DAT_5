{
 "cells": [
  {
   "cell_type": "markdown",
   "metadata": {
    "collapsed": true
   },
   "source": [
    "# Time series lab\n",
    "\n",
    "In this lab we will look at the history of maximum temperatures in Sydney since 1910.\n",
    "\n",
    "The data was collected by the Bureau of Meteorology at the Sydney observatory and is available from\n",
    "www.bom.gov.au/climate/change/acorn/sat/data/acorn.sat.maxT.066062.daily.txt\n",
    "\n",
    "It is also in the SYD_DAT_5/data directory\n",
    "\n",
    "We will identify the difference between summer and winter, and extract out a signature of\n",
    "global warming."
   ]
  },
  {
   "cell_type": "code",
   "execution_count": null,
   "metadata": {
    "collapsed": false
   },
   "outputs": [],
   "source": [
    "# You will need pandas, matplotlib.pyplot and statsmodels.api libraries\n",
    "%matplotlib inline\n",
    "import pandas\n",
    "import matplotlib.pyplot\n",
    "import statsmodels.api"
   ]
  },
  {
   "cell_type": "code",
   "execution_count": null,
   "metadata": {
    "collapsed": false
   },
   "outputs": [],
   "source": [
    "# Load the acorn sat data.\n",
    "# It is not comma-separated: so use delim_whitespace=True\n",
    "# Don't forget to parse the date column\n",
    "# The first row isn't very interesting, so you can use skiprows to get rid of it\n",
    "# and instead explicitly pass in a list of names.\n",
    "# It uses 99999.9 as the value for \"N/A\", which you will\n",
    "# want to interpolate (method='time')\n",
    "sydney = pandas.read_csv('../../data/acorn.sat.maxT.066062.daily.txt',\n",
    "                         delim_whitespace=True,\n",
    "                         parse_dates=[0],\n",
    "                         skiprows=1,\n",
    "                         index_col=0,\n",
    "                         names=['Date','MaxTemp'],\n",
    "                         na_values=[99999.9]\n",
    "                        ).interpolate(method='time')\n"
   ]
  },
  {
   "cell_type": "code",
   "execution_count": null,
   "metadata": {
    "collapsed": false
   },
   "outputs": [],
   "source": [
    "# Have a look at the data"
   ]
  },
  {
   "cell_type": "code",
   "execution_count": null,
   "metadata": {
    "collapsed": false
   },
   "outputs": [],
   "source": [
    "# Plot the ACF (autocorrelation) with statsmodels.api.graphics.tsa.plot_acf\n",
    "# lags=1000 should be enough "
   ]
  },
  {
   "cell_type": "code",
   "execution_count": null,
   "metadata": {
    "collapsed": false
   },
   "outputs": [],
   "source": [
    "# Plot the PACF (partial autocorrelation) - this may take some time."
   ]
  },
  {
   "cell_type": "code",
   "execution_count": null,
   "metadata": {
    "collapsed": true
   },
   "outputs": [],
   "source": [
    "# Run statsmodels.api.tsa.seasonal_decompose on this. Use an additive model.\n",
    "# What would a sensible number be for freq= ?"
   ]
  },
  {
   "cell_type": "code",
   "execution_count": null,
   "metadata": {
    "collapsed": false
   },
   "outputs": [],
   "source": [
    "# Plot the result from the previous cell"
   ]
  },
  {
   "cell_type": "code",
   "execution_count": null,
   "metadata": {
    "collapsed": false
   },
   "outputs": [],
   "source": [
    "# Plot the last 365 data points in the seasonal\n",
    "# part of the decomposition. How much hotter is \n",
    "# summer compared to winter?"
   ]
  },
  {
   "cell_type": "code",
   "execution_count": null,
   "metadata": {
    "collapsed": false
   },
   "outputs": [],
   "source": [
    "# Resample the Sydney temperature data: \n",
    "# create a new Series which is the mean temperature\n",
    "# for each year"
   ]
  },
  {
   "cell_type": "code",
   "execution_count": null,
   "metadata": {
    "collapsed": false
   },
   "outputs": [],
   "source": [
    "# Plot it"
   ]
  },
  {
   "cell_type": "code",
   "execution_count": null,
   "metadata": {
    "collapsed": false
   },
   "outputs": [],
   "source": [
    "# Plot the ACF for the annual mean -- can you see a weak\n",
    "# 7-year cycle (El-Nino)?"
   ]
  },
  {
   "cell_type": "code",
   "execution_count": null,
   "metadata": {
    "collapsed": false
   },
   "outputs": [],
   "source": [
    "# Use statsmodels.tsa.tsatools.detrend, and save the \n",
    "# result in a variable"
   ]
  },
  {
   "cell_type": "code",
   "execution_count": null,
   "metadata": {
    "collapsed": false
   },
   "outputs": [],
   "source": [
    "# Subtract that variable from the annual mean so\n",
    "# that you can see the underlying trend."
   ]
  },
  {
   "cell_type": "code",
   "execution_count": null,
   "metadata": {
    "collapsed": true
   },
   "outputs": [],
   "source": [
    "# Plot the result. How much hotter is Sydney now\n",
    "# compared to 1910?"
   ]
  }
 ],
 "metadata": {
  "kernelspec": {
   "display_name": "Python 2",
   "language": "python",
   "name": "python2"
  },
  "language_info": {
   "codemirror_mode": {
    "name": "ipython",
    "version": 2
   },
   "file_extension": ".py",
   "mimetype": "text/x-python",
   "name": "python",
   "nbconvert_exporter": "python",
   "pygments_lexer": "ipython2",
   "version": "2.7.11"
  }
 },
 "nbformat": 4,
 "nbformat_minor": 0
}
