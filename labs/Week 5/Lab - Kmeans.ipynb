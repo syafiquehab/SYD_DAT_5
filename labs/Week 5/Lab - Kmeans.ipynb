{
 "cells": [
  {
   "cell_type": "markdown",
   "metadata": {},
   "source": [
    "# Clustering - Kmeans\n"
   ]
  },
  {
   "cell_type": "markdown",
   "metadata": {},
   "source": [
    "##1. Simple walk through example"
   ]
  },
  {
   "cell_type": "code",
   "execution_count": 66,
   "metadata": {
    "collapsed": true
   },
   "outputs": [],
   "source": [
    "# You will use the matplotlib.pyplot library, sklearn.cluster etc. etc.\n",
    "\n"
   ]
  },
  {
   "cell_type": "code",
   "execution_count": 68,
   "metadata": {
    "collapsed": true
   },
   "outputs": [],
   "source": [
    "# scikit learn includes a number of sample data sets. The data about\n",
    "# iris flowers clusters very well\n",
    "import sklearn.datasets\n",
    "iris_data = sklearn.datasets.load_iris().data\n"
   ]
  },
  {
   "cell_type": "code",
   "execution_count": null,
   "metadata": {
    "collapsed": true
   },
   "outputs": [],
   "source": [
    "# Choose three nice contrasting colours and create a pandas array listing them"
   ]
  },
  {
   "cell_type": "code",
   "execution_count": null,
   "metadata": {
    "collapsed": true
   },
   "outputs": [],
   "source": [
    "# Create a sklearn.cluster.KMeans object to work with 3 clusters"
   ]
  },
  {
   "cell_type": "code",
   "execution_count": null,
   "metadata": {
    "collapsed": true
   },
   "outputs": [],
   "source": [
    "# Cluster this iris_data"
   ]
  },
  {
   "cell_type": "code",
   "execution_count": null,
   "metadata": {
    "collapsed": true
   },
   "outputs": [],
   "source": [
    "# Draw a scatter plot using columns [:,2] and [:,0] (the petal length and the sepal length)\n",
    "# Use your colour array (indexed by the cluster) for the colouring\n",
    "# When you have that working, draw the cluster_centers_ on the scatter plot as well"
   ]
  },
  {
   "cell_type": "code",
   "execution_count": null,
   "metadata": {
    "collapsed": true
   },
   "outputs": [],
   "source": [
    "# (Optional) What does a scatter plot of some of the other columns look like?\n",
    "# (Optional) What does a 3D plot look like?"
   ]
  },
  {
   "cell_type": "markdown",
   "metadata": {},
   "source": [
    "## Same again, using DBSCAN"
   ]
  },
  {
   "cell_type": "code",
   "execution_count": null,
   "metadata": {
    "collapsed": true
   },
   "outputs": [],
   "source": [
    "# Create a DBSCAN clusterer. Try eps=0.4 with min_samples=3\n"
   ]
  },
  {
   "cell_type": "code",
   "execution_count": null,
   "metadata": {
    "collapsed": true
   },
   "outputs": [],
   "source": [
    "# Try to cluster that iris_data"
   ]
  },
  {
   "cell_type": "code",
   "execution_count": null,
   "metadata": {
    "collapsed": true
   },
   "outputs": [],
   "source": [
    "# How many clusters does it find? (Remember that -1 means \"outlier\", \n",
    "# and that the clusters are number starting with cluster 0)"
   ]
  },
  {
   "cell_type": "code",
   "execution_count": null,
   "metadata": {
    "collapsed": true
   },
   "outputs": [],
   "source": [
    "# Colouring is a little more difficult: make a dictionary. Set\n",
    "# the keys to being all possible cluster numbers (including -1);\n",
    "# set the corresponding values to different colours"
   ]
  },
  {
   "cell_type": "code",
   "execution_count": null,
   "metadata": {
    "collapsed": true
   },
   "outputs": [],
   "source": [
    "# Create a list of colour annotations by mapping the fit_predict()\n",
    "# output through your dictionary. e.g. you could create a list\n",
    "# comprehension, or you could use the map() function, or iterate\n",
    "# through the fit_predict() output"
   ]
  },
  {
   "cell_type": "code",
   "execution_count": null,
   "metadata": {
    "collapsed": true
   },
   "outputs": [],
   "source": [
    "# Create a scatter plot. How does it compare to the KMeans clustering?"
   ]
  },
  {
   "cell_type": "markdown",
   "metadata": {},
   "source": [
    "## Finding an appropriate number of clusters with KMeans\n",
    "\n",
    "And we'll also use the Silhouette coefficient"
   ]
  },
  {
   "cell_type": "code",
   "execution_count": null,
   "metadata": {
    "collapsed": true
   },
   "outputs": [],
   "source": [
    "# Create 15 different KMeans clusterers, each\n",
    "# with values 1..15 n_clusters.\n",
    "# Create a bunch of different models"
   ]
  },
  {
   "cell_type": "code",
   "execution_count": null,
   "metadata": {
    "collapsed": true
   },
   "outputs": [],
   "source": [
    "# Use these 15 clusterers on the iris_data"
   ]
  },
  {
   "cell_type": "code",
   "execution_count": null,
   "metadata": {
    "collapsed": true
   },
   "outputs": [],
   "source": [
    "# Calculate the silhouette scores for these clusterings (there might be problems with\n",
    "# calculating a silhouette score for the n_clusters=1 clusterer)"
   ]
  },
  {
   "cell_type": "code",
   "execution_count": null,
   "metadata": {
    "collapsed": true
   },
   "outputs": [],
   "source": [
    "# Plot the silhouette score against the number of clusters.\n",
    "# Are there \"elbows\" in this graph? (i.e. points where adding extra\n",
    "# clusters doesn't make that much extra difference to the silhouette score)"
   ]
  }
 ],
 "metadata": {
  "kernelspec": {
   "display_name": "Python 2",
   "language": "python",
   "name": "python2"
  },
  "language_info": {
   "codemirror_mode": {
    "name": "ipython",
    "version": 2
   },
   "file_extension": ".py",
   "mimetype": "text/x-python",
   "name": "python",
   "nbconvert_exporter": "python",
   "pygments_lexer": "ipython2",
   "version": "2.7.11+"
  }
 },
 "nbformat": 4,
 "nbformat_minor": 0
}
