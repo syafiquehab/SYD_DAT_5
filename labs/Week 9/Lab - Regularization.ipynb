{
 "cells": [
  {
   "cell_type": "markdown",
   "metadata": {},
   "source": [
    "# Lab - Regularization\n"
   ]
  },
  {
   "cell_type": "markdown",
   "metadata": {},
   "source": [
    "The data we'll work with is http://archive.ics.uci.edu/ml/machine-learning-databases/communities/communities.data\n",
    "which is just a raw CSV file. The column headings are described here:\n",
    "http://archive.ics.uci.edu/ml/machine-learning-databases/communities/communities.names\n",
    "\n",
    "Many of these columns are highly correlated"
   ]
  },
  {
   "cell_type": "code",
   "execution_count": 2,
   "metadata": {
    "collapsed": true
   },
   "outputs": [],
   "source": [
    "column_names = [\n",
    "'state',\n",
    "'county',\n",
    "'community',\n",
    "'communityname',\n",
    "'fold',\n",
    "'population',\n",
    "'householdsize',\n",
    "'racepctblack',\n",
    "'racePctWhite',\n",
    "'racePctAsian',\n",
    "'racePctHisp',\n",
    "'agePct12t21',\n",
    "'agePct12t29',\n",
    "'agePct16t24',\n",
    "'agePct65up',\n",
    "'numbUrban',\n",
    "'pctUrban',\n",
    "'medIncome',\n",
    "'pctWWage',\n",
    "'pctWFarmSelf',\n",
    "'pctWInvInc',\n",
    "'pctWSocSec',\n",
    "'pctWPubAsst',\n",
    "'pctWRetire',\n",
    "'medFamInc',\n",
    "'perCapInc',\n",
    "'whitePerCap',\n",
    "'blackPerCap',\n",
    "'indianPerCap',\n",
    "'AsianPerCap',\n",
    "'OtherPerCap',\n",
    "'HispPerCap',\n",
    "'NumUnderPov',\n",
    "'PctPopUnderPov',\n",
    "'PctLess9thGrade',\n",
    "'PctNotHSGrad',\n",
    "'PctBSorMore',\n",
    "'PctUnemployed',\n",
    "'PctEmploy',\n",
    "'PctEmplManu',\n",
    "'PctEmplProfServ',\n",
    "'PctOccupManu',\n",
    "'PctOccupMgmtProf',\n",
    "'MalePctDivorce',\n",
    "'MalePctNevMarr',\n",
    "'FemalePctDiv',\n",
    "'TotalPctDiv',\n",
    "'PersPerFam',\n",
    "'PctFam2Par',\n",
    "'PctKids2Par',\n",
    "'PctYoungKids2Par',\n",
    "'PctTeen2Par',\n",
    "'PctWorkMomYoungKids',\n",
    "'PctWorkMom',\n",
    "'NumIlleg',\n",
    "'PctIlleg',\n",
    "'NumImmig',\n",
    "'PctImmigRecent',\n",
    "'PctImmigRec5',\n",
    "'PctImmigRec8',\n",
    "'PctImmigRec10',\n",
    "'PctRecentImmig',\n",
    "'PctRecImmig5',\n",
    "'PctRecImmig8',\n",
    "'PctRecImmig10',\n",
    "'PctSpeakEnglOnly',\n",
    "'PctNotSpeakEnglWell',\n",
    "'PctLargHouseFam',\n",
    "'PctLargHouseOccup',\n",
    "'PersPerOccupHous',\n",
    "'PersPerOwnOccHous',\n",
    "'PersPerRentOccHous',\n",
    "'PctPersOwnOccup',\n",
    "'PctPersDenseHous',\n",
    "'PctHousLess3BR',\n",
    "'MedNumBR',\n",
    "'HousVacant',\n",
    "'PctHousOccup',\n",
    "'PctHousOwnOcc',\n",
    "'PctVacantBoarded',\n",
    "'PctVacMore6Mos',\n",
    "'MedYrHousBuilt',\n",
    "'PctHousNoPhone',\n",
    "'PctWOFullPlumb',\n",
    "'OwnOccLowQuart',\n",
    "'OwnOccMedVal',\n",
    "'OwnOccHiQuart',\n",
    "'RentLowQ',\n",
    "'RentMedian',\n",
    "'RentHighQ',\n",
    "'MedRent',\n",
    "'MedRentPctHousInc',\n",
    "'MedOwnCostPctInc',\n",
    "'MedOwnCostPctIncNoMtg',\n",
    "'NumInShelters',\n",
    "'NumStreet',\n",
    "'PctForeignBorn',\n",
    "'PctBornSameState',\n",
    "'PctSameHouse85',\n",
    "'PctSameCity85',\n",
    "'PctSameState85',\n",
    "'LemasSwornFT',\n",
    "'LemasSwFTPerPop',\n",
    "'LemasSwFTFieldOps',\n",
    "'LemasSwFTFieldPerPop',\n",
    "'LemasTotalReq',\n",
    "'LemasTotReqPerPop',\n",
    "'PolicReqPerOffic',\n",
    "'PolicPerPop',\n",
    "'RacialMatchCommPol',\n",
    "'PctPolicWhite',\n",
    "'PctPolicBlack',\n",
    "'PctPolicHisp',\n",
    "'PctPolicAsian',\n",
    "'PctPolicMinor',\n",
    "'OfficAssgnDrugUnits',\n",
    "'NumKindsDrugsSeiz',\n",
    "'PolicAveOTWorked',\n",
    "'LandArea',\n",
    "'PopDens',\n",
    "'PctUsePubTrans',\n",
    "'PolicCars',\n",
    "'PolicOperBudg',\n",
    "'LemasPctPolicOnPatr',\n",
    "'LemasGangUnitDeploy',\n",
    "'LemasPctOfficDrugUn',\n",
    "'PolicBudgPerPop',\n",
    "'ViolentCrimesPerPop']"
   ]
  },
  {
   "cell_type": "code",
   "execution_count": 8,
   "metadata": {
    "collapsed": false
   },
   "outputs": [],
   "source": [
    "import pandas\n",
    "crime = pandas.read_csv('http://archive.ics.uci.edu/ml/machine-learning-databases/communities/communities.data', \n",
    "                    header=None, na_values=['?'],\n",
    "                        names=column_names,\n",
    "                    index_col='communityname')\n",
    "crime "
   ]
  },
  {
   "cell_type": "code",
   "execution_count": null,
   "metadata": {
    "collapsed": true
   },
   "outputs": [],
   "source": [
    "# The first interesting column is the 'population' column, and we are aiming to \n",
    "# predict the final column (ViolentCrimesPerPop)\n",
    "# Create a suitable subset of the data frame to act as your X and y"
   ]
  },
  {
   "cell_type": "code",
   "execution_count": null,
   "metadata": {
    "collapsed": true
   },
   "outputs": [],
   "source": [
    "# Do something with any missing data.\n",
    "# Then split your data into test and learning sets."
   ]
  },
  {
   "cell_type": "code",
   "execution_count": null,
   "metadata": {
    "collapsed": true
   },
   "outputs": [],
   "source": [
    "# Try using Ordinary Least Squares (sklearn.linear_model.LinearRegression)\n",
    "# to fit this data."
   ]
  },
  {
   "cell_type": "code",
   "execution_count": null,
   "metadata": {
    "collapsed": true
   },
   "outputs": [],
   "source": [
    "# Display the coef_ attribute from your regressor. You might want\n",
    "# to zip it together with the column names"
   ]
  },
  {
   "cell_type": "code",
   "execution_count": null,
   "metadata": {
    "collapsed": true
   },
   "outputs": [],
   "source": [
    "# How well does it perform as a predictor?\n",
    "# Hint: try sklearn.metrics.mean_squared_error"
   ]
  },
  {
   "cell_type": "code",
   "execution_count": null,
   "metadata": {
    "collapsed": true
   },
   "outputs": [],
   "source": [
    "# Repeat with Lasso, Ridge and ElasticNet\n",
    "# What happens to the coef_ attributes?\n",
    "# How much worse are the predictions?"
   ]
  },
  {
   "cell_type": "code",
   "execution_count": null,
   "metadata": {
    "collapsed": true
   },
   "outputs": [],
   "source": [
    "# Try using RidgeCV, LassoCV and ElasticNetCV\n",
    "# to brute-force compromise values."
   ]
  },
  {
   "cell_type": "code",
   "execution_count": null,
   "metadata": {
    "collapsed": true
   },
   "outputs": [],
   "source": [
    "# If you scale this data with StandardScaler or RobustScalar, does it make a difference?"
   ]
  }
 ],
 "metadata": {
  "kernelspec": {
   "display_name": "Python 2",
   "language": "python",
   "name": "python2"
  },
  "language_info": {
   "codemirror_mode": {
    "name": "ipython",
    "version": 2
   },
   "file_extension": ".py",
   "mimetype": "text/x-python",
   "name": "python",
   "nbconvert_exporter": "python",
   "pygments_lexer": "ipython2",
   "version": "2.7.11"
  }
 },
 "nbformat": 4,
 "nbformat_minor": 0
}
